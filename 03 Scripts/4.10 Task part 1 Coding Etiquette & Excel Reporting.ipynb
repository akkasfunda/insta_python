{
 "cells": [
  {
   "cell_type": "markdown",
   "id": "76d18e2b",
   "metadata": {},
   "source": [
    "### Exercise 4.10 Coding Etiquette & Excel Reporting "
   ]
  },
  {
   "cell_type": "markdown",
   "id": "9b934376",
   "metadata": {},
   "source": [
    "#### Part 1"
   ]
  },
  {
   "cell_type": "markdown",
   "id": "f709ab28",
   "metadata": {},
   "source": [
    "1. Import the data set you exported in Exercise 4.9 into a new Jupyter notebook. This should be the merged version of your data that contains the new customers column."
   ]
  },
  {
   "cell_type": "markdown",
   "id": "87cbcb4b",
   "metadata": {},
   "source": [
    "### Import libraries"
   ]
  },
  {
   "cell_type": "code",
   "execution_count": 5,
   "id": "87c1016e",
   "metadata": {},
   "outputs": [],
   "source": [
    "import pandas as pd\n",
    "import numpy as np\n",
    "import os\n",
    "import matplotlib.pyplot as plt\n",
    "import seaborn as sns\n",
    "import scipy"
   ]
  },
  {
   "cell_type": "markdown",
   "id": "329afa38",
   "metadata": {},
   "source": [
    "#### Assign path"
   ]
  },
  {
   "cell_type": "code",
   "execution_count": 6,
   "id": "04ec04d6",
   "metadata": {},
   "outputs": [],
   "source": [
    "path = r\"C:\\Users\\sahin\\Documents\\Instacart Basket Analysis\""
   ]
  },
  {
   "cell_type": "markdown",
   "id": "d85bc67c",
   "metadata": {},
   "source": [
    "#### Import the exported data set from Exercise 4.9"
   ]
  },
  {
   "cell_type": "code",
   "execution_count": 7,
   "id": "07aea61c",
   "metadata": {},
   "outputs": [],
   "source": [
    "df_ords_prods_cust_merged = pd.read_pickle(os.path.join(path, '02 Data', 'Prepared data', '4.9_part1_ords_prods_customer.pkl'))"
   ]
  },
  {
   "cell_type": "markdown",
   "id": "834e6d77",
   "metadata": {},
   "source": [
    "#### Check shape"
   ]
  },
  {
   "cell_type": "code",
   "execution_count": 8,
   "id": "ed24d05f",
   "metadata": {},
   "outputs": [
    {
     "data": {
      "text/plain": [
       "(32641268, 28)"
      ]
     },
     "execution_count": 8,
     "metadata": {},
     "output_type": "execute_result"
    }
   ],
   "source": [
    "df_ords_prods_cust_merged.shape"
   ]
  },
  {
   "cell_type": "markdown",
   "id": "8ab90880",
   "metadata": {},
   "source": [
    "#### Check headers"
   ]
  },
  {
   "cell_type": "code",
   "execution_count": 9,
   "id": "9a533c65",
   "metadata": {},
   "outputs": [
    {
     "data": {
      "text/html": [
       "<div>\n",
       "<style scoped>\n",
       "    .dataframe tbody tr th:only-of-type {\n",
       "        vertical-align: middle;\n",
       "    }\n",
       "\n",
       "    .dataframe tbody tr th {\n",
       "        vertical-align: top;\n",
       "    }\n",
       "\n",
       "    .dataframe thead th {\n",
       "        text-align: right;\n",
       "    }\n",
       "</style>\n",
       "<table border=\"1\" class=\"dataframe\">\n",
       "  <thead>\n",
       "    <tr style=\"text-align: right;\">\n",
       "      <th></th>\n",
       "      <th>order_id</th>\n",
       "      <th>user_id</th>\n",
       "      <th>order_number</th>\n",
       "      <th>orders_day_of_the_week</th>\n",
       "      <th>order_hour_of_day</th>\n",
       "      <th>days_since_prior_order</th>\n",
       "      <th>product_id</th>\n",
       "      <th>add_to_cart_order</th>\n",
       "      <th>reordered</th>\n",
       "      <th>product_name</th>\n",
       "      <th>...</th>\n",
       "      <th>order_frequency_flag</th>\n",
       "      <th>surname</th>\n",
       "      <th>gender</th>\n",
       "      <th>state</th>\n",
       "      <th>age</th>\n",
       "      <th>date_joined</th>\n",
       "      <th>n_dependants</th>\n",
       "      <th>fam_status</th>\n",
       "      <th>income</th>\n",
       "      <th>_merge</th>\n",
       "    </tr>\n",
       "  </thead>\n",
       "  <tbody>\n",
       "    <tr>\n",
       "      <th>0</th>\n",
       "      <td>2539329</td>\n",
       "      <td>1</td>\n",
       "      <td>1</td>\n",
       "      <td>2</td>\n",
       "      <td>8</td>\n",
       "      <td>NaN</td>\n",
       "      <td>196.0</td>\n",
       "      <td>1.0</td>\n",
       "      <td>0.0</td>\n",
       "      <td>Soda</td>\n",
       "      <td>...</td>\n",
       "      <td>Regular customer</td>\n",
       "      <td>Nguyen</td>\n",
       "      <td>Female</td>\n",
       "      <td>Alabama</td>\n",
       "      <td>31</td>\n",
       "      <td>2/17/2019</td>\n",
       "      <td>3</td>\n",
       "      <td>married</td>\n",
       "      <td>40423</td>\n",
       "      <td>both</td>\n",
       "    </tr>\n",
       "  </tbody>\n",
       "</table>\n",
       "<p>1 rows × 28 columns</p>\n",
       "</div>"
      ],
      "text/plain": [
       "   order_id  user_id  order_number  orders_day_of_the_week  order_hour_of_day  \\\n",
       "0   2539329        1             1                       2                  8   \n",
       "\n",
       "   days_since_prior_order  product_id  add_to_cart_order  reordered  \\\n",
       "0                     NaN       196.0                1.0        0.0   \n",
       "\n",
       "  product_name  ...  order_frequency_flag  surname  gender    state age  \\\n",
       "0         Soda  ...      Regular customer   Nguyen  Female  Alabama  31   \n",
       "\n",
       "   date_joined n_dependants  fam_status income _merge  \n",
       "0    2/17/2019            3     married  40423   both  \n",
       "\n",
       "[1 rows x 28 columns]"
      ]
     },
     "execution_count": 9,
     "metadata": {},
     "output_type": "execute_result"
    }
   ],
   "source": [
    "df_ords_prods_cust_merged.head(1)"
   ]
  },
  {
   "cell_type": "code",
   "execution_count": null,
   "id": "4c7073cd",
   "metadata": {},
   "outputs": [],
   "source": []
  },
  {
   "cell_type": "markdown",
   "id": "40b1eef5",
   "metadata": {},
   "source": [
    "2. Consider any security implications that might exist for this new data. You’ll need to address any PII data in the data before continuing your analysis."
   ]
  },
  {
   "cell_type": "markdown",
   "id": "4c4693c4",
   "metadata": {},
   "source": [
    "*** There is PII data in this data set. Below is a list of data that can be used to traced back to a particular person.\n",
    " ** Surname**\n",
    "*** These names cannot be used in this analysis. Instead of deleting \"surname\" column, a copy of the data set will be made without this column.  "
   ]
  },
  {
   "cell_type": "code",
   "execution_count": 10,
   "id": "a176c76c",
   "metadata": {},
   "outputs": [],
   "source": [
    "df_ords_prods_cust_merged = df_ords_prods_cust_merged.drop(columns = ['surname'])"
   ]
  },
  {
   "cell_type": "code",
   "execution_count": 11,
   "id": "cb0fac11",
   "metadata": {},
   "outputs": [
    {
     "data": {
      "text/html": [
       "<div>\n",
       "<style scoped>\n",
       "    .dataframe tbody tr th:only-of-type {\n",
       "        vertical-align: middle;\n",
       "    }\n",
       "\n",
       "    .dataframe tbody tr th {\n",
       "        vertical-align: top;\n",
       "    }\n",
       "\n",
       "    .dataframe thead th {\n",
       "        text-align: right;\n",
       "    }\n",
       "</style>\n",
       "<table border=\"1\" class=\"dataframe\">\n",
       "  <thead>\n",
       "    <tr style=\"text-align: right;\">\n",
       "      <th></th>\n",
       "      <th>order_id</th>\n",
       "      <th>user_id</th>\n",
       "      <th>order_number</th>\n",
       "      <th>orders_day_of_the_week</th>\n",
       "      <th>order_hour_of_day</th>\n",
       "      <th>days_since_prior_order</th>\n",
       "      <th>product_id</th>\n",
       "      <th>add_to_cart_order</th>\n",
       "      <th>reordered</th>\n",
       "      <th>product_name</th>\n",
       "      <th>...</th>\n",
       "      <th>order_frequency</th>\n",
       "      <th>order_frequency_flag</th>\n",
       "      <th>gender</th>\n",
       "      <th>state</th>\n",
       "      <th>age</th>\n",
       "      <th>date_joined</th>\n",
       "      <th>n_dependants</th>\n",
       "      <th>fam_status</th>\n",
       "      <th>income</th>\n",
       "      <th>_merge</th>\n",
       "    </tr>\n",
       "  </thead>\n",
       "  <tbody>\n",
       "    <tr>\n",
       "      <th>0</th>\n",
       "      <td>2539329</td>\n",
       "      <td>1</td>\n",
       "      <td>1</td>\n",
       "      <td>2</td>\n",
       "      <td>8</td>\n",
       "      <td>NaN</td>\n",
       "      <td>196.0</td>\n",
       "      <td>1.0</td>\n",
       "      <td>0.0</td>\n",
       "      <td>Soda</td>\n",
       "      <td>...</td>\n",
       "      <td>20.0</td>\n",
       "      <td>Regular customer</td>\n",
       "      <td>Female</td>\n",
       "      <td>Alabama</td>\n",
       "      <td>31</td>\n",
       "      <td>2/17/2019</td>\n",
       "      <td>3</td>\n",
       "      <td>married</td>\n",
       "      <td>40423</td>\n",
       "      <td>both</td>\n",
       "    </tr>\n",
       "  </tbody>\n",
       "</table>\n",
       "<p>1 rows × 27 columns</p>\n",
       "</div>"
      ],
      "text/plain": [
       "   order_id  user_id  order_number  orders_day_of_the_week  order_hour_of_day  \\\n",
       "0   2539329        1             1                       2                  8   \n",
       "\n",
       "   days_since_prior_order  product_id  add_to_cart_order  reordered  \\\n",
       "0                     NaN       196.0                1.0        0.0   \n",
       "\n",
       "  product_name  ...  order_frequency  order_frequency_flag  gender    state  \\\n",
       "0         Soda  ...             20.0      Regular customer  Female  Alabama   \n",
       "\n",
       "  age  date_joined n_dependants  fam_status income _merge  \n",
       "0  31    2/17/2019            3     married  40423   both  \n",
       "\n",
       "[1 rows x 27 columns]"
      ]
     },
     "execution_count": 11,
     "metadata": {},
     "output_type": "execute_result"
    }
   ],
   "source": [
    "df_ords_prods_cust_merged.head(1)"
   ]
  },
  {
   "cell_type": "markdown",
   "id": "9b0c559f",
   "metadata": {},
   "source": [
    "3. The Instacart officers are interested in comparing customer behavior in different geographic areas. Create a regional segmentation of the data. You’ll need to create a “Region” column based on the “State” column from your customers data set.\n",
    "*** Use the region information in this Wikipedia article to create your column (you only need to create regions, not divisions).\n",
    "*** Determine whether there’s a difference in spending habits between the different U.S. regions. (Hint: You can do this by crossing the variable you just created with the spending flag.)"
   ]
  },
  {
   "cell_type": "markdown",
   "id": "8d75adbb",
   "metadata": {},
   "source": [
    "#### create 'region' column that divides states up into regions based on wikipedia grouping https://simple.wikipedia.org/wiki/List_of_regions_of_the_United_States"
   ]
  },
  {
   "cell_type": "code",
   "execution_count": 12,
   "id": "cb54e8c4",
   "metadata": {},
   "outputs": [],
   "source": [
    "result = []\n",
    "\n",
    "for value in df_ords_prods_cust_merged['state']:\n",
    "    if (value == 'Maine') or (value == 'New Hampshire') or (value == 'Vermont') or (value == 'Massachusetts') or (value == 'Rhode Island') or (value == 'Connecticut') or (value == 'New York') or (value == 'Pennsylvania') or (value == 'New Jersey'):\n",
    "        result.append('Northeast')\n",
    "    elif (value == 'Wisconsin') or (value == 'Michigan') or (value == 'Illinois') or (value == 'Indiana') or (value == 'Ohio') or (value == 'North Dakota') or (value == 'South Dakota') or (value == 'Nebraska') or (value == 'Kansas') or (value == 'Minnesota') or (value == 'Iowa') or (value == 'Missouri'):       \n",
    "        result.append('Midwest')\n",
    "    elif (value == 'Delaware') or(value == 'Maryland') or (value == 'District of Columbia') or (value == 'Virginia') or (value == 'West Virginia') or (value == 'North Carolina') or (value == 'South Carolina') or (value == 'Georgia') or (value == 'Florida') or (value == 'Kentucky') or (value == 'Tennessee') or (value == 'Mississippi') or (value == 'Alabama') or (value == 'Oklahoma') or (value == 'Texas') or (value == 'Arkansa') or (value == 'Louisiana'):        \n",
    "        result.append('South')\n",
    "    else:\n",
    "        result.append('West')\n",
    "\n",
    "    "
   ]
  },
  {
   "cell_type": "markdown",
   "id": "9294947a",
   "metadata": {},
   "source": [
    "#### print the results"
   ]
  },
  {
   "cell_type": "code",
   "execution_count": 13,
   "id": "a8fa1813",
   "metadata": {},
   "outputs": [
    {
     "data": {
      "text/plain": [
       "['South',\n",
       " 'South',\n",
       " 'South',\n",
       " 'South',\n",
       " 'South',\n",
       " 'South',\n",
       " 'South',\n",
       " 'South',\n",
       " 'South',\n",
       " 'South',\n",
       " 'South',\n",
       " 'South',\n",
       " 'South',\n",
       " 'South',\n",
       " 'South',\n",
       " 'South',\n",
       " 'South',\n",
       " 'South',\n",
       " 'South',\n",
       " 'South',\n",
       " 'South',\n",
       " 'South',\n",
       " 'South',\n",
       " 'South',\n",
       " 'South',\n",
       " 'South',\n",
       " 'South',\n",
       " 'South',\n",
       " 'South',\n",
       " 'South',\n",
       " 'South',\n",
       " 'South',\n",
       " 'South',\n",
       " 'South',\n",
       " 'South',\n",
       " 'South',\n",
       " 'South',\n",
       " 'South',\n",
       " 'South',\n",
       " 'South',\n",
       " 'South',\n",
       " 'South',\n",
       " 'South',\n",
       " 'South',\n",
       " 'South',\n",
       " 'South',\n",
       " 'South',\n",
       " 'South',\n",
       " 'South',\n",
       " 'South',\n",
       " 'South',\n",
       " 'South',\n",
       " 'South',\n",
       " 'South',\n",
       " 'South',\n",
       " 'South',\n",
       " 'South',\n",
       " 'South',\n",
       " 'South',\n",
       " 'South',\n",
       " 'West',\n",
       " 'West',\n",
       " 'West',\n",
       " 'West',\n",
       " 'West',\n",
       " 'West',\n",
       " 'West',\n",
       " 'West',\n",
       " 'West',\n",
       " 'West',\n",
       " 'West',\n",
       " 'West',\n",
       " 'West',\n",
       " 'West',\n",
       " 'West',\n",
       " 'West',\n",
       " 'West',\n",
       " 'West',\n",
       " 'West',\n",
       " 'West',\n",
       " 'West',\n",
       " 'West',\n",
       " 'West',\n",
       " 'West',\n",
       " 'West',\n",
       " 'West',\n",
       " 'West',\n",
       " 'West',\n",
       " 'West',\n",
       " 'West',\n",
       " 'West',\n",
       " 'West',\n",
       " 'West',\n",
       " 'West',\n",
       " 'West',\n",
       " 'West',\n",
       " 'West',\n",
       " 'West',\n",
       " 'West',\n",
       " 'West',\n",
       " 'West',\n",
       " 'West',\n",
       " 'West',\n",
       " 'West',\n",
       " 'West',\n",
       " 'West',\n",
       " 'West',\n",
       " 'West',\n",
       " 'West',\n",
       " 'West',\n",
       " 'West',\n",
       " 'West',\n",
       " 'West',\n",
       " 'West',\n",
       " 'West',\n",
       " 'West',\n",
       " 'West',\n",
       " 'West',\n",
       " 'West',\n",
       " 'West',\n",
       " 'West',\n",
       " 'West',\n",
       " 'West',\n",
       " 'West',\n",
       " 'West',\n",
       " 'West',\n",
       " 'West',\n",
       " 'West',\n",
       " 'West',\n",
       " 'West',\n",
       " 'West',\n",
       " 'West',\n",
       " 'West',\n",
       " 'West',\n",
       " 'West',\n",
       " 'West',\n",
       " 'West',\n",
       " 'West',\n",
       " 'West',\n",
       " 'West',\n",
       " 'West',\n",
       " 'West',\n",
       " 'West',\n",
       " 'West',\n",
       " 'West',\n",
       " 'West',\n",
       " 'West',\n",
       " 'West',\n",
       " 'West',\n",
       " 'West',\n",
       " 'West',\n",
       " 'West',\n",
       " 'West',\n",
       " 'West',\n",
       " 'West',\n",
       " 'West',\n",
       " 'West',\n",
       " 'West',\n",
       " 'West',\n",
       " 'West',\n",
       " 'West',\n",
       " 'West',\n",
       " 'West',\n",
       " 'West',\n",
       " 'West',\n",
       " 'West',\n",
       " 'West',\n",
       " 'West',\n",
       " 'West',\n",
       " 'West',\n",
       " 'West',\n",
       " 'West',\n",
       " 'West',\n",
       " 'West',\n",
       " 'West',\n",
       " 'West',\n",
       " 'West',\n",
       " 'West',\n",
       " 'West',\n",
       " 'West',\n",
       " 'West',\n",
       " 'West',\n",
       " 'West',\n",
       " 'West',\n",
       " 'West',\n",
       " 'West',\n",
       " 'West',\n",
       " 'West',\n",
       " 'West',\n",
       " 'West',\n",
       " 'West',\n",
       " 'West',\n",
       " 'West',\n",
       " 'West',\n",
       " 'West',\n",
       " 'West',\n",
       " 'West',\n",
       " 'West',\n",
       " 'West',\n",
       " 'West',\n",
       " 'West',\n",
       " 'West',\n",
       " 'West',\n",
       " 'West',\n",
       " 'West',\n",
       " 'West',\n",
       " 'West',\n",
       " 'West',\n",
       " 'West',\n",
       " 'West',\n",
       " 'West',\n",
       " 'West',\n",
       " 'West',\n",
       " 'West',\n",
       " 'West',\n",
       " 'West',\n",
       " 'West',\n",
       " 'West',\n",
       " 'West',\n",
       " 'West',\n",
       " 'West',\n",
       " 'West',\n",
       " 'West',\n",
       " 'West',\n",
       " 'West',\n",
       " 'West',\n",
       " 'West',\n",
       " 'West',\n",
       " 'West',\n",
       " 'West',\n",
       " 'West',\n",
       " 'West',\n",
       " 'West',\n",
       " 'West',\n",
       " 'West',\n",
       " 'West',\n",
       " 'West',\n",
       " 'West',\n",
       " 'West',\n",
       " 'West',\n",
       " 'West',\n",
       " 'West',\n",
       " 'West',\n",
       " 'West',\n",
       " 'West',\n",
       " 'West',\n",
       " 'West',\n",
       " 'West',\n",
       " 'West',\n",
       " 'West',\n",
       " 'West',\n",
       " 'West',\n",
       " 'West',\n",
       " 'West',\n",
       " 'West',\n",
       " 'West',\n",
       " 'West',\n",
       " 'West',\n",
       " 'West',\n",
       " 'West',\n",
       " 'West',\n",
       " 'West',\n",
       " 'West',\n",
       " 'West',\n",
       " 'West',\n",
       " 'West',\n",
       " 'West',\n",
       " 'West',\n",
       " 'West',\n",
       " 'West',\n",
       " 'West',\n",
       " 'West',\n",
       " 'West',\n",
       " 'West',\n",
       " 'West',\n",
       " 'West',\n",
       " 'West',\n",
       " 'West',\n",
       " 'West',\n",
       " 'West',\n",
       " 'West',\n",
       " 'West',\n",
       " 'West',\n",
       " 'West',\n",
       " 'West',\n",
       " 'West',\n",
       " 'West',\n",
       " 'West',\n",
       " 'West',\n",
       " 'West',\n",
       " 'West',\n",
       " 'West',\n",
       " 'West',\n",
       " 'West',\n",
       " 'West',\n",
       " 'West',\n",
       " 'West',\n",
       " 'West',\n",
       " 'West',\n",
       " 'West',\n",
       " 'West',\n",
       " 'West',\n",
       " 'West',\n",
       " 'West',\n",
       " 'West',\n",
       " 'West',\n",
       " 'West',\n",
       " 'West',\n",
       " 'West',\n",
       " 'West',\n",
       " 'West',\n",
       " 'West',\n",
       " 'West',\n",
       " 'West',\n",
       " 'West',\n",
       " 'West',\n",
       " 'West',\n",
       " 'West',\n",
       " 'West',\n",
       " 'West',\n",
       " 'West',\n",
       " 'West',\n",
       " 'West',\n",
       " 'West',\n",
       " 'West',\n",
       " 'West',\n",
       " 'West',\n",
       " 'West',\n",
       " 'West',\n",
       " 'West',\n",
       " 'West',\n",
       " 'West',\n",
       " 'West',\n",
       " 'West',\n",
       " 'West',\n",
       " 'West',\n",
       " 'West',\n",
       " 'West',\n",
       " 'West',\n",
       " 'West',\n",
       " 'West',\n",
       " 'West',\n",
       " 'West',\n",
       " 'West',\n",
       " 'West',\n",
       " 'West',\n",
       " 'West',\n",
       " 'West',\n",
       " 'West',\n",
       " 'West',\n",
       " 'West',\n",
       " 'West',\n",
       " 'West',\n",
       " 'West',\n",
       " 'West',\n",
       " 'West',\n",
       " 'West',\n",
       " 'West',\n",
       " 'West',\n",
       " 'West',\n",
       " 'West',\n",
       " 'West',\n",
       " 'West',\n",
       " 'West',\n",
       " 'West',\n",
       " 'West',\n",
       " 'West',\n",
       " 'West',\n",
       " 'West',\n",
       " 'West',\n",
       " 'West',\n",
       " 'West',\n",
       " 'West',\n",
       " 'West',\n",
       " 'West',\n",
       " 'West',\n",
       " 'West',\n",
       " 'West',\n",
       " 'West',\n",
       " 'West',\n",
       " 'West',\n",
       " 'West',\n",
       " 'West',\n",
       " 'West',\n",
       " 'West',\n",
       " 'West',\n",
       " 'West',\n",
       " 'West',\n",
       " 'West',\n",
       " 'West',\n",
       " 'West',\n",
       " 'West',\n",
       " 'West',\n",
       " 'West',\n",
       " 'West',\n",
       " 'West',\n",
       " 'West',\n",
       " 'West',\n",
       " 'West',\n",
       " 'West',\n",
       " 'West',\n",
       " 'West',\n",
       " 'West',\n",
       " 'West',\n",
       " 'West',\n",
       " 'West',\n",
       " 'West',\n",
       " 'West',\n",
       " 'West',\n",
       " 'West',\n",
       " 'West',\n",
       " 'West',\n",
       " 'West',\n",
       " 'West',\n",
       " 'West',\n",
       " 'West',\n",
       " 'West',\n",
       " 'Northeast',\n",
       " 'Northeast',\n",
       " 'Northeast',\n",
       " 'Northeast',\n",
       " 'Northeast',\n",
       " 'Northeast',\n",
       " 'Northeast',\n",
       " 'Northeast',\n",
       " 'Northeast',\n",
       " 'Northeast',\n",
       " 'Northeast',\n",
       " 'Northeast',\n",
       " 'Northeast',\n",
       " 'Northeast',\n",
       " 'Northeast',\n",
       " 'Northeast',\n",
       " 'Northeast',\n",
       " 'Northeast',\n",
       " 'Northeast',\n",
       " 'Northeast',\n",
       " 'Northeast',\n",
       " 'Northeast',\n",
       " 'Northeast',\n",
       " 'Northeast',\n",
       " 'Northeast',\n",
       " 'Northeast',\n",
       " 'Northeast',\n",
       " 'Northeast',\n",
       " 'Northeast',\n",
       " 'Northeast',\n",
       " 'Northeast',\n",
       " 'Northeast',\n",
       " 'Northeast',\n",
       " 'Northeast',\n",
       " 'Northeast',\n",
       " 'Northeast',\n",
       " 'Northeast',\n",
       " 'Northeast',\n",
       " 'Northeast',\n",
       " 'Northeast',\n",
       " 'Northeast',\n",
       " 'Northeast',\n",
       " 'Northeast',\n",
       " 'Northeast',\n",
       " 'Northeast',\n",
       " 'Northeast',\n",
       " 'Northeast',\n",
       " 'Northeast',\n",
       " 'Northeast',\n",
       " 'Northeast',\n",
       " 'Northeast',\n",
       " 'Northeast',\n",
       " 'Northeast',\n",
       " 'Northeast',\n",
       " 'Northeast',\n",
       " 'Northeast',\n",
       " 'Northeast',\n",
       " 'Northeast',\n",
       " 'Northeast',\n",
       " 'Northeast',\n",
       " 'Northeast',\n",
       " 'Northeast',\n",
       " 'Northeast',\n",
       " 'Northeast',\n",
       " 'Northeast',\n",
       " 'Northeast',\n",
       " 'Northeast',\n",
       " 'Northeast',\n",
       " 'Northeast',\n",
       " 'Northeast',\n",
       " 'Northeast',\n",
       " 'Northeast',\n",
       " 'Northeast',\n",
       " 'Northeast',\n",
       " 'Northeast',\n",
       " 'Northeast',\n",
       " 'Northeast',\n",
       " 'Northeast',\n",
       " 'Northeast',\n",
       " 'Northeast',\n",
       " 'Northeast',\n",
       " 'Northeast',\n",
       " 'Northeast',\n",
       " 'Northeast',\n",
       " 'Northeast',\n",
       " 'Northeast',\n",
       " 'Northeast',\n",
       " 'Northeast',\n",
       " 'Northeast',\n",
       " 'Northeast',\n",
       " 'Northeast',\n",
       " 'Northeast',\n",
       " 'Northeast',\n",
       " 'Northeast',\n",
       " 'Northeast',\n",
       " 'Northeast',\n",
       " 'Northeast',\n",
       " 'Northeast',\n",
       " 'Northeast',\n",
       " 'Northeast',\n",
       " 'Northeast',\n",
       " 'Northeast',\n",
       " 'Northeast',\n",
       " 'Northeast',\n",
       " 'Northeast',\n",
       " 'Northeast',\n",
       " 'Northeast',\n",
       " 'Northeast',\n",
       " 'Northeast',\n",
       " 'Northeast',\n",
       " 'Northeast',\n",
       " 'Northeast',\n",
       " 'Northeast',\n",
       " 'Northeast',\n",
       " 'Northeast',\n",
       " 'Northeast',\n",
       " 'Northeast',\n",
       " 'Northeast',\n",
       " 'Northeast',\n",
       " 'Northeast',\n",
       " 'Northeast',\n",
       " 'Northeast',\n",
       " 'Northeast',\n",
       " 'Northeast',\n",
       " 'Northeast',\n",
       " 'Northeast',\n",
       " 'Northeast',\n",
       " 'Northeast',\n",
       " 'Northeast',\n",
       " 'Northeast',\n",
       " 'Northeast',\n",
       " 'Northeast',\n",
       " 'Northeast',\n",
       " 'Northeast',\n",
       " 'Northeast',\n",
       " 'Northeast',\n",
       " 'Northeast',\n",
       " 'Northeast',\n",
       " 'Northeast',\n",
       " 'Northeast',\n",
       " 'Northeast',\n",
       " 'Northeast',\n",
       " 'Northeast',\n",
       " 'Northeast',\n",
       " 'Northeast',\n",
       " 'Northeast',\n",
       " 'Northeast',\n",
       " 'Northeast',\n",
       " 'Northeast',\n",
       " 'Northeast',\n",
       " 'Northeast',\n",
       " 'Northeast',\n",
       " 'Northeast',\n",
       " 'Northeast',\n",
       " 'Northeast',\n",
       " 'Northeast',\n",
       " 'Northeast',\n",
       " 'Northeast',\n",
       " 'Northeast',\n",
       " 'Northeast',\n",
       " 'Northeast',\n",
       " 'Northeast',\n",
       " 'Northeast',\n",
       " 'Northeast',\n",
       " 'Northeast',\n",
       " 'Northeast',\n",
       " 'Northeast',\n",
       " 'Northeast',\n",
       " 'Northeast',\n",
       " 'Northeast',\n",
       " 'Northeast',\n",
       " 'Northeast',\n",
       " 'Northeast',\n",
       " 'Northeast',\n",
       " 'Northeast',\n",
       " 'Northeast',\n",
       " 'Northeast',\n",
       " 'Northeast',\n",
       " 'Northeast',\n",
       " 'Northeast',\n",
       " 'Northeast',\n",
       " 'Northeast',\n",
       " 'Northeast',\n",
       " 'Northeast',\n",
       " 'Northeast',\n",
       " 'Northeast',\n",
       " 'Northeast',\n",
       " 'Northeast',\n",
       " 'Northeast',\n",
       " 'Northeast',\n",
       " 'Northeast',\n",
       " 'Northeast',\n",
       " 'Northeast',\n",
       " 'Northeast',\n",
       " 'Northeast',\n",
       " 'Northeast',\n",
       " 'Northeast',\n",
       " 'Northeast',\n",
       " 'Northeast',\n",
       " 'Northeast',\n",
       " 'Northeast',\n",
       " 'Northeast',\n",
       " 'Northeast',\n",
       " 'Northeast',\n",
       " 'Northeast',\n",
       " 'Northeast',\n",
       " 'Northeast',\n",
       " 'South',\n",
       " 'South',\n",
       " 'South',\n",
       " 'South',\n",
       " 'South',\n",
       " 'South',\n",
       " 'South',\n",
       " 'South',\n",
       " 'South',\n",
       " 'South',\n",
       " 'South',\n",
       " 'South',\n",
       " 'South',\n",
       " 'South',\n",
       " 'South',\n",
       " 'South',\n",
       " 'South',\n",
       " 'South',\n",
       " 'South',\n",
       " 'South',\n",
       " 'South',\n",
       " 'South',\n",
       " 'South',\n",
       " 'South',\n",
       " 'South',\n",
       " 'South',\n",
       " 'South',\n",
       " 'South',\n",
       " 'South',\n",
       " 'South',\n",
       " 'South',\n",
       " 'South',\n",
       " 'South',\n",
       " 'South',\n",
       " 'South',\n",
       " 'South',\n",
       " 'South',\n",
       " 'South',\n",
       " 'South',\n",
       " 'South',\n",
       " 'South',\n",
       " 'South',\n",
       " 'South',\n",
       " 'South',\n",
       " 'South',\n",
       " 'South',\n",
       " 'South',\n",
       " 'South',\n",
       " 'South',\n",
       " 'South',\n",
       " 'South',\n",
       " 'South',\n",
       " 'South',\n",
       " 'South',\n",
       " 'South',\n",
       " 'South',\n",
       " 'South',\n",
       " 'South',\n",
       " 'South',\n",
       " 'South',\n",
       " 'South',\n",
       " 'South',\n",
       " 'South',\n",
       " 'South',\n",
       " 'South',\n",
       " 'South',\n",
       " 'South',\n",
       " 'South',\n",
       " 'South',\n",
       " 'South',\n",
       " 'South',\n",
       " 'South',\n",
       " 'South',\n",
       " 'South',\n",
       " 'South',\n",
       " 'South',\n",
       " 'South',\n",
       " 'South',\n",
       " 'South',\n",
       " 'South',\n",
       " 'South',\n",
       " 'South',\n",
       " 'South',\n",
       " 'South',\n",
       " 'South',\n",
       " 'South',\n",
       " 'South',\n",
       " 'South',\n",
       " 'South',\n",
       " 'South',\n",
       " 'South',\n",
       " 'South',\n",
       " 'South',\n",
       " 'South',\n",
       " 'South',\n",
       " 'South',\n",
       " 'South',\n",
       " 'South',\n",
       " 'South',\n",
       " 'South',\n",
       " 'South',\n",
       " 'South',\n",
       " 'South',\n",
       " 'South',\n",
       " 'South',\n",
       " 'South',\n",
       " 'South',\n",
       " 'South',\n",
       " 'South',\n",
       " 'South',\n",
       " 'South',\n",
       " 'South',\n",
       " 'South',\n",
       " 'South',\n",
       " 'South',\n",
       " 'South',\n",
       " 'South',\n",
       " 'South',\n",
       " 'South',\n",
       " 'South',\n",
       " 'South',\n",
       " 'South',\n",
       " 'South',\n",
       " 'South',\n",
       " 'South',\n",
       " 'South',\n",
       " 'South',\n",
       " 'South',\n",
       " 'South',\n",
       " 'South',\n",
       " 'South',\n",
       " 'South',\n",
       " 'South',\n",
       " 'South',\n",
       " 'South',\n",
       " 'South',\n",
       " 'South',\n",
       " 'South',\n",
       " 'South',\n",
       " 'South',\n",
       " 'South',\n",
       " 'South',\n",
       " 'South',\n",
       " 'South',\n",
       " 'South',\n",
       " 'South',\n",
       " 'South',\n",
       " 'South',\n",
       " 'South',\n",
       " 'South',\n",
       " 'South',\n",
       " 'South',\n",
       " 'South',\n",
       " 'South',\n",
       " 'South',\n",
       " 'South',\n",
       " 'South',\n",
       " 'South',\n",
       " 'South',\n",
       " 'South',\n",
       " 'South',\n",
       " 'South',\n",
       " 'South',\n",
       " 'South',\n",
       " 'South',\n",
       " 'South',\n",
       " 'South',\n",
       " 'South',\n",
       " 'South',\n",
       " 'South',\n",
       " 'South',\n",
       " 'South',\n",
       " 'South',\n",
       " 'South',\n",
       " 'South',\n",
       " 'South',\n",
       " 'South',\n",
       " 'South',\n",
       " 'South',\n",
       " 'South',\n",
       " 'South',\n",
       " 'South',\n",
       " 'South',\n",
       " 'South',\n",
       " 'South',\n",
       " 'South',\n",
       " 'South',\n",
       " 'South',\n",
       " 'South',\n",
       " 'South',\n",
       " 'South',\n",
       " 'South',\n",
       " 'South',\n",
       " 'South',\n",
       " 'South',\n",
       " 'South',\n",
       " 'South',\n",
       " 'South',\n",
       " 'South',\n",
       " 'South',\n",
       " 'South',\n",
       " 'South',\n",
       " 'South',\n",
       " 'South',\n",
       " 'South',\n",
       " 'South',\n",
       " 'South',\n",
       " 'South',\n",
       " 'South',\n",
       " 'South',\n",
       " 'South',\n",
       " 'South',\n",
       " 'South',\n",
       " 'South',\n",
       " 'South',\n",
       " 'South',\n",
       " 'South',\n",
       " 'South',\n",
       " 'South',\n",
       " 'South',\n",
       " 'South',\n",
       " 'South',\n",
       " 'South',\n",
       " 'South',\n",
       " 'South',\n",
       " 'South',\n",
       " 'South',\n",
       " 'South',\n",
       " 'South',\n",
       " 'South',\n",
       " 'South',\n",
       " 'South',\n",
       " 'South',\n",
       " 'South',\n",
       " 'South',\n",
       " 'South',\n",
       " 'South',\n",
       " 'South',\n",
       " 'South',\n",
       " 'South',\n",
       " 'South',\n",
       " 'South',\n",
       " 'South',\n",
       " 'South',\n",
       " 'South',\n",
       " 'South',\n",
       " 'South',\n",
       " 'South',\n",
       " 'South',\n",
       " 'South',\n",
       " 'South',\n",
       " 'South',\n",
       " 'South',\n",
       " 'South',\n",
       " 'South',\n",
       " 'South',\n",
       " 'South',\n",
       " 'South',\n",
       " 'South',\n",
       " 'South',\n",
       " 'South',\n",
       " 'South',\n",
       " 'South',\n",
       " 'South',\n",
       " 'South',\n",
       " 'South',\n",
       " 'South',\n",
       " 'South',\n",
       " 'South',\n",
       " 'South',\n",
       " 'South',\n",
       " 'South',\n",
       " 'South',\n",
       " 'South',\n",
       " 'South',\n",
       " 'South',\n",
       " 'South',\n",
       " 'South',\n",
       " 'South',\n",
       " 'South',\n",
       " 'South',\n",
       " 'South',\n",
       " 'South',\n",
       " 'South',\n",
       " 'South',\n",
       " 'South',\n",
       " 'South',\n",
       " 'South',\n",
       " 'South',\n",
       " 'South',\n",
       " 'South',\n",
       " 'South',\n",
       " 'South',\n",
       " 'South',\n",
       " 'South',\n",
       " 'South',\n",
       " 'South',\n",
       " 'South',\n",
       " 'South',\n",
       " 'South',\n",
       " 'South',\n",
       " 'South',\n",
       " 'South',\n",
       " 'South',\n",
       " 'South',\n",
       " 'South',\n",
       " 'South',\n",
       " 'South',\n",
       " 'South',\n",
       " 'South',\n",
       " 'South',\n",
       " 'South',\n",
       " 'South',\n",
       " 'South',\n",
       " 'South',\n",
       " 'South',\n",
       " 'South',\n",
       " 'South',\n",
       " 'South',\n",
       " 'South',\n",
       " 'South',\n",
       " 'South',\n",
       " 'South',\n",
       " 'South',\n",
       " 'South',\n",
       " 'South',\n",
       " 'South',\n",
       " 'South',\n",
       " 'South',\n",
       " 'South',\n",
       " 'South',\n",
       " 'South',\n",
       " 'South',\n",
       " 'South',\n",
       " 'South',\n",
       " 'South',\n",
       " 'South',\n",
       " 'South',\n",
       " 'South',\n",
       " 'South',\n",
       " 'South',\n",
       " 'South',\n",
       " 'South',\n",
       " 'South',\n",
       " 'South',\n",
       " 'South',\n",
       " 'South',\n",
       " 'South',\n",
       " 'South',\n",
       " 'South',\n",
       " 'South',\n",
       " 'South',\n",
       " 'South',\n",
       " 'South',\n",
       " 'South',\n",
       " 'South',\n",
       " 'South',\n",
       " 'South',\n",
       " 'South',\n",
       " 'South',\n",
       " 'South',\n",
       " 'South',\n",
       " 'South',\n",
       " 'South',\n",
       " 'South',\n",
       " 'South',\n",
       " 'West',\n",
       " 'West',\n",
       " 'West',\n",
       " 'West',\n",
       " 'West',\n",
       " 'West',\n",
       " 'West',\n",
       " 'West',\n",
       " 'West',\n",
       " 'West',\n",
       " ...]"
      ]
     },
     "execution_count": 13,
     "metadata": {},
     "output_type": "execute_result"
    }
   ],
   "source": [
    "result"
   ]
  },
  {
   "cell_type": "markdown",
   "id": "708f58b8",
   "metadata": {},
   "source": [
    "#### Create new column within dataframe and set it equal to result"
   ]
  },
  {
   "cell_type": "code",
   "execution_count": 14,
   "id": "fd372bf6",
   "metadata": {},
   "outputs": [],
   "source": [
    "df_ords_prods_cust_merged['region'] = result"
   ]
  },
  {
   "cell_type": "markdown",
   "id": "e0f8157b",
   "metadata": {},
   "source": [
    "#### Check the count for each region"
   ]
  },
  {
   "cell_type": "code",
   "execution_count": 15,
   "id": "524c6ed6",
   "metadata": {},
   "outputs": [
    {
     "data": {
      "text/plain": [
       "South        10229938\n",
       "West          8993963\n",
       "Midwest       7652535\n",
       "Northeast     5764832\n",
       "Name: region, dtype: int64"
      ]
     },
     "execution_count": 15,
     "metadata": {},
     "output_type": "execute_result"
    }
   ],
   "source": [
    "df_ords_prods_cust_merged['region'].value_counts(dropna = False)"
   ]
  },
  {
   "cell_type": "code",
   "execution_count": 16,
   "id": "a6ebc31a",
   "metadata": {},
   "outputs": [
    {
     "data": {
      "text/plain": [
       "(32641268, 28)"
      ]
     },
     "execution_count": 16,
     "metadata": {},
     "output_type": "execute_result"
    }
   ],
   "source": [
    "df_ords_prods_cust_merged.shape"
   ]
  },
  {
   "cell_type": "markdown",
   "id": "c5c4f561",
   "metadata": {},
   "source": [
    "** Numbers of rows match."
   ]
  },
  {
   "cell_type": "markdown",
   "id": "58eeba31",
   "metadata": {},
   "source": [
    "#### check to make sure length of states matches region count\n"
   ]
  },
  {
   "cell_type": "code",
   "execution_count": 17,
   "id": "4ec6ffe1",
   "metadata": {},
   "outputs": [
    {
     "data": {
      "text/plain": [
       "32641268"
      ]
     },
     "execution_count": 17,
     "metadata": {},
     "output_type": "execute_result"
    }
   ],
   "source": [
    "len(df_ords_prods_cust_merged['state'])"
   ]
  },
  {
   "cell_type": "code",
   "execution_count": 18,
   "id": "737ab5ef",
   "metadata": {},
   "outputs": [
    {
     "data": {
      "text/plain": [
       "32641268"
      ]
     },
     "execution_count": 18,
     "metadata": {},
     "output_type": "execute_result"
    }
   ],
   "source": [
    "10229938+8993963+7652535+5764832"
   ]
  },
  {
   "cell_type": "markdown",
   "id": "570531ec",
   "metadata": {},
   "source": [
    "#### change dtype category"
   ]
  },
  {
   "cell_type": "code",
   "execution_count": 19,
   "id": "9460d4d6",
   "metadata": {},
   "outputs": [],
   "source": [
    "df_ords_prods_cust_merged['region'] = df_ords_prods_cust_merged['region'].astype('category')"
   ]
  },
  {
   "cell_type": "markdown",
   "id": "c8d70474",
   "metadata": {},
   "source": [
    "*** Determine whether there’s a difference in spending habits between the different U.S. regions. (Hint: You can do this by crossing the variable you just created with the spending flag.)"
   ]
  },
  {
   "cell_type": "markdown",
   "id": "f1cdd8be",
   "metadata": {},
   "source": [
    "#### creating crosstab of spending habits of different US regions"
   ]
  },
  {
   "cell_type": "code",
   "execution_count": 20,
   "id": "793a1361",
   "metadata": {},
   "outputs": [],
   "source": [
    "crosstab = pd.crosstab(df_ords_prods_cust_merged['region'], df_ords_prods_cust_merged['order_frequency_flag'], dropna = False)"
   ]
  },
  {
   "cell_type": "code",
   "execution_count": 21,
   "id": "c2da8aef",
   "metadata": {},
   "outputs": [
    {
     "data": {
      "text/html": [
       "<div>\n",
       "<style scoped>\n",
       "    .dataframe tbody tr th:only-of-type {\n",
       "        vertical-align: middle;\n",
       "    }\n",
       "\n",
       "    .dataframe tbody tr th {\n",
       "        vertical-align: top;\n",
       "    }\n",
       "\n",
       "    .dataframe thead th {\n",
       "        text-align: right;\n",
       "    }\n",
       "</style>\n",
       "<table border=\"1\" class=\"dataframe\">\n",
       "  <thead>\n",
       "    <tr style=\"text-align: right;\">\n",
       "      <th>order_frequency_flag</th>\n",
       "      <th>Frequent customer</th>\n",
       "      <th>Non-frequent customer</th>\n",
       "      <th>Regular customer</th>\n",
       "    </tr>\n",
       "    <tr>\n",
       "      <th>region</th>\n",
       "      <th></th>\n",
       "      <th></th>\n",
       "      <th></th>\n",
       "    </tr>\n",
       "  </thead>\n",
       "  <tbody>\n",
       "    <tr>\n",
       "      <th>Midwest</th>\n",
       "      <td>5038934</td>\n",
       "      <td>880834</td>\n",
       "      <td>1732767</td>\n",
       "    </tr>\n",
       "    <tr>\n",
       "      <th>Northeast</th>\n",
       "      <td>3816729</td>\n",
       "      <td>644820</td>\n",
       "      <td>1303283</td>\n",
       "    </tr>\n",
       "    <tr>\n",
       "      <th>South</th>\n",
       "      <td>6785702</td>\n",
       "      <td>1171066</td>\n",
       "      <td>2273170</td>\n",
       "    </tr>\n",
       "    <tr>\n",
       "      <th>West</th>\n",
       "      <td>5997823</td>\n",
       "      <td>1017891</td>\n",
       "      <td>1978249</td>\n",
       "    </tr>\n",
       "  </tbody>\n",
       "</table>\n",
       "</div>"
      ],
      "text/plain": [
       "order_frequency_flag  Frequent customer  Non-frequent customer  \\\n",
       "region                                                           \n",
       "Midwest                         5038934                 880834   \n",
       "Northeast                       3816729                 644820   \n",
       "South                           6785702                1171066   \n",
       "West                            5997823                1017891   \n",
       "\n",
       "order_frequency_flag  Regular customer  \n",
       "region                                  \n",
       "Midwest                        1732767  \n",
       "Northeast                      1303283  \n",
       "South                          2273170  \n",
       "West                           1978249  "
      ]
     },
     "execution_count": 21,
     "metadata": {},
     "output_type": "execute_result"
    }
   ],
   "source": [
    "crosstab"
   ]
  },
  {
   "cell_type": "markdown",
   "id": "dc6b2981",
   "metadata": {},
   "source": [
    "** Spending habits between the regions is not different. The South has the highest number of frequent(royal) customers, however when look into all four regions' proportion of their total populations are very close to eachothers."
   ]
  },
  {
   "cell_type": "markdown",
   "id": "84da3305",
   "metadata": {},
   "source": [
    "4. The Instacart CFO isn’t interested in customers who don’t generate much revenue for the app. Create an exclusion flag for low-activity customers (customers with less than 5 orders) and exclude them from the data. Make sure you export this sample."
   ]
  },
  {
   "cell_type": "markdown",
   "id": "20ec4f25",
   "metadata": {},
   "source": [
    "#### create a flag for low-activity customers based on less than 5 orders (exercise 4.8)"
   ]
  },
  {
   "cell_type": "code",
   "execution_count": 22,
   "id": "06d65962",
   "metadata": {},
   "outputs": [],
   "source": [
    "df_ords_prods_cust_merged.loc[df_ords_prods_cust_merged['max_order'] < 5, 'exclusion_flag'] = 'low_activity_customer'"
   ]
  },
  {
   "cell_type": "markdown",
   "id": "ced43885",
   "metadata": {},
   "source": [
    "#### create a flag for non_low_activity customers based on equal or more than 5 orders (exercise 4.8)"
   ]
  },
  {
   "cell_type": "code",
   "execution_count": 23,
   "id": "531507af",
   "metadata": {},
   "outputs": [],
   "source": [
    "df_ords_prods_cust_merged.loc[df_ords_prods_cust_merged['max_order'] >= 5, 'exclusion_flag'] = 'non_low_activity_customer'"
   ]
  },
  {
   "cell_type": "markdown",
   "id": "b1203a71",
   "metadata": {},
   "source": [
    "#### check exclusion flag"
   ]
  },
  {
   "cell_type": "code",
   "execution_count": 24,
   "id": "6893b074",
   "metadata": {},
   "outputs": [
    {
     "data": {
      "text/plain": [
       "non_low_activity_customer    31929979\n",
       "low_activity_customer          711289\n",
       "Name: exclusion_flag, dtype: int64"
      ]
     },
     "execution_count": 24,
     "metadata": {},
     "output_type": "execute_result"
    }
   ],
   "source": [
    "df_ords_prods_cust_merged['exclusion_flag'].value_counts(dropna = False)"
   ]
  },
  {
   "cell_type": "markdown",
   "id": "7835f7c1",
   "metadata": {},
   "source": [
    "#### check dtype of new variables"
   ]
  },
  {
   "cell_type": "code",
   "execution_count": 25,
   "id": "eb5ef46f",
   "metadata": {},
   "outputs": [
    {
     "data": {
      "text/plain": [
       "dtype('O')"
      ]
     },
     "execution_count": 25,
     "metadata": {},
     "output_type": "execute_result"
    }
   ],
   "source": [
    "df_ords_prods_cust_merged['exclusion_flag'].dtype"
   ]
  },
  {
   "cell_type": "markdown",
   "id": "99bd24af",
   "metadata": {},
   "source": [
    "** \"0\" which stand for object, panda version of the string"
   ]
  },
  {
   "cell_type": "markdown",
   "id": "cecda14d",
   "metadata": {},
   "source": [
    "#### convert the exclusion_flag column to category format"
   ]
  },
  {
   "cell_type": "code",
   "execution_count": 26,
   "id": "3997e3b2",
   "metadata": {},
   "outputs": [],
   "source": [
    "df_ords_prods_cust_merged['exclusion_flag'] = df_ords_prods_cust_merged['exclusion_flag'].astype('category')"
   ]
  },
  {
   "cell_type": "markdown",
   "id": "2cea65ca",
   "metadata": {},
   "source": [
    "#### check the dtype of new variables"
   ]
  },
  {
   "cell_type": "code",
   "execution_count": 27,
   "id": "d4fb0a49",
   "metadata": {},
   "outputs": [
    {
     "data": {
      "text/plain": [
       "CategoricalDtype(categories=['low_activity_customer', 'non_low_activity_customer'], ordered=False)"
      ]
     },
     "execution_count": 27,
     "metadata": {},
     "output_type": "execute_result"
    }
   ],
   "source": [
    "df_ords_prods_cust_merged['exclusion_flag'].dtypes"
   ]
  },
  {
   "cell_type": "markdown",
   "id": "836271f1",
   "metadata": {},
   "source": [
    "#### create a subset data set with only low_activity_customer (exercise 4.4)"
   ]
  },
  {
   "cell_type": "code",
   "execution_count": 28,
   "id": "e4df113c",
   "metadata": {},
   "outputs": [],
   "source": [
    "df_low = df_ords_prods_cust_merged[df_ords_prods_cust_merged['exclusion_flag']=='low_activity_customer']"
   ]
  },
  {
   "cell_type": "markdown",
   "id": "4ee8e3ac",
   "metadata": {},
   "source": [
    "#### check the value for max orders to confirm no orders are above 5"
   ]
  },
  {
   "cell_type": "code",
   "execution_count": 29,
   "id": "cd587e50",
   "metadata": {},
   "outputs": [
    {
     "data": {
      "text/plain": [
       "4    711289\n",
       "Name: max_order, dtype: int64"
      ]
     },
     "execution_count": 29,
     "metadata": {},
     "output_type": "execute_result"
    }
   ],
   "source": [
    "df_low['max_order'].value_counts()"
   ]
  },
  {
   "cell_type": "markdown",
   "id": "194cb5ce",
   "metadata": {},
   "source": [
    "#### crate a subset with only non_low_activity customer (exercise 4.4)"
   ]
  },
  {
   "cell_type": "code",
   "execution_count": 30,
   "id": "8c789e11",
   "metadata": {},
   "outputs": [],
   "source": [
    "df_high = df_ords_prods_cust_merged[df_ords_prods_cust_merged['exclusion_flag']=='non_low_activity_customer']"
   ]
  },
  {
   "cell_type": "markdown",
   "id": "bf93e1c9",
   "metadata": {},
   "source": [
    "#### check the value for max orders to confirm no orders less than 5"
   ]
  },
  {
   "cell_type": "code",
   "execution_count": 31,
   "id": "548c523e",
   "metadata": {},
   "outputs": [
    {
     "data": {
      "text/plain": [
       "100    1173687\n",
       "7       825922\n",
       "9       822821\n",
       "10      819874\n",
       "8       816445\n",
       "        ...   \n",
       "94       50497\n",
       "91       48455\n",
       "98       45019\n",
       "99       44651\n",
       "97       40523\n",
       "Name: max_order, Length: 96, dtype: int64"
      ]
     },
     "execution_count": 31,
     "metadata": {},
     "output_type": "execute_result"
    }
   ],
   "source": [
    "df_high['max_order'].value_counts()"
   ]
  },
  {
   "cell_type": "markdown",
   "id": "9cd73466",
   "metadata": {},
   "source": [
    "### export subset for low_activity_customer"
   ]
  },
  {
   "cell_type": "code",
   "execution_count": 32,
   "id": "d88b485a",
   "metadata": {},
   "outputs": [],
   "source": [
    "df_low.to_pickle(os.path.join(path, '02 Data', 'Prepared Data', 'df_low_activity_cust.pkl'))"
   ]
  },
  {
   "cell_type": "markdown",
   "id": "7f0a3718",
   "metadata": {},
   "source": [
    "### export subset for non_low_activity_customer"
   ]
  },
  {
   "cell_type": "code",
   "execution_count": 33,
   "id": "d1617ad4",
   "metadata": {},
   "outputs": [],
   "source": [
    "df_high.to_pickle(os.path.join(path, '02 Data', 'Prepared Data', 'df_non_low_activity_cust.pkl'))"
   ]
  },
  {
   "cell_type": "markdown",
   "id": "7c8aa73b",
   "metadata": {},
   "source": [
    "5. The marketing and business strategy units at Instacart want to create more-relevant marketing strategies for different products and are, thus, curious about customer profiling in their database. Create a profiling variable based on age, income, certain goods in the “department_id” column, and number of dependents. You might also use the “orders_day_of_the_week” and “order_hour_of_day” columns if you can think of a way they would impact customer profiles. (Hint: As an example, try thinking of what characteristics would lead you to the profile “Single adult” or “Young parent.”)"
   ]
  },
  {
   "cell_type": "markdown",
   "id": "a1d09b6d",
   "metadata": {},
   "source": [
    "#### List of all potential variables"
   ]
  },
  {
   "cell_type": "code",
   "execution_count": 34,
   "id": "4ed4ac5d",
   "metadata": {},
   "outputs": [
    {
     "data": {
      "text/plain": [
       "order_id                     int64\n",
       "user_id                      int64\n",
       "order_number                 int64\n",
       "orders_day_of_the_week        int8\n",
       "order_hour_of_day             int8\n",
       "days_since_prior_order     float16\n",
       "product_id                 float64\n",
       "add_to_cart_order          float16\n",
       "reordered                  float16\n",
       "product_name              category\n",
       "aisle_id                   float16\n",
       "department_id              float64\n",
       "prices                     float64\n",
       "max_order                     int8\n",
       "loyalty_flag              category\n",
       "spending                   float16\n",
       "spending_flag             category\n",
       "order_frequency            float16\n",
       "order_frequency_flag      category\n",
       "gender                      object\n",
       "state                       object\n",
       "age                          int64\n",
       "date_joined                 object\n",
       "n_dependants                 int64\n",
       "fam_status                  object\n",
       "income                       int64\n",
       "_merge                    category\n",
       "region                    category\n",
       "exclusion_flag            category\n",
       "dtype: object"
      ]
     },
     "execution_count": 34,
     "metadata": {},
     "output_type": "execute_result"
    }
   ],
   "source": [
    "df_high.dtypes"
   ]
  },
  {
   "cell_type": "code",
   "execution_count": 35,
   "id": "5f197251",
   "metadata": {},
   "outputs": [
    {
     "data": {
      "text/html": [
       "<div>\n",
       "<style scoped>\n",
       "    .dataframe tbody tr th:only-of-type {\n",
       "        vertical-align: middle;\n",
       "    }\n",
       "\n",
       "    .dataframe tbody tr th {\n",
       "        vertical-align: top;\n",
       "    }\n",
       "\n",
       "    .dataframe thead th {\n",
       "        text-align: right;\n",
       "    }\n",
       "</style>\n",
       "<table border=\"1\" class=\"dataframe\">\n",
       "  <thead>\n",
       "    <tr style=\"text-align: right;\">\n",
       "      <th></th>\n",
       "      <th>order_id</th>\n",
       "      <th>user_id</th>\n",
       "      <th>order_number</th>\n",
       "      <th>orders_day_of_the_week</th>\n",
       "      <th>order_hour_of_day</th>\n",
       "      <th>days_since_prior_order</th>\n",
       "      <th>product_id</th>\n",
       "      <th>add_to_cart_order</th>\n",
       "      <th>reordered</th>\n",
       "      <th>product_name</th>\n",
       "      <th>...</th>\n",
       "      <th>gender</th>\n",
       "      <th>state</th>\n",
       "      <th>age</th>\n",
       "      <th>date_joined</th>\n",
       "      <th>n_dependants</th>\n",
       "      <th>fam_status</th>\n",
       "      <th>income</th>\n",
       "      <th>_merge</th>\n",
       "      <th>region</th>\n",
       "      <th>exclusion_flag</th>\n",
       "    </tr>\n",
       "  </thead>\n",
       "  <tbody>\n",
       "    <tr>\n",
       "      <th>0</th>\n",
       "      <td>2539329</td>\n",
       "      <td>1</td>\n",
       "      <td>1</td>\n",
       "      <td>2</td>\n",
       "      <td>8</td>\n",
       "      <td>NaN</td>\n",
       "      <td>196.0</td>\n",
       "      <td>1.0</td>\n",
       "      <td>0.0</td>\n",
       "      <td>Soda</td>\n",
       "      <td>...</td>\n",
       "      <td>Female</td>\n",
       "      <td>Alabama</td>\n",
       "      <td>31</td>\n",
       "      <td>2/17/2019</td>\n",
       "      <td>3</td>\n",
       "      <td>married</td>\n",
       "      <td>40423</td>\n",
       "      <td>both</td>\n",
       "      <td>South</td>\n",
       "      <td>non_low_activity_customer</td>\n",
       "    </tr>\n",
       "    <tr>\n",
       "      <th>1</th>\n",
       "      <td>2539329</td>\n",
       "      <td>1</td>\n",
       "      <td>1</td>\n",
       "      <td>2</td>\n",
       "      <td>8</td>\n",
       "      <td>NaN</td>\n",
       "      <td>14084.0</td>\n",
       "      <td>2.0</td>\n",
       "      <td>0.0</td>\n",
       "      <td>Organic Unsweetened Vanilla Almond Milk</td>\n",
       "      <td>...</td>\n",
       "      <td>Female</td>\n",
       "      <td>Alabama</td>\n",
       "      <td>31</td>\n",
       "      <td>2/17/2019</td>\n",
       "      <td>3</td>\n",
       "      <td>married</td>\n",
       "      <td>40423</td>\n",
       "      <td>both</td>\n",
       "      <td>South</td>\n",
       "      <td>non_low_activity_customer</td>\n",
       "    </tr>\n",
       "    <tr>\n",
       "      <th>2</th>\n",
       "      <td>2539329</td>\n",
       "      <td>1</td>\n",
       "      <td>1</td>\n",
       "      <td>2</td>\n",
       "      <td>8</td>\n",
       "      <td>NaN</td>\n",
       "      <td>12427.0</td>\n",
       "      <td>3.0</td>\n",
       "      <td>0.0</td>\n",
       "      <td>Original Beef Jerky</td>\n",
       "      <td>...</td>\n",
       "      <td>Female</td>\n",
       "      <td>Alabama</td>\n",
       "      <td>31</td>\n",
       "      <td>2/17/2019</td>\n",
       "      <td>3</td>\n",
       "      <td>married</td>\n",
       "      <td>40423</td>\n",
       "      <td>both</td>\n",
       "      <td>South</td>\n",
       "      <td>non_low_activity_customer</td>\n",
       "    </tr>\n",
       "    <tr>\n",
       "      <th>3</th>\n",
       "      <td>2539329</td>\n",
       "      <td>1</td>\n",
       "      <td>1</td>\n",
       "      <td>2</td>\n",
       "      <td>8</td>\n",
       "      <td>NaN</td>\n",
       "      <td>26088.0</td>\n",
       "      <td>4.0</td>\n",
       "      <td>0.0</td>\n",
       "      <td>Aged White Cheddar Popcorn</td>\n",
       "      <td>...</td>\n",
       "      <td>Female</td>\n",
       "      <td>Alabama</td>\n",
       "      <td>31</td>\n",
       "      <td>2/17/2019</td>\n",
       "      <td>3</td>\n",
       "      <td>married</td>\n",
       "      <td>40423</td>\n",
       "      <td>both</td>\n",
       "      <td>South</td>\n",
       "      <td>non_low_activity_customer</td>\n",
       "    </tr>\n",
       "    <tr>\n",
       "      <th>4</th>\n",
       "      <td>2539329</td>\n",
       "      <td>1</td>\n",
       "      <td>1</td>\n",
       "      <td>2</td>\n",
       "      <td>8</td>\n",
       "      <td>NaN</td>\n",
       "      <td>26405.0</td>\n",
       "      <td>5.0</td>\n",
       "      <td>0.0</td>\n",
       "      <td>XL Pick-A-Size Paper Towel Rolls</td>\n",
       "      <td>...</td>\n",
       "      <td>Female</td>\n",
       "      <td>Alabama</td>\n",
       "      <td>31</td>\n",
       "      <td>2/17/2019</td>\n",
       "      <td>3</td>\n",
       "      <td>married</td>\n",
       "      <td>40423</td>\n",
       "      <td>both</td>\n",
       "      <td>South</td>\n",
       "      <td>non_low_activity_customer</td>\n",
       "    </tr>\n",
       "  </tbody>\n",
       "</table>\n",
       "<p>5 rows × 29 columns</p>\n",
       "</div>"
      ],
      "text/plain": [
       "   order_id  user_id  order_number  orders_day_of_the_week  order_hour_of_day  \\\n",
       "0   2539329        1             1                       2                  8   \n",
       "1   2539329        1             1                       2                  8   \n",
       "2   2539329        1             1                       2                  8   \n",
       "3   2539329        1             1                       2                  8   \n",
       "4   2539329        1             1                       2                  8   \n",
       "\n",
       "   days_since_prior_order  product_id  add_to_cart_order  reordered  \\\n",
       "0                     NaN       196.0                1.0        0.0   \n",
       "1                     NaN     14084.0                2.0        0.0   \n",
       "2                     NaN     12427.0                3.0        0.0   \n",
       "3                     NaN     26088.0                4.0        0.0   \n",
       "4                     NaN     26405.0                5.0        0.0   \n",
       "\n",
       "                              product_name  ...  gender    state  age  \\\n",
       "0                                     Soda  ...  Female  Alabama   31   \n",
       "1  Organic Unsweetened Vanilla Almond Milk  ...  Female  Alabama   31   \n",
       "2                      Original Beef Jerky  ...  Female  Alabama   31   \n",
       "3               Aged White Cheddar Popcorn  ...  Female  Alabama   31   \n",
       "4         XL Pick-A-Size Paper Towel Rolls  ...  Female  Alabama   31   \n",
       "\n",
       "   date_joined n_dependants  fam_status income  _merge region  \\\n",
       "0    2/17/2019            3     married  40423    both  South   \n",
       "1    2/17/2019            3     married  40423    both  South   \n",
       "2    2/17/2019            3     married  40423    both  South   \n",
       "3    2/17/2019            3     married  40423    both  South   \n",
       "4    2/17/2019            3     married  40423    both  South   \n",
       "\n",
       "              exclusion_flag  \n",
       "0  non_low_activity_customer  \n",
       "1  non_low_activity_customer  \n",
       "2  non_low_activity_customer  \n",
       "3  non_low_activity_customer  \n",
       "4  non_low_activity_customer  \n",
       "\n",
       "[5 rows x 29 columns]"
      ]
     },
     "execution_count": 35,
     "metadata": {},
     "output_type": "execute_result"
    }
   ],
   "source": [
    "df_high.head()"
   ]
  },
  {
   "cell_type": "code",
   "execution_count": 36,
   "id": "faaf4b0d",
   "metadata": {},
   "outputs": [
    {
     "data": {
      "text/plain": [
       "(31929979, 29)"
      ]
     },
     "execution_count": 36,
     "metadata": {},
     "output_type": "execute_result"
    }
   ],
   "source": [
    "df_high.shape"
   ]
  },
  {
   "cell_type": "markdown",
   "id": "00744326",
   "metadata": {},
   "source": [
    "#### Create the age_group of customers"
   ]
  },
  {
   "cell_type": "code",
   "execution_count": 37,
   "id": "c480d74a",
   "metadata": {},
   "outputs": [
    {
     "data": {
      "text/plain": [
       "18    492997\n",
       "19    511257\n",
       "20    496283\n",
       "21    505072\n",
       "22    506080\n",
       "       ...  \n",
       "77    493995\n",
       "78    486974\n",
       "79    523784\n",
       "80    507612\n",
       "81    501958\n",
       "Name: age, Length: 64, dtype: int64"
      ]
     },
     "execution_count": 37,
     "metadata": {},
     "output_type": "execute_result"
    }
   ],
   "source": [
    "df_high['age'].value_counts().sort_index()"
   ]
  },
  {
   "cell_type": "markdown",
   "id": "a9d04bc3",
   "metadata": {},
   "source": [
    "#### Create age group and if-statement with For-loops for these age groups."
   ]
  },
  {
   "cell_type": "code",
   "execution_count": 38,
   "id": "e684f3ae",
   "metadata": {},
   "outputs": [],
   "source": [
    "age_group = []\n",
    "\n",
    "for value in df_high['age']:\n",
    "    if value <= 20:\n",
    "        age_group.append('18-20')\n",
    "    elif (value > 20) and (value <= 30):\n",
    "        age_group.append('21-30')\n",
    "    elif (value >30) and (value <=40):\n",
    "        age_group.append('31-40')\n",
    "    elif (value >40) and (value <= 50):\n",
    "        age_group.append('41-50')\n",
    "    elif (value >50) and (value <= 60):\n",
    "        age_group.append('51-60')\n",
    "    elif (value >60) and (value <=70):\n",
    "        age_group.append('61-70')\n",
    "    elif (value >70) and (value <=80):\n",
    "        age_group.append('71-80')\n",
    "    elif (value > 80) and (value <= 82):\n",
    "        age_group.append('80+')\n",
    "    else:   \n",
    "        result.append('Not_in_age_category')"
   ]
  },
  {
   "cell_type": "markdown",
   "id": "f55e0078",
   "metadata": {},
   "source": [
    "#### Create new age_group column set it equal the age_group"
   ]
  },
  {
   "cell_type": "code",
   "execution_count": 39,
   "id": "8399bee3",
   "metadata": {},
   "outputs": [
    {
     "data": {
      "text/plain": [
       "31929979"
      ]
     },
     "execution_count": 39,
     "metadata": {},
     "output_type": "execute_result"
    }
   ],
   "source": [
    "len(age_group)"
   ]
  },
  {
   "cell_type": "code",
   "execution_count": 40,
   "id": "a77d9eef",
   "metadata": {},
   "outputs": [
    {
     "name": "stderr",
     "output_type": "stream",
     "text": [
      "C:\\Users\\sahin\\AppData\\Local\\Temp/ipykernel_18072/1810011322.py:1: SettingWithCopyWarning: \n",
      "A value is trying to be set on a copy of a slice from a DataFrame.\n",
      "Try using .loc[row_indexer,col_indexer] = value instead\n",
      "\n",
      "See the caveats in the documentation: https://pandas.pydata.org/pandas-docs/stable/user_guide/indexing.html#returning-a-view-versus-a-copy\n",
      "  df_high['age_group'] = age_group\n"
     ]
    }
   ],
   "source": [
    "df_high['age_group'] = age_group"
   ]
  },
  {
   "cell_type": "code",
   "execution_count": 41,
   "id": "10af79ee",
   "metadata": {},
   "outputs": [
    {
     "data": {
      "text/html": [
       "<div>\n",
       "<style scoped>\n",
       "    .dataframe tbody tr th:only-of-type {\n",
       "        vertical-align: middle;\n",
       "    }\n",
       "\n",
       "    .dataframe tbody tr th {\n",
       "        vertical-align: top;\n",
       "    }\n",
       "\n",
       "    .dataframe thead th {\n",
       "        text-align: right;\n",
       "    }\n",
       "</style>\n",
       "<table border=\"1\" class=\"dataframe\">\n",
       "  <thead>\n",
       "    <tr style=\"text-align: right;\">\n",
       "      <th></th>\n",
       "      <th>order_id</th>\n",
       "      <th>user_id</th>\n",
       "      <th>order_number</th>\n",
       "      <th>orders_day_of_the_week</th>\n",
       "      <th>order_hour_of_day</th>\n",
       "      <th>days_since_prior_order</th>\n",
       "      <th>product_id</th>\n",
       "      <th>add_to_cart_order</th>\n",
       "      <th>reordered</th>\n",
       "      <th>product_name</th>\n",
       "      <th>...</th>\n",
       "      <th>state</th>\n",
       "      <th>age</th>\n",
       "      <th>date_joined</th>\n",
       "      <th>n_dependants</th>\n",
       "      <th>fam_status</th>\n",
       "      <th>income</th>\n",
       "      <th>_merge</th>\n",
       "      <th>region</th>\n",
       "      <th>exclusion_flag</th>\n",
       "      <th>age_group</th>\n",
       "    </tr>\n",
       "  </thead>\n",
       "  <tbody>\n",
       "    <tr>\n",
       "      <th>0</th>\n",
       "      <td>2539329</td>\n",
       "      <td>1</td>\n",
       "      <td>1</td>\n",
       "      <td>2</td>\n",
       "      <td>8</td>\n",
       "      <td>NaN</td>\n",
       "      <td>196.0</td>\n",
       "      <td>1.0</td>\n",
       "      <td>0.0</td>\n",
       "      <td>Soda</td>\n",
       "      <td>...</td>\n",
       "      <td>Alabama</td>\n",
       "      <td>31</td>\n",
       "      <td>2/17/2019</td>\n",
       "      <td>3</td>\n",
       "      <td>married</td>\n",
       "      <td>40423</td>\n",
       "      <td>both</td>\n",
       "      <td>South</td>\n",
       "      <td>non_low_activity_customer</td>\n",
       "      <td>31-40</td>\n",
       "    </tr>\n",
       "    <tr>\n",
       "      <th>1</th>\n",
       "      <td>2539329</td>\n",
       "      <td>1</td>\n",
       "      <td>1</td>\n",
       "      <td>2</td>\n",
       "      <td>8</td>\n",
       "      <td>NaN</td>\n",
       "      <td>14084.0</td>\n",
       "      <td>2.0</td>\n",
       "      <td>0.0</td>\n",
       "      <td>Organic Unsweetened Vanilla Almond Milk</td>\n",
       "      <td>...</td>\n",
       "      <td>Alabama</td>\n",
       "      <td>31</td>\n",
       "      <td>2/17/2019</td>\n",
       "      <td>3</td>\n",
       "      <td>married</td>\n",
       "      <td>40423</td>\n",
       "      <td>both</td>\n",
       "      <td>South</td>\n",
       "      <td>non_low_activity_customer</td>\n",
       "      <td>31-40</td>\n",
       "    </tr>\n",
       "    <tr>\n",
       "      <th>2</th>\n",
       "      <td>2539329</td>\n",
       "      <td>1</td>\n",
       "      <td>1</td>\n",
       "      <td>2</td>\n",
       "      <td>8</td>\n",
       "      <td>NaN</td>\n",
       "      <td>12427.0</td>\n",
       "      <td>3.0</td>\n",
       "      <td>0.0</td>\n",
       "      <td>Original Beef Jerky</td>\n",
       "      <td>...</td>\n",
       "      <td>Alabama</td>\n",
       "      <td>31</td>\n",
       "      <td>2/17/2019</td>\n",
       "      <td>3</td>\n",
       "      <td>married</td>\n",
       "      <td>40423</td>\n",
       "      <td>both</td>\n",
       "      <td>South</td>\n",
       "      <td>non_low_activity_customer</td>\n",
       "      <td>31-40</td>\n",
       "    </tr>\n",
       "    <tr>\n",
       "      <th>3</th>\n",
       "      <td>2539329</td>\n",
       "      <td>1</td>\n",
       "      <td>1</td>\n",
       "      <td>2</td>\n",
       "      <td>8</td>\n",
       "      <td>NaN</td>\n",
       "      <td>26088.0</td>\n",
       "      <td>4.0</td>\n",
       "      <td>0.0</td>\n",
       "      <td>Aged White Cheddar Popcorn</td>\n",
       "      <td>...</td>\n",
       "      <td>Alabama</td>\n",
       "      <td>31</td>\n",
       "      <td>2/17/2019</td>\n",
       "      <td>3</td>\n",
       "      <td>married</td>\n",
       "      <td>40423</td>\n",
       "      <td>both</td>\n",
       "      <td>South</td>\n",
       "      <td>non_low_activity_customer</td>\n",
       "      <td>31-40</td>\n",
       "    </tr>\n",
       "    <tr>\n",
       "      <th>4</th>\n",
       "      <td>2539329</td>\n",
       "      <td>1</td>\n",
       "      <td>1</td>\n",
       "      <td>2</td>\n",
       "      <td>8</td>\n",
       "      <td>NaN</td>\n",
       "      <td>26405.0</td>\n",
       "      <td>5.0</td>\n",
       "      <td>0.0</td>\n",
       "      <td>XL Pick-A-Size Paper Towel Rolls</td>\n",
       "      <td>...</td>\n",
       "      <td>Alabama</td>\n",
       "      <td>31</td>\n",
       "      <td>2/17/2019</td>\n",
       "      <td>3</td>\n",
       "      <td>married</td>\n",
       "      <td>40423</td>\n",
       "      <td>both</td>\n",
       "      <td>South</td>\n",
       "      <td>non_low_activity_customer</td>\n",
       "      <td>31-40</td>\n",
       "    </tr>\n",
       "  </tbody>\n",
       "</table>\n",
       "<p>5 rows × 30 columns</p>\n",
       "</div>"
      ],
      "text/plain": [
       "   order_id  user_id  order_number  orders_day_of_the_week  order_hour_of_day  \\\n",
       "0   2539329        1             1                       2                  8   \n",
       "1   2539329        1             1                       2                  8   \n",
       "2   2539329        1             1                       2                  8   \n",
       "3   2539329        1             1                       2                  8   \n",
       "4   2539329        1             1                       2                  8   \n",
       "\n",
       "   days_since_prior_order  product_id  add_to_cart_order  reordered  \\\n",
       "0                     NaN       196.0                1.0        0.0   \n",
       "1                     NaN     14084.0                2.0        0.0   \n",
       "2                     NaN     12427.0                3.0        0.0   \n",
       "3                     NaN     26088.0                4.0        0.0   \n",
       "4                     NaN     26405.0                5.0        0.0   \n",
       "\n",
       "                              product_name  ...    state  age  date_joined  \\\n",
       "0                                     Soda  ...  Alabama   31    2/17/2019   \n",
       "1  Organic Unsweetened Vanilla Almond Milk  ...  Alabama   31    2/17/2019   \n",
       "2                      Original Beef Jerky  ...  Alabama   31    2/17/2019   \n",
       "3               Aged White Cheddar Popcorn  ...  Alabama   31    2/17/2019   \n",
       "4         XL Pick-A-Size Paper Towel Rolls  ...  Alabama   31    2/17/2019   \n",
       "\n",
       "   n_dependants fam_status  income _merge  region             exclusion_flag  \\\n",
       "0             3    married   40423   both   South  non_low_activity_customer   \n",
       "1             3    married   40423   both   South  non_low_activity_customer   \n",
       "2             3    married   40423   both   South  non_low_activity_customer   \n",
       "3             3    married   40423   both   South  non_low_activity_customer   \n",
       "4             3    married   40423   both   South  non_low_activity_customer   \n",
       "\n",
       "  age_group  \n",
       "0     31-40  \n",
       "1     31-40  \n",
       "2     31-40  \n",
       "3     31-40  \n",
       "4     31-40  \n",
       "\n",
       "[5 rows x 30 columns]"
      ]
     },
     "execution_count": 41,
     "metadata": {},
     "output_type": "execute_result"
    }
   ],
   "source": [
    "df_high.head()"
   ]
  },
  {
   "cell_type": "markdown",
   "id": "2d1957fb",
   "metadata": {},
   "source": [
    "#### confirm results from new age_group column"
   ]
  },
  {
   "cell_type": "code",
   "execution_count": 42,
   "id": "1cf9a8aa",
   "metadata": {},
   "outputs": [
    {
     "data": {
      "text/plain": [
       "18-20    1500537\n",
       "21-30    5001697\n",
       "31-40    4995500\n",
       "41-50    5019211\n",
       "51-60    4984866\n",
       "61-70    4928259\n",
       "71-80    4997951\n",
       "80+       501958\n",
       "Name: age_group, dtype: int64"
      ]
     },
     "execution_count": 42,
     "metadata": {},
     "output_type": "execute_result"
    }
   ],
   "source": [
    "df_high['age_group'].value_counts().sort_index()"
   ]
  },
  {
   "cell_type": "code",
   "execution_count": 43,
   "id": "5a4feb68",
   "metadata": {},
   "outputs": [
    {
     "data": {
      "text/plain": [
       "(31929979,)"
      ]
     },
     "execution_count": 43,
     "metadata": {},
     "output_type": "execute_result"
    }
   ],
   "source": [
    "df_high['age_group'].shape"
   ]
  },
  {
   "cell_type": "code",
   "execution_count": 44,
   "id": "30233f9b",
   "metadata": {},
   "outputs": [
    {
     "data": {
      "text/html": [
       "<div>\n",
       "<style scoped>\n",
       "    .dataframe tbody tr th:only-of-type {\n",
       "        vertical-align: middle;\n",
       "    }\n",
       "\n",
       "    .dataframe tbody tr th {\n",
       "        vertical-align: top;\n",
       "    }\n",
       "\n",
       "    .dataframe thead th {\n",
       "        text-align: right;\n",
       "    }\n",
       "</style>\n",
       "<table border=\"1\" class=\"dataframe\">\n",
       "  <thead>\n",
       "    <tr style=\"text-align: right;\">\n",
       "      <th></th>\n",
       "      <th>age</th>\n",
       "      <th>age_group</th>\n",
       "    </tr>\n",
       "  </thead>\n",
       "  <tbody>\n",
       "    <tr>\n",
       "      <th>32641263</th>\n",
       "      <td>74</td>\n",
       "      <td>71-80</td>\n",
       "    </tr>\n",
       "    <tr>\n",
       "      <th>32641264</th>\n",
       "      <td>74</td>\n",
       "      <td>71-80</td>\n",
       "    </tr>\n",
       "    <tr>\n",
       "      <th>32641265</th>\n",
       "      <td>74</td>\n",
       "      <td>71-80</td>\n",
       "    </tr>\n",
       "    <tr>\n",
       "      <th>32641266</th>\n",
       "      <td>74</td>\n",
       "      <td>71-80</td>\n",
       "    </tr>\n",
       "    <tr>\n",
       "      <th>32641267</th>\n",
       "      <td>74</td>\n",
       "      <td>71-80</td>\n",
       "    </tr>\n",
       "  </tbody>\n",
       "</table>\n",
       "</div>"
      ],
      "text/plain": [
       "          age age_group\n",
       "32641263   74     71-80\n",
       "32641264   74     71-80\n",
       "32641265   74     71-80\n",
       "32641266   74     71-80\n",
       "32641267   74     71-80"
      ]
     },
     "execution_count": 44,
     "metadata": {},
     "output_type": "execute_result"
    }
   ],
   "source": [
    "df_high[['age', 'age_group']].tail()"
   ]
  },
  {
   "cell_type": "code",
   "execution_count": 45,
   "id": "ecf81657",
   "metadata": {},
   "outputs": [
    {
     "data": {
      "text/html": [
       "<div>\n",
       "<style scoped>\n",
       "    .dataframe tbody tr th:only-of-type {\n",
       "        vertical-align: middle;\n",
       "    }\n",
       "\n",
       "    .dataframe tbody tr th {\n",
       "        vertical-align: top;\n",
       "    }\n",
       "\n",
       "    .dataframe thead th {\n",
       "        text-align: right;\n",
       "    }\n",
       "</style>\n",
       "<table border=\"1\" class=\"dataframe\">\n",
       "  <thead>\n",
       "    <tr style=\"text-align: right;\">\n",
       "      <th></th>\n",
       "      <th>age</th>\n",
       "      <th>age_group</th>\n",
       "    </tr>\n",
       "  </thead>\n",
       "  <tbody>\n",
       "    <tr>\n",
       "      <th>0</th>\n",
       "      <td>31</td>\n",
       "      <td>31-40</td>\n",
       "    </tr>\n",
       "    <tr>\n",
       "      <th>1</th>\n",
       "      <td>31</td>\n",
       "      <td>31-40</td>\n",
       "    </tr>\n",
       "    <tr>\n",
       "      <th>2</th>\n",
       "      <td>31</td>\n",
       "      <td>31-40</td>\n",
       "    </tr>\n",
       "    <tr>\n",
       "      <th>3</th>\n",
       "      <td>31</td>\n",
       "      <td>31-40</td>\n",
       "    </tr>\n",
       "    <tr>\n",
       "      <th>4</th>\n",
       "      <td>31</td>\n",
       "      <td>31-40</td>\n",
       "    </tr>\n",
       "  </tbody>\n",
       "</table>\n",
       "</div>"
      ],
      "text/plain": [
       "   age age_group\n",
       "0   31     31-40\n",
       "1   31     31-40\n",
       "2   31     31-40\n",
       "3   31     31-40\n",
       "4   31     31-40"
      ]
     },
     "execution_count": 45,
     "metadata": {},
     "output_type": "execute_result"
    }
   ],
   "source": [
    "df_high[['age', 'age_group']].head()"
   ]
  },
  {
   "cell_type": "markdown",
   "id": "058e42b6",
   "metadata": {},
   "source": [
    "#### check the income ranges for customers"
   ]
  },
  {
   "cell_type": "code",
   "execution_count": 46,
   "id": "3f59eb6f",
   "metadata": {},
   "outputs": [
    {
     "data": {
      "text/plain": [
       "25903      21\n",
       "25911      29\n",
       "25937      40\n",
       "25941      32\n",
       "25955     393\n",
       "         ... \n",
       "584097    827\n",
       "590790     55\n",
       "591089    177\n",
       "592409    319\n",
       "593901    641\n",
       "Name: income, Length: 101939, dtype: int64"
      ]
     },
     "execution_count": 46,
     "metadata": {},
     "output_type": "execute_result"
    }
   ],
   "source": [
    "df_high['income'].value_counts().sort_index()"
   ]
  },
  {
   "cell_type": "code",
   "execution_count": 47,
   "id": "39444913",
   "metadata": {},
   "outputs": [],
   "source": [
    "customer_income = df_high['income'].value_counts().sort_index()"
   ]
  },
  {
   "cell_type": "code",
   "execution_count": 48,
   "id": "25d3210a",
   "metadata": {},
   "outputs": [],
   "source": [
    "customer_income.to_clipboard()"
   ]
  },
  {
   "cell_type": "markdown",
   "id": "d6e6ca84",
   "metadata": {},
   "source": [
    "#### Create income brackets "
   ]
  },
  {
   "cell_type": "markdown",
   "id": "cc320995",
   "metadata": {},
   "source": [
    "* find the minumum income amount"
   ]
  },
  {
   "cell_type": "code",
   "execution_count": 49,
   "id": "30aa1a4b",
   "metadata": {},
   "outputs": [
    {
     "data": {
      "text/plain": [
       "25903"
      ]
     },
     "execution_count": 49,
     "metadata": {},
     "output_type": "execute_result"
    }
   ],
   "source": [
    "df_high['income'].min()"
   ]
  },
  {
   "cell_type": "markdown",
   "id": "467c6c43",
   "metadata": {},
   "source": [
    "* find the maximum income amount"
   ]
  },
  {
   "cell_type": "code",
   "execution_count": 50,
   "id": "b79557cf",
   "metadata": {},
   "outputs": [
    {
     "data": {
      "text/plain": [
       "593901"
      ]
     },
     "execution_count": 50,
     "metadata": {},
     "output_type": "execute_result"
    }
   ],
   "source": [
    "df_high['income'].max()"
   ]
  },
  {
   "cell_type": "code",
   "execution_count": 51,
   "id": "eb75523e",
   "metadata": {},
   "outputs": [],
   "source": [
    "income = []\n",
    "\n",
    "for value in df_high['income']:\n",
    "    if value <= 25000:\n",
    "        income.append('0-025000')\n",
    "    elif (value > 25000) and (value <= 40000):\n",
    "        income.append('025000-040000')\n",
    "    elif (value > 40000) and (value <= 80000):\n",
    "        income.append('040000-080000')\n",
    "    elif (value > 80000) and (value <= 120000):\n",
    "        income.append('080000-120000')\n",
    "    elif (value > 120000) and (value <= 160000):\n",
    "        income.append('120000-160000')\n",
    "    elif (value > 160000) and (value <= 210000):\n",
    "        income.append('160000-210000')\n",
    "    elif (value > 210000) and (value <= 523000):\n",
    "        income.append('210000-523000')\n",
    "    elif (value > 523000):\n",
    "        income.append('523000+')\n",
    "    else:\n",
    "        income.append('other')\n",
    "        \n"
   ]
  },
  {
   "cell_type": "markdown",
   "id": "bc3c7bc3",
   "metadata": {},
   "source": [
    "#### Create new income_range column and set it equal to income"
   ]
  },
  {
   "cell_type": "code",
   "execution_count": 52,
   "id": "d1a07be6",
   "metadata": {},
   "outputs": [
    {
     "name": "stderr",
     "output_type": "stream",
     "text": [
      "C:\\Users\\sahin\\AppData\\Local\\Temp/ipykernel_18072/1094272007.py:1: SettingWithCopyWarning: \n",
      "A value is trying to be set on a copy of a slice from a DataFrame.\n",
      "Try using .loc[row_indexer,col_indexer] = value instead\n",
      "\n",
      "See the caveats in the documentation: https://pandas.pydata.org/pandas-docs/stable/user_guide/indexing.html#returning-a-view-versus-a-copy\n",
      "  df_high['income_range'] = income\n"
     ]
    }
   ],
   "source": [
    "df_high['income_range'] = income"
   ]
  },
  {
   "cell_type": "markdown",
   "id": "91e1ad80",
   "metadata": {},
   "source": [
    "#### Check results of income_range"
   ]
  },
  {
   "cell_type": "code",
   "execution_count": 53,
   "id": "abe60558",
   "metadata": {},
   "outputs": [
    {
     "data": {
      "text/plain": [
       "025000-040000     1685274\n",
       "040000-080000     9689372\n",
       "080000-120000    11110200\n",
       "120000-160000     7262397\n",
       "160000-210000     1940066\n",
       "210000-523000      228111\n",
       "523000+             14559\n",
       "Name: income_range, dtype: int64"
      ]
     },
     "execution_count": 53,
     "metadata": {},
     "output_type": "execute_result"
    }
   ],
   "source": [
    "df_high['income_range'].value_counts().sort_index()"
   ]
  },
  {
   "cell_type": "code",
   "execution_count": 54,
   "id": "b234dd6a",
   "metadata": {},
   "outputs": [
    {
     "data": {
      "text/html": [
       "<div>\n",
       "<style scoped>\n",
       "    .dataframe tbody tr th:only-of-type {\n",
       "        vertical-align: middle;\n",
       "    }\n",
       "\n",
       "    .dataframe tbody tr th {\n",
       "        vertical-align: top;\n",
       "    }\n",
       "\n",
       "    .dataframe thead th {\n",
       "        text-align: right;\n",
       "    }\n",
       "</style>\n",
       "<table border=\"1\" class=\"dataframe\">\n",
       "  <thead>\n",
       "    <tr style=\"text-align: right;\">\n",
       "      <th></th>\n",
       "      <th>income</th>\n",
       "      <th>income_range</th>\n",
       "    </tr>\n",
       "  </thead>\n",
       "  <tbody>\n",
       "    <tr>\n",
       "      <th>0</th>\n",
       "      <td>40423</td>\n",
       "      <td>040000-080000</td>\n",
       "    </tr>\n",
       "    <tr>\n",
       "      <th>1</th>\n",
       "      <td>40423</td>\n",
       "      <td>040000-080000</td>\n",
       "    </tr>\n",
       "    <tr>\n",
       "      <th>2</th>\n",
       "      <td>40423</td>\n",
       "      <td>040000-080000</td>\n",
       "    </tr>\n",
       "    <tr>\n",
       "      <th>3</th>\n",
       "      <td>40423</td>\n",
       "      <td>040000-080000</td>\n",
       "    </tr>\n",
       "    <tr>\n",
       "      <th>4</th>\n",
       "      <td>40423</td>\n",
       "      <td>040000-080000</td>\n",
       "    </tr>\n",
       "  </tbody>\n",
       "</table>\n",
       "</div>"
      ],
      "text/plain": [
       "   income   income_range\n",
       "0   40423  040000-080000\n",
       "1   40423  040000-080000\n",
       "2   40423  040000-080000\n",
       "3   40423  040000-080000\n",
       "4   40423  040000-080000"
      ]
     },
     "execution_count": 54,
     "metadata": {},
     "output_type": "execute_result"
    }
   ],
   "source": [
    "df_high[['income', 'income_range']].head()"
   ]
  },
  {
   "cell_type": "code",
   "execution_count": 55,
   "id": "d1f1ef15",
   "metadata": {},
   "outputs": [
    {
     "data": {
      "text/html": [
       "<div>\n",
       "<style scoped>\n",
       "    .dataframe tbody tr th:only-of-type {\n",
       "        vertical-align: middle;\n",
       "    }\n",
       "\n",
       "    .dataframe tbody tr th {\n",
       "        vertical-align: top;\n",
       "    }\n",
       "\n",
       "    .dataframe thead th {\n",
       "        text-align: right;\n",
       "    }\n",
       "</style>\n",
       "<table border=\"1\" class=\"dataframe\">\n",
       "  <thead>\n",
       "    <tr style=\"text-align: right;\">\n",
       "      <th></th>\n",
       "      <th>income</th>\n",
       "      <th>income_range</th>\n",
       "    </tr>\n",
       "  </thead>\n",
       "  <tbody>\n",
       "    <tr>\n",
       "      <th>32641263</th>\n",
       "      <td>137969</td>\n",
       "      <td>120000-160000</td>\n",
       "    </tr>\n",
       "    <tr>\n",
       "      <th>32641264</th>\n",
       "      <td>137969</td>\n",
       "      <td>120000-160000</td>\n",
       "    </tr>\n",
       "    <tr>\n",
       "      <th>32641265</th>\n",
       "      <td>137969</td>\n",
       "      <td>120000-160000</td>\n",
       "    </tr>\n",
       "    <tr>\n",
       "      <th>32641266</th>\n",
       "      <td>137969</td>\n",
       "      <td>120000-160000</td>\n",
       "    </tr>\n",
       "    <tr>\n",
       "      <th>32641267</th>\n",
       "      <td>137969</td>\n",
       "      <td>120000-160000</td>\n",
       "    </tr>\n",
       "  </tbody>\n",
       "</table>\n",
       "</div>"
      ],
      "text/plain": [
       "          income   income_range\n",
       "32641263  137969  120000-160000\n",
       "32641264  137969  120000-160000\n",
       "32641265  137969  120000-160000\n",
       "32641266  137969  120000-160000\n",
       "32641267  137969  120000-160000"
      ]
     },
     "execution_count": 55,
     "metadata": {},
     "output_type": "execute_result"
    }
   ],
   "source": [
    "df_high[['income', 'income_range']].tail()"
   ]
  },
  {
   "cell_type": "markdown",
   "id": "2ae29374",
   "metadata": {},
   "source": [
    "#### Create 'parental_status'  flag"
   ]
  },
  {
   "cell_type": "markdown",
   "id": "7827d151",
   "metadata": {},
   "source": [
    "* check dependant numbers"
   ]
  },
  {
   "cell_type": "code",
   "execution_count": 56,
   "id": "ceaf0e91",
   "metadata": {},
   "outputs": [
    {
     "data": {
      "text/plain": [
       "0    7979527\n",
       "1    7961567\n",
       "2    7974823\n",
       "3    8014062\n",
       "Name: n_dependants, dtype: int64"
      ]
     },
     "execution_count": 56,
     "metadata": {},
     "output_type": "execute_result"
    }
   ],
   "source": [
    "df_high['n_dependants'].value_counts().sort_index()"
   ]
  },
  {
   "cell_type": "code",
   "execution_count": 57,
   "id": "a79e5351",
   "metadata": {},
   "outputs": [
    {
     "data": {
      "text/plain": [
       "(31929979,)"
      ]
     },
     "execution_count": 57,
     "metadata": {},
     "output_type": "execute_result"
    }
   ],
   "source": [
    "df_high['n_dependants'].shape"
   ]
  },
  {
   "cell_type": "markdown",
   "id": "da5cef51",
   "metadata": {},
   "source": [
    "* create flag for parent (+1 children)"
   ]
  },
  {
   "cell_type": "code",
   "execution_count": 58,
   "id": "c12f417d",
   "metadata": {},
   "outputs": [
    {
     "name": "stderr",
     "output_type": "stream",
     "text": [
      "C:\\Users\\sahin\\anaconda3\\lib\\site-packages\\pandas\\core\\indexing.py:1684: SettingWithCopyWarning: \n",
      "A value is trying to be set on a copy of a slice from a DataFrame.\n",
      "Try using .loc[row_indexer,col_indexer] = value instead\n",
      "\n",
      "See the caveats in the documentation: https://pandas.pydata.org/pandas-docs/stable/user_guide/indexing.html#returning-a-view-versus-a-copy\n",
      "  self.obj[key] = infer_fill_value(value)\n",
      "C:\\Users\\sahin\\anaconda3\\lib\\site-packages\\pandas\\core\\indexing.py:1817: SettingWithCopyWarning: \n",
      "A value is trying to be set on a copy of a slice from a DataFrame.\n",
      "Try using .loc[row_indexer,col_indexer] = value instead\n",
      "\n",
      "See the caveats in the documentation: https://pandas.pydata.org/pandas-docs/stable/user_guide/indexing.html#returning-a-view-versus-a-copy\n",
      "  self._setitem_single_column(loc, value, pi)\n"
     ]
    }
   ],
   "source": [
    "df_high.loc[(df_high['n_dependants'] >= 1), 'parental_status'] = 'Parent'"
   ]
  },
  {
   "cell_type": "markdown",
   "id": "0ac13ba2",
   "metadata": {},
   "source": [
    "* create flag for non-parents (0 children)"
   ]
  },
  {
   "cell_type": "code",
   "execution_count": 59,
   "id": "40bf72fc",
   "metadata": {},
   "outputs": [],
   "source": [
    "df_high.loc[(df_high['n_dependants'] == 0), 'parental_status'] = 'Non-Parent'"
   ]
  },
  {
   "cell_type": "markdown",
   "id": "a6a85462",
   "metadata": {},
   "source": [
    "* check parental_status flag"
   ]
  },
  {
   "cell_type": "code",
   "execution_count": 60,
   "id": "67d937e5",
   "metadata": {},
   "outputs": [
    {
     "data": {
      "text/plain": [
       "Non-Parent     7979527\n",
       "Parent        23950452\n",
       "Name: parental_status, dtype: int64"
      ]
     },
     "execution_count": 60,
     "metadata": {},
     "output_type": "execute_result"
    }
   ],
   "source": [
    "df_high['parental_status'].value_counts().sort_index()"
   ]
  },
  {
   "cell_type": "code",
   "execution_count": 61,
   "id": "2fc1ba63",
   "metadata": {},
   "outputs": [
    {
     "data": {
      "text/plain": [
       "(31929979,)"
      ]
     },
     "execution_count": 61,
     "metadata": {},
     "output_type": "execute_result"
    }
   ],
   "source": [
    "df_high['parental_status'].shape"
   ]
  },
  {
   "cell_type": "markdown",
   "id": "d23e40d1",
   "metadata": {},
   "source": [
    "* head results just for n_dependants & parental_status"
   ]
  },
  {
   "cell_type": "code",
   "execution_count": 62,
   "id": "afd38485",
   "metadata": {},
   "outputs": [
    {
     "data": {
      "text/html": [
       "<div>\n",
       "<style scoped>\n",
       "    .dataframe tbody tr th:only-of-type {\n",
       "        vertical-align: middle;\n",
       "    }\n",
       "\n",
       "    .dataframe tbody tr th {\n",
       "        vertical-align: top;\n",
       "    }\n",
       "\n",
       "    .dataframe thead th {\n",
       "        text-align: right;\n",
       "    }\n",
       "</style>\n",
       "<table border=\"1\" class=\"dataframe\">\n",
       "  <thead>\n",
       "    <tr style=\"text-align: right;\">\n",
       "      <th></th>\n",
       "      <th>n_dependants</th>\n",
       "      <th>parental_status</th>\n",
       "    </tr>\n",
       "  </thead>\n",
       "  <tbody>\n",
       "    <tr>\n",
       "      <th>0</th>\n",
       "      <td>3</td>\n",
       "      <td>Parent</td>\n",
       "    </tr>\n",
       "    <tr>\n",
       "      <th>1</th>\n",
       "      <td>3</td>\n",
       "      <td>Parent</td>\n",
       "    </tr>\n",
       "    <tr>\n",
       "      <th>2</th>\n",
       "      <td>3</td>\n",
       "      <td>Parent</td>\n",
       "    </tr>\n",
       "    <tr>\n",
       "      <th>3</th>\n",
       "      <td>3</td>\n",
       "      <td>Parent</td>\n",
       "    </tr>\n",
       "    <tr>\n",
       "      <th>4</th>\n",
       "      <td>3</td>\n",
       "      <td>Parent</td>\n",
       "    </tr>\n",
       "  </tbody>\n",
       "</table>\n",
       "</div>"
      ],
      "text/plain": [
       "   n_dependants parental_status\n",
       "0             3          Parent\n",
       "1             3          Parent\n",
       "2             3          Parent\n",
       "3             3          Parent\n",
       "4             3          Parent"
      ]
     },
     "execution_count": 62,
     "metadata": {},
     "output_type": "execute_result"
    }
   ],
   "source": [
    "df_high[['n_dependants', 'parental_status']].head()"
   ]
  },
  {
   "cell_type": "code",
   "execution_count": 63,
   "id": "c37e0b2f",
   "metadata": {},
   "outputs": [
    {
     "data": {
      "text/html": [
       "<div>\n",
       "<style scoped>\n",
       "    .dataframe tbody tr th:only-of-type {\n",
       "        vertical-align: middle;\n",
       "    }\n",
       "\n",
       "    .dataframe tbody tr th {\n",
       "        vertical-align: top;\n",
       "    }\n",
       "\n",
       "    .dataframe thead th {\n",
       "        text-align: right;\n",
       "    }\n",
       "</style>\n",
       "<table border=\"1\" class=\"dataframe\">\n",
       "  <thead>\n",
       "    <tr style=\"text-align: right;\">\n",
       "      <th></th>\n",
       "      <th>n_dependants</th>\n",
       "      <th>parental_status</th>\n",
       "    </tr>\n",
       "  </thead>\n",
       "  <tbody>\n",
       "    <tr>\n",
       "      <th>32641263</th>\n",
       "      <td>3</td>\n",
       "      <td>Parent</td>\n",
       "    </tr>\n",
       "    <tr>\n",
       "      <th>32641264</th>\n",
       "      <td>3</td>\n",
       "      <td>Parent</td>\n",
       "    </tr>\n",
       "    <tr>\n",
       "      <th>32641265</th>\n",
       "      <td>3</td>\n",
       "      <td>Parent</td>\n",
       "    </tr>\n",
       "    <tr>\n",
       "      <th>32641266</th>\n",
       "      <td>3</td>\n",
       "      <td>Parent</td>\n",
       "    </tr>\n",
       "    <tr>\n",
       "      <th>32641267</th>\n",
       "      <td>3</td>\n",
       "      <td>Parent</td>\n",
       "    </tr>\n",
       "  </tbody>\n",
       "</table>\n",
       "</div>"
      ],
      "text/plain": [
       "          n_dependants parental_status\n",
       "32641263             3          Parent\n",
       "32641264             3          Parent\n",
       "32641265             3          Parent\n",
       "32641266             3          Parent\n",
       "32641267             3          Parent"
      ]
     },
     "execution_count": 63,
     "metadata": {},
     "output_type": "execute_result"
    }
   ],
   "source": [
    "df_high[['n_dependants', 'parental_status']].tail()"
   ]
  },
  {
   "cell_type": "markdown",
   "id": "4a20f7c5",
   "metadata": {},
   "source": [
    "#### Check data type of new variables"
   ]
  },
  {
   "cell_type": "code",
   "execution_count": 64,
   "id": "cf2e4011",
   "metadata": {},
   "outputs": [
    {
     "data": {
      "text/plain": [
       "age_group          object\n",
       "income_range       object\n",
       "parental_status    object\n",
       "dtype: object"
      ]
     },
     "execution_count": 64,
     "metadata": {},
     "output_type": "execute_result"
    }
   ],
   "source": [
    "df_high[['age_group', 'income_range', 'parental_status']].dtypes"
   ]
  },
  {
   "cell_type": "markdown",
   "id": "a29cc597",
   "metadata": {},
   "source": [
    "* convert to \"age_group\", \"income_range\", \"parental_status\" from object to category for optimizing memory "
   ]
  },
  {
   "cell_type": "code",
   "execution_count": 65,
   "id": "c1a042b8",
   "metadata": {},
   "outputs": [
    {
     "name": "stderr",
     "output_type": "stream",
     "text": [
      "C:\\Users\\sahin\\anaconda3\\lib\\site-packages\\pandas\\core\\frame.py:3641: SettingWithCopyWarning: \n",
      "A value is trying to be set on a copy of a slice from a DataFrame.\n",
      "Try using .loc[row_indexer,col_indexer] = value instead\n",
      "\n",
      "See the caveats in the documentation: https://pandas.pydata.org/pandas-docs/stable/user_guide/indexing.html#returning-a-view-versus-a-copy\n",
      "  self[k1] = value[k2]\n"
     ]
    }
   ],
   "source": [
    "df_high[['age_group', 'income_range', 'parental_status']] = df_high[['age_group', 'income_range', 'parental_status']].astype('category')"
   ]
  },
  {
   "cell_type": "markdown",
   "id": "1ecaf2aa",
   "metadata": {},
   "source": [
    "* confirm dtype change"
   ]
  },
  {
   "cell_type": "code",
   "execution_count": 66,
   "id": "94a798fe",
   "metadata": {},
   "outputs": [
    {
     "data": {
      "text/plain": [
       "age_group          category\n",
       "income_range       category\n",
       "parental_status    category\n",
       "dtype: object"
      ]
     },
     "execution_count": 66,
     "metadata": {},
     "output_type": "execute_result"
    }
   ],
   "source": [
    "df_high[['age_group', 'income_range', 'parental_status']].dtypes"
   ]
  },
  {
   "cell_type": "markdown",
   "id": "f5a5399e",
   "metadata": {},
   "source": [
    "#### Checking data types of existing variables"
   ]
  },
  {
   "cell_type": "code",
   "execution_count": 67,
   "id": "662b380e",
   "metadata": {},
   "outputs": [
    {
     "data": {
      "text/plain": [
       "order_id                     int64\n",
       "user_id                      int64\n",
       "order_number                 int64\n",
       "orders_day_of_the_week        int8\n",
       "order_hour_of_day             int8\n",
       "days_since_prior_order     float16\n",
       "product_id                 float64\n",
       "add_to_cart_order          float16\n",
       "reordered                  float16\n",
       "product_name              category\n",
       "aisle_id                   float16\n",
       "department_id              float64\n",
       "prices                     float64\n",
       "max_order                     int8\n",
       "loyalty_flag              category\n",
       "spending                   float16\n",
       "spending_flag             category\n",
       "order_frequency            float16\n",
       "order_frequency_flag      category\n",
       "gender                      object\n",
       "state                       object\n",
       "age                          int64\n",
       "date_joined                 object\n",
       "n_dependants                 int64\n",
       "fam_status                  object\n",
       "income                       int64\n",
       "_merge                    category\n",
       "region                    category\n",
       "exclusion_flag            category\n",
       "age_group                 category\n",
       "income_range              category\n",
       "parental_status           category\n",
       "dtype: object"
      ]
     },
     "execution_count": 67,
     "metadata": {},
     "output_type": "execute_result"
    }
   ],
   "source": [
    "df_high.dtypes"
   ]
  },
  {
   "cell_type": "markdown",
   "id": "6b808107",
   "metadata": {},
   "source": [
    "* convert the \"gender\", \"state\", \"data_joined\", \"farm_status\", \"income_bracket\" columns to category for optimizing memory "
   ]
  },
  {
   "cell_type": "code",
   "execution_count": 68,
   "id": "7d74d98b",
   "metadata": {},
   "outputs": [],
   "source": [
    "df_high[['gender', 'state', 'date_joined', 'fam_status']] = df_high[['gender', 'state', 'date_joined', 'fam_status']].astype('category')"
   ]
  },
  {
   "cell_type": "markdown",
   "id": "bc8a6985",
   "metadata": {},
   "source": [
    "* confirm dtype change"
   ]
  },
  {
   "cell_type": "code",
   "execution_count": 69,
   "id": "ceb35257",
   "metadata": {},
   "outputs": [
    {
     "data": {
      "text/plain": [
       "gender         category\n",
       "state          category\n",
       "date_joined    category\n",
       "fam_status     category\n",
       "dtype: object"
      ]
     },
     "execution_count": 69,
     "metadata": {},
     "output_type": "execute_result"
    }
   ],
   "source": [
    "df_high[['gender', 'state', 'date_joined', 'fam_status']].dtypes"
   ]
  },
  {
   "cell_type": "code",
   "execution_count": 70,
   "id": "3aa2579a",
   "metadata": {},
   "outputs": [
    {
     "data": {
      "text/plain": [
       "order_id                     int64\n",
       "user_id                      int64\n",
       "order_number                 int64\n",
       "orders_day_of_the_week        int8\n",
       "order_hour_of_day             int8\n",
       "days_since_prior_order     float16\n",
       "product_id                 float64\n",
       "add_to_cart_order          float16\n",
       "reordered                  float16\n",
       "product_name              category\n",
       "aisle_id                   float16\n",
       "department_id              float64\n",
       "prices                     float64\n",
       "max_order                     int8\n",
       "loyalty_flag              category\n",
       "spending                   float16\n",
       "spending_flag             category\n",
       "order_frequency            float16\n",
       "order_frequency_flag      category\n",
       "gender                    category\n",
       "state                     category\n",
       "age                          int64\n",
       "date_joined               category\n",
       "n_dependants                 int64\n",
       "fam_status                category\n",
       "income                       int64\n",
       "_merge                    category\n",
       "region                    category\n",
       "exclusion_flag            category\n",
       "age_group                 category\n",
       "income_range              category\n",
       "parental_status           category\n",
       "dtype: object"
      ]
     },
     "execution_count": 70,
     "metadata": {},
     "output_type": "execute_result"
    }
   ],
   "source": [
    "df_high.dtypes"
   ]
  },
  {
   "cell_type": "markdown",
   "id": "6aa4a512",
   "metadata": {},
   "source": [
    "#### Create variable for day of week "
   ]
  },
  {
   "cell_type": "code",
   "execution_count": 71,
   "id": "af97d9d7",
   "metadata": {},
   "outputs": [
    {
     "data": {
      "text/plain": [
       "0    6107725\n",
       "1    5572954\n",
       "2    4147880\n",
       "3    3785966\n",
       "4    3733707\n",
       "5    4152834\n",
       "6    4428913\n",
       "Name: orders_day_of_the_week, dtype: int64"
      ]
     },
     "execution_count": 71,
     "metadata": {},
     "output_type": "execute_result"
    }
   ],
   "source": [
    "df_high['orders_day_of_the_week'].value_counts().sort_index()"
   ]
  },
  {
   "cell_type": "markdown",
   "id": "263d33de",
   "metadata": {},
   "source": [
    "#### Creating \"weekday\" column with loc function"
   ]
  },
  {
   "cell_type": "code",
   "execution_count": 72,
   "id": "4dbbebc8",
   "metadata": {},
   "outputs": [
    {
     "name": "stderr",
     "output_type": "stream",
     "text": [
      "C:\\Users\\sahin\\anaconda3\\lib\\site-packages\\pandas\\core\\indexing.py:1684: SettingWithCopyWarning: \n",
      "A value is trying to be set on a copy of a slice from a DataFrame.\n",
      "Try using .loc[row_indexer,col_indexer] = value instead\n",
      "\n",
      "See the caveats in the documentation: https://pandas.pydata.org/pandas-docs/stable/user_guide/indexing.html#returning-a-view-versus-a-copy\n",
      "  self.obj[key] = infer_fill_value(value)\n",
      "C:\\Users\\sahin\\anaconda3\\lib\\site-packages\\pandas\\core\\indexing.py:1817: SettingWithCopyWarning: \n",
      "A value is trying to be set on a copy of a slice from a DataFrame.\n",
      "Try using .loc[row_indexer,col_indexer] = value instead\n",
      "\n",
      "See the caveats in the documentation: https://pandas.pydata.org/pandas-docs/stable/user_guide/indexing.html#returning-a-view-versus-a-copy\n",
      "  self._setitem_single_column(loc, value, pi)\n"
     ]
    }
   ],
   "source": [
    "df_high.loc[df_high['orders_day_of_the_week'] == 0, 'weekday'] = 'Saturday'\n",
    "df_high.loc[df_high['orders_day_of_the_week'] == 1, 'weekday'] = 'Sunday'\n",
    "df_high.loc[df_high['orders_day_of_the_week'] == 2, 'weekday'] = 'Monday'\n",
    "df_high.loc[df_high['orders_day_of_the_week'] == 3, 'weekday'] = 'Tuesday'\n",
    "df_high.loc[df_high['orders_day_of_the_week'] == 4, 'weekday'] = 'Wednesday'\n",
    "df_high.loc[df_high['orders_day_of_the_week'] == 5, 'weekday'] = 'Thursday'\n",
    "df_high.loc[df_high['orders_day_of_the_week'] == 6, 'weekday'] = 'Friday'"
   ]
  },
  {
   "cell_type": "markdown",
   "id": "8e48f1d8",
   "metadata": {},
   "source": [
    "* check order totals for the weekdays"
   ]
  },
  {
   "cell_type": "code",
   "execution_count": 73,
   "id": "b9c76e64",
   "metadata": {},
   "outputs": [
    {
     "data": {
      "text/plain": [
       "Friday       4428913\n",
       "Monday       4147880\n",
       "Saturday     6107725\n",
       "Sunday       5572954\n",
       "Thursday     4152834\n",
       "Tuesday      3785966\n",
       "Wednesday    3733707\n",
       "Name: weekday, dtype: int64"
      ]
     },
     "execution_count": 73,
     "metadata": {},
     "output_type": "execute_result"
    }
   ],
   "source": [
    "df_high['weekday'].value_counts().sort_index()"
   ]
  },
  {
   "cell_type": "markdown",
   "id": "c6399be4",
   "metadata": {},
   "source": [
    "#### Create variable for part of the day"
   ]
  },
  {
   "cell_type": "code",
   "execution_count": 74,
   "id": "1d3f37b8",
   "metadata": {},
   "outputs": [
    {
     "data": {
      "text/plain": [
       "0      214813\n",
       "1      113751\n",
       "2       68154\n",
       "3       50530\n",
       "4       52445\n",
       "5       86914\n",
       "6      288126\n",
       "7      883423\n",
       "8     1700666\n",
       "9     2426087\n",
       "10    2725478\n",
       "11    2695829\n",
       "12    2574901\n",
       "13    2620711\n",
       "14    2649190\n",
       "15    2619705\n",
       "16    2493907\n",
       "17    2052430\n",
       "18    1607146\n",
       "19    1237579\n",
       "20     961743\n",
       "21     784844\n",
       "22     625350\n",
       "23     396257\n",
       "Name: order_hour_of_day, dtype: int64"
      ]
     },
     "execution_count": 74,
     "metadata": {},
     "output_type": "execute_result"
    }
   ],
   "source": [
    "df_high['order_hour_of_day'].value_counts().sort_index()"
   ]
  },
  {
   "cell_type": "markdown",
   "id": "ca4cbe6e",
   "metadata": {},
   "source": [
    "* I will define the hours of the days such as: Morning (0-11), Afternoon (12-17), Evening (18-23)"
   ]
  },
  {
   "cell_type": "code",
   "execution_count": 75,
   "id": "ffa8bac3",
   "metadata": {},
   "outputs": [],
   "source": [
    "result = []\n",
    "\n",
    "for value in df_high['order_hour_of_day']:\n",
    "    if value <= 11:\n",
    "        result.append('morning')\n",
    "    elif (value > 11) and (value <= 17):\n",
    "        result.append('afternoon')\n",
    "    elif (value > 17) and (value <= 23):\n",
    "        result.append('evening')\n",
    "    else:\n",
    "        result.append('other')"
   ]
  },
  {
   "cell_type": "code",
   "execution_count": 76,
   "id": "669a86c2",
   "metadata": {},
   "outputs": [
    {
     "data": {
      "text/plain": [
       "['morning',\n",
       " 'morning',\n",
       " 'morning',\n",
       " 'morning',\n",
       " 'morning',\n",
       " 'morning',\n",
       " 'morning',\n",
       " 'morning',\n",
       " 'morning',\n",
       " 'morning',\n",
       " 'morning',\n",
       " 'afternoon',\n",
       " 'afternoon',\n",
       " 'afternoon',\n",
       " 'afternoon',\n",
       " 'afternoon',\n",
       " 'morning',\n",
       " 'morning',\n",
       " 'morning',\n",
       " 'morning',\n",
       " 'morning',\n",
       " 'afternoon',\n",
       " 'afternoon',\n",
       " 'afternoon',\n",
       " 'afternoon',\n",
       " 'afternoon',\n",
       " 'afternoon',\n",
       " 'afternoon',\n",
       " 'afternoon',\n",
       " 'morning',\n",
       " 'morning',\n",
       " 'morning',\n",
       " 'morning',\n",
       " 'morning',\n",
       " 'morning',\n",
       " 'morning',\n",
       " 'morning',\n",
       " 'morning',\n",
       " 'afternoon',\n",
       " 'afternoon',\n",
       " 'afternoon',\n",
       " 'afternoon',\n",
       " 'afternoon',\n",
       " 'afternoon',\n",
       " 'afternoon',\n",
       " 'afternoon',\n",
       " 'afternoon',\n",
       " 'afternoon',\n",
       " 'afternoon',\n",
       " 'afternoon',\n",
       " 'morning',\n",
       " 'morning',\n",
       " 'morning',\n",
       " 'morning',\n",
       " 'morning',\n",
       " 'morning',\n",
       " 'morning',\n",
       " 'morning',\n",
       " 'morning',\n",
       " 'morning',\n",
       " 'morning',\n",
       " 'morning',\n",
       " 'morning',\n",
       " 'morning',\n",
       " 'morning',\n",
       " 'morning',\n",
       " 'morning',\n",
       " 'morning',\n",
       " 'morning',\n",
       " 'morning',\n",
       " 'morning',\n",
       " 'morning',\n",
       " 'morning',\n",
       " 'morning',\n",
       " 'morning',\n",
       " 'morning',\n",
       " 'morning',\n",
       " 'morning',\n",
       " 'morning',\n",
       " 'morning',\n",
       " 'morning',\n",
       " 'morning',\n",
       " 'morning',\n",
       " 'morning',\n",
       " 'morning',\n",
       " 'morning',\n",
       " 'morning',\n",
       " 'morning',\n",
       " 'morning',\n",
       " 'morning',\n",
       " 'morning',\n",
       " 'morning',\n",
       " 'morning',\n",
       " 'morning',\n",
       " 'morning',\n",
       " 'morning',\n",
       " 'morning',\n",
       " 'morning',\n",
       " 'morning',\n",
       " 'morning',\n",
       " 'morning',\n",
       " 'morning',\n",
       " 'morning',\n",
       " 'morning',\n",
       " 'morning',\n",
       " 'morning',\n",
       " 'morning',\n",
       " 'morning',\n",
       " 'morning',\n",
       " 'morning',\n",
       " 'morning',\n",
       " 'morning',\n",
       " 'morning',\n",
       " 'morning',\n",
       " 'morning',\n",
       " 'morning',\n",
       " 'morning',\n",
       " 'morning',\n",
       " 'morning',\n",
       " 'morning',\n",
       " 'morning',\n",
       " 'morning',\n",
       " 'morning',\n",
       " 'morning',\n",
       " 'morning',\n",
       " 'morning',\n",
       " 'morning',\n",
       " 'morning',\n",
       " 'morning',\n",
       " 'morning',\n",
       " 'morning',\n",
       " 'afternoon',\n",
       " 'afternoon',\n",
       " 'afternoon',\n",
       " 'afternoon',\n",
       " 'afternoon',\n",
       " 'afternoon',\n",
       " 'afternoon',\n",
       " 'afternoon',\n",
       " 'afternoon',\n",
       " 'afternoon',\n",
       " 'afternoon',\n",
       " 'afternoon',\n",
       " 'afternoon',\n",
       " 'afternoon',\n",
       " 'afternoon',\n",
       " 'afternoon',\n",
       " 'afternoon',\n",
       " 'afternoon',\n",
       " 'afternoon',\n",
       " 'afternoon',\n",
       " 'afternoon',\n",
       " 'afternoon',\n",
       " 'afternoon',\n",
       " 'afternoon',\n",
       " 'afternoon',\n",
       " 'afternoon',\n",
       " 'afternoon',\n",
       " 'afternoon',\n",
       " 'afternoon',\n",
       " 'afternoon',\n",
       " 'morning',\n",
       " 'morning',\n",
       " 'morning',\n",
       " 'morning',\n",
       " 'morning',\n",
       " 'morning',\n",
       " 'morning',\n",
       " 'morning',\n",
       " 'morning',\n",
       " 'morning',\n",
       " 'morning',\n",
       " 'morning',\n",
       " 'morning',\n",
       " 'morning',\n",
       " 'morning',\n",
       " 'morning',\n",
       " 'morning',\n",
       " 'morning',\n",
       " 'morning',\n",
       " 'morning',\n",
       " 'morning',\n",
       " 'morning',\n",
       " 'morning',\n",
       " 'morning',\n",
       " 'morning',\n",
       " 'morning',\n",
       " 'morning',\n",
       " 'morning',\n",
       " 'morning',\n",
       " 'morning',\n",
       " 'morning',\n",
       " 'morning',\n",
       " 'morning',\n",
       " 'morning',\n",
       " 'morning',\n",
       " 'morning',\n",
       " 'morning',\n",
       " 'morning',\n",
       " 'morning',\n",
       " 'morning',\n",
       " 'morning',\n",
       " 'morning',\n",
       " 'morning',\n",
       " 'morning',\n",
       " 'morning',\n",
       " 'morning',\n",
       " 'morning',\n",
       " 'morning',\n",
       " 'morning',\n",
       " 'morning',\n",
       " 'morning',\n",
       " 'morning',\n",
       " 'morning',\n",
       " 'morning',\n",
       " 'morning',\n",
       " 'morning',\n",
       " 'morning',\n",
       " 'morning',\n",
       " 'morning',\n",
       " 'morning',\n",
       " 'morning',\n",
       " 'morning',\n",
       " 'morning',\n",
       " 'morning',\n",
       " 'morning',\n",
       " 'morning',\n",
       " 'morning',\n",
       " 'morning',\n",
       " 'morning',\n",
       " 'morning',\n",
       " 'morning',\n",
       " 'morning',\n",
       " 'morning',\n",
       " 'morning',\n",
       " 'morning',\n",
       " 'morning',\n",
       " 'morning',\n",
       " 'morning',\n",
       " 'morning',\n",
       " 'morning',\n",
       " 'morning',\n",
       " 'morning',\n",
       " 'morning',\n",
       " 'morning',\n",
       " 'morning',\n",
       " 'morning',\n",
       " 'morning',\n",
       " 'morning',\n",
       " 'morning',\n",
       " 'morning',\n",
       " 'morning',\n",
       " 'morning',\n",
       " 'morning',\n",
       " 'morning',\n",
       " 'morning',\n",
       " 'afternoon',\n",
       " 'afternoon',\n",
       " 'afternoon',\n",
       " 'afternoon',\n",
       " 'afternoon',\n",
       " 'afternoon',\n",
       " 'afternoon',\n",
       " 'afternoon',\n",
       " 'afternoon',\n",
       " 'afternoon',\n",
       " 'evening',\n",
       " 'evening',\n",
       " 'evening',\n",
       " 'evening',\n",
       " 'evening',\n",
       " 'evening',\n",
       " 'evening',\n",
       " 'evening',\n",
       " 'evening',\n",
       " 'afternoon',\n",
       " 'afternoon',\n",
       " 'afternoon',\n",
       " 'afternoon',\n",
       " 'afternoon',\n",
       " 'afternoon',\n",
       " 'evening',\n",
       " 'evening',\n",
       " 'evening',\n",
       " 'evening',\n",
       " 'evening',\n",
       " 'afternoon',\n",
       " 'afternoon',\n",
       " 'afternoon',\n",
       " 'afternoon',\n",
       " 'afternoon',\n",
       " 'afternoon',\n",
       " 'afternoon',\n",
       " 'afternoon',\n",
       " 'afternoon',\n",
       " 'afternoon',\n",
       " 'afternoon',\n",
       " 'afternoon',\n",
       " 'afternoon',\n",
       " 'afternoon',\n",
       " 'afternoon',\n",
       " 'afternoon',\n",
       " 'afternoon',\n",
       " 'afternoon',\n",
       " 'afternoon',\n",
       " 'afternoon',\n",
       " 'afternoon',\n",
       " 'afternoon',\n",
       " 'afternoon',\n",
       " 'afternoon',\n",
       " 'afternoon',\n",
       " 'afternoon',\n",
       " 'afternoon',\n",
       " 'afternoon',\n",
       " 'afternoon',\n",
       " 'afternoon',\n",
       " 'afternoon',\n",
       " 'afternoon',\n",
       " 'afternoon',\n",
       " 'afternoon',\n",
       " 'afternoon',\n",
       " 'afternoon',\n",
       " 'afternoon',\n",
       " 'afternoon',\n",
       " 'afternoon',\n",
       " 'afternoon',\n",
       " 'afternoon',\n",
       " 'afternoon',\n",
       " 'afternoon',\n",
       " 'afternoon',\n",
       " 'afternoon',\n",
       " 'afternoon',\n",
       " 'afternoon',\n",
       " 'evening',\n",
       " 'evening',\n",
       " 'evening',\n",
       " 'evening',\n",
       " 'evening',\n",
       " 'afternoon',\n",
       " 'afternoon',\n",
       " 'afternoon',\n",
       " 'afternoon',\n",
       " 'afternoon',\n",
       " 'afternoon',\n",
       " 'afternoon',\n",
       " 'morning',\n",
       " 'morning',\n",
       " 'morning',\n",
       " 'morning',\n",
       " 'morning',\n",
       " 'morning',\n",
       " 'afternoon',\n",
       " 'afternoon',\n",
       " 'afternoon',\n",
       " 'afternoon',\n",
       " 'afternoon',\n",
       " 'afternoon',\n",
       " 'afternoon',\n",
       " 'afternoon',\n",
       " 'afternoon',\n",
       " 'afternoon',\n",
       " 'afternoon',\n",
       " 'afternoon',\n",
       " 'afternoon',\n",
       " 'afternoon',\n",
       " 'afternoon',\n",
       " 'afternoon',\n",
       " 'afternoon',\n",
       " 'afternoon',\n",
       " 'afternoon',\n",
       " 'afternoon',\n",
       " 'afternoon',\n",
       " 'afternoon',\n",
       " 'afternoon',\n",
       " 'afternoon',\n",
       " 'afternoon',\n",
       " 'afternoon',\n",
       " 'afternoon',\n",
       " 'afternoon',\n",
       " 'afternoon',\n",
       " 'afternoon',\n",
       " 'afternoon',\n",
       " 'afternoon',\n",
       " 'afternoon',\n",
       " 'evening',\n",
       " 'evening',\n",
       " 'evening',\n",
       " 'evening',\n",
       " 'evening',\n",
       " 'evening',\n",
       " 'evening',\n",
       " 'evening',\n",
       " 'evening',\n",
       " 'evening',\n",
       " 'evening',\n",
       " 'evening',\n",
       " 'evening',\n",
       " 'evening',\n",
       " 'evening',\n",
       " 'evening',\n",
       " 'evening',\n",
       " 'morning',\n",
       " 'morning',\n",
       " 'morning',\n",
       " 'morning',\n",
       " 'morning',\n",
       " 'morning',\n",
       " 'morning',\n",
       " 'morning',\n",
       " 'morning',\n",
       " 'morning',\n",
       " 'morning',\n",
       " 'morning',\n",
       " 'morning',\n",
       " 'evening',\n",
       " 'evening',\n",
       " 'evening',\n",
       " 'evening',\n",
       " 'evening',\n",
       " 'evening',\n",
       " 'evening',\n",
       " 'evening',\n",
       " 'evening',\n",
       " 'evening',\n",
       " 'evening',\n",
       " 'evening',\n",
       " 'evening',\n",
       " 'evening',\n",
       " 'evening',\n",
       " 'evening',\n",
       " 'evening',\n",
       " 'evening',\n",
       " 'evening',\n",
       " 'evening',\n",
       " 'evening',\n",
       " 'evening',\n",
       " 'evening',\n",
       " 'evening',\n",
       " 'evening',\n",
       " 'evening',\n",
       " 'evening',\n",
       " 'evening',\n",
       " 'evening',\n",
       " 'evening',\n",
       " 'evening',\n",
       " 'evening',\n",
       " 'evening',\n",
       " 'evening',\n",
       " 'evening',\n",
       " 'evening',\n",
       " 'evening',\n",
       " 'evening',\n",
       " 'evening',\n",
       " 'evening',\n",
       " 'evening',\n",
       " 'evening',\n",
       " 'evening',\n",
       " 'evening',\n",
       " 'evening',\n",
       " 'morning',\n",
       " 'morning',\n",
       " 'morning',\n",
       " 'morning',\n",
       " 'morning',\n",
       " 'morning',\n",
       " 'morning',\n",
       " 'morning',\n",
       " 'morning',\n",
       " 'morning',\n",
       " 'morning',\n",
       " 'morning',\n",
       " 'morning',\n",
       " 'morning',\n",
       " 'morning',\n",
       " 'morning',\n",
       " 'evening',\n",
       " 'evening',\n",
       " 'evening',\n",
       " 'evening',\n",
       " 'evening',\n",
       " 'evening',\n",
       " 'evening',\n",
       " 'evening',\n",
       " 'evening',\n",
       " 'evening',\n",
       " 'evening',\n",
       " 'evening',\n",
       " 'evening',\n",
       " 'afternoon',\n",
       " 'afternoon',\n",
       " 'afternoon',\n",
       " 'afternoon',\n",
       " 'afternoon',\n",
       " 'afternoon',\n",
       " 'afternoon',\n",
       " 'afternoon',\n",
       " 'afternoon',\n",
       " 'morning',\n",
       " 'morning',\n",
       " 'morning',\n",
       " 'morning',\n",
       " 'morning',\n",
       " 'morning',\n",
       " 'morning',\n",
       " 'morning',\n",
       " 'morning',\n",
       " 'morning',\n",
       " 'evening',\n",
       " 'evening',\n",
       " 'evening',\n",
       " 'evening',\n",
       " 'evening',\n",
       " 'evening',\n",
       " 'evening',\n",
       " 'afternoon',\n",
       " 'afternoon',\n",
       " 'afternoon',\n",
       " 'afternoon',\n",
       " 'afternoon',\n",
       " 'afternoon',\n",
       " 'afternoon',\n",
       " 'afternoon',\n",
       " 'afternoon',\n",
       " 'afternoon',\n",
       " 'afternoon',\n",
       " 'afternoon',\n",
       " 'afternoon',\n",
       " 'afternoon',\n",
       " 'afternoon',\n",
       " 'afternoon',\n",
       " 'afternoon',\n",
       " 'afternoon',\n",
       " 'afternoon',\n",
       " 'afternoon',\n",
       " 'afternoon',\n",
       " 'afternoon',\n",
       " 'afternoon',\n",
       " 'afternoon',\n",
       " 'afternoon',\n",
       " 'afternoon',\n",
       " 'afternoon',\n",
       " 'afternoon',\n",
       " 'afternoon',\n",
       " 'afternoon',\n",
       " 'afternoon',\n",
       " 'afternoon',\n",
       " 'afternoon',\n",
       " 'afternoon',\n",
       " 'afternoon',\n",
       " 'afternoon',\n",
       " 'afternoon',\n",
       " 'afternoon',\n",
       " 'afternoon',\n",
       " 'afternoon',\n",
       " 'afternoon',\n",
       " 'afternoon',\n",
       " 'afternoon',\n",
       " 'afternoon',\n",
       " 'afternoon',\n",
       " 'afternoon',\n",
       " 'afternoon',\n",
       " 'afternoon',\n",
       " 'afternoon',\n",
       " 'afternoon',\n",
       " 'afternoon',\n",
       " 'afternoon',\n",
       " 'afternoon',\n",
       " 'morning',\n",
       " 'morning',\n",
       " 'morning',\n",
       " 'morning',\n",
       " 'morning',\n",
       " 'morning',\n",
       " 'morning',\n",
       " 'morning',\n",
       " 'morning',\n",
       " 'morning',\n",
       " 'morning',\n",
       " 'morning',\n",
       " 'morning',\n",
       " 'morning',\n",
       " 'morning',\n",
       " 'morning',\n",
       " 'morning',\n",
       " 'morning',\n",
       " 'morning',\n",
       " 'morning',\n",
       " 'morning',\n",
       " 'morning',\n",
       " 'morning',\n",
       " 'morning',\n",
       " 'afternoon',\n",
       " 'afternoon',\n",
       " 'afternoon',\n",
       " 'afternoon',\n",
       " 'afternoon',\n",
       " 'morning',\n",
       " 'morning',\n",
       " 'morning',\n",
       " 'morning',\n",
       " 'morning',\n",
       " 'morning',\n",
       " 'morning',\n",
       " 'morning',\n",
       " 'morning',\n",
       " 'morning',\n",
       " 'morning',\n",
       " 'morning',\n",
       " 'morning',\n",
       " 'afternoon',\n",
       " 'afternoon',\n",
       " 'afternoon',\n",
       " 'afternoon',\n",
       " 'afternoon',\n",
       " 'afternoon',\n",
       " 'afternoon',\n",
       " 'afternoon',\n",
       " 'afternoon',\n",
       " 'afternoon',\n",
       " 'afternoon',\n",
       " 'afternoon',\n",
       " 'afternoon',\n",
       " 'afternoon',\n",
       " 'afternoon',\n",
       " 'afternoon',\n",
       " 'afternoon',\n",
       " 'afternoon',\n",
       " 'afternoon',\n",
       " 'afternoon',\n",
       " 'afternoon',\n",
       " 'afternoon',\n",
       " 'afternoon',\n",
       " 'afternoon',\n",
       " 'afternoon',\n",
       " 'afternoon',\n",
       " 'afternoon',\n",
       " 'afternoon',\n",
       " 'afternoon',\n",
       " 'afternoon',\n",
       " 'afternoon',\n",
       " 'afternoon',\n",
       " 'afternoon',\n",
       " 'afternoon',\n",
       " 'afternoon',\n",
       " 'afternoon',\n",
       " 'afternoon',\n",
       " 'afternoon',\n",
       " 'afternoon',\n",
       " 'afternoon',\n",
       " 'afternoon',\n",
       " 'afternoon',\n",
       " 'afternoon',\n",
       " 'afternoon',\n",
       " 'afternoon',\n",
       " 'afternoon',\n",
       " 'afternoon',\n",
       " 'afternoon',\n",
       " 'afternoon',\n",
       " 'afternoon',\n",
       " 'afternoon',\n",
       " 'evening',\n",
       " 'evening',\n",
       " 'evening',\n",
       " 'evening',\n",
       " 'evening',\n",
       " 'evening',\n",
       " 'evening',\n",
       " 'evening',\n",
       " 'evening',\n",
       " 'evening',\n",
       " 'evening',\n",
       " 'evening',\n",
       " 'evening',\n",
       " 'evening',\n",
       " 'evening',\n",
       " 'evening',\n",
       " 'evening',\n",
       " 'evening',\n",
       " 'evening',\n",
       " 'evening',\n",
       " 'evening',\n",
       " 'evening',\n",
       " 'evening',\n",
       " 'evening',\n",
       " 'evening',\n",
       " 'evening',\n",
       " 'evening',\n",
       " 'evening',\n",
       " 'evening',\n",
       " 'evening',\n",
       " 'evening',\n",
       " 'evening',\n",
       " 'evening',\n",
       " 'afternoon',\n",
       " 'afternoon',\n",
       " 'afternoon',\n",
       " 'afternoon',\n",
       " 'afternoon',\n",
       " 'afternoon',\n",
       " 'afternoon',\n",
       " 'afternoon',\n",
       " 'afternoon',\n",
       " 'afternoon',\n",
       " 'afternoon',\n",
       " 'afternoon',\n",
       " 'afternoon',\n",
       " 'afternoon',\n",
       " 'afternoon',\n",
       " 'afternoon',\n",
       " 'afternoon',\n",
       " 'afternoon',\n",
       " 'afternoon',\n",
       " 'afternoon',\n",
       " 'afternoon',\n",
       " 'afternoon',\n",
       " 'afternoon',\n",
       " 'afternoon',\n",
       " 'afternoon',\n",
       " 'afternoon',\n",
       " 'afternoon',\n",
       " 'afternoon',\n",
       " 'afternoon',\n",
       " 'afternoon',\n",
       " 'evening',\n",
       " 'evening',\n",
       " 'evening',\n",
       " 'evening',\n",
       " 'evening',\n",
       " 'evening',\n",
       " 'evening',\n",
       " 'evening',\n",
       " 'evening',\n",
       " 'evening',\n",
       " 'evening',\n",
       " 'evening',\n",
       " 'evening',\n",
       " 'evening',\n",
       " 'evening',\n",
       " 'evening',\n",
       " 'evening',\n",
       " 'evening',\n",
       " 'evening',\n",
       " 'evening',\n",
       " 'evening',\n",
       " 'evening',\n",
       " 'evening',\n",
       " 'evening',\n",
       " 'evening',\n",
       " 'evening',\n",
       " 'evening',\n",
       " 'evening',\n",
       " 'evening',\n",
       " 'evening',\n",
       " 'morning',\n",
       " 'morning',\n",
       " 'morning',\n",
       " 'morning',\n",
       " 'morning',\n",
       " 'morning',\n",
       " 'morning',\n",
       " 'morning',\n",
       " 'morning',\n",
       " 'morning',\n",
       " 'morning',\n",
       " 'morning',\n",
       " 'morning',\n",
       " 'morning',\n",
       " 'morning',\n",
       " 'morning',\n",
       " 'morning',\n",
       " 'morning',\n",
       " 'morning',\n",
       " 'morning',\n",
       " 'morning',\n",
       " 'morning',\n",
       " 'morning',\n",
       " 'morning',\n",
       " 'morning',\n",
       " 'morning',\n",
       " 'morning',\n",
       " 'morning',\n",
       " 'morning',\n",
       " 'morning',\n",
       " 'morning',\n",
       " 'morning',\n",
       " 'morning',\n",
       " 'morning',\n",
       " 'morning',\n",
       " 'morning',\n",
       " 'morning',\n",
       " 'morning',\n",
       " 'morning',\n",
       " 'morning',\n",
       " 'morning',\n",
       " 'afternoon',\n",
       " 'afternoon',\n",
       " 'afternoon',\n",
       " 'afternoon',\n",
       " 'afternoon',\n",
       " 'afternoon',\n",
       " 'afternoon',\n",
       " 'afternoon',\n",
       " 'afternoon',\n",
       " 'afternoon',\n",
       " 'morning',\n",
       " 'morning',\n",
       " 'morning',\n",
       " 'morning',\n",
       " 'morning',\n",
       " 'morning',\n",
       " 'morning',\n",
       " 'morning',\n",
       " 'morning',\n",
       " 'morning',\n",
       " 'morning',\n",
       " 'morning',\n",
       " 'morning',\n",
       " 'morning',\n",
       " 'morning',\n",
       " 'morning',\n",
       " 'morning',\n",
       " 'morning',\n",
       " 'morning',\n",
       " 'morning',\n",
       " 'morning',\n",
       " 'morning',\n",
       " 'morning',\n",
       " 'morning',\n",
       " 'morning',\n",
       " 'morning',\n",
       " 'morning',\n",
       " 'morning',\n",
       " 'morning',\n",
       " 'morning',\n",
       " 'morning',\n",
       " 'morning',\n",
       " 'morning',\n",
       " 'morning',\n",
       " 'morning',\n",
       " 'morning',\n",
       " 'morning',\n",
       " 'morning',\n",
       " 'morning',\n",
       " 'morning',\n",
       " 'morning',\n",
       " 'morning',\n",
       " 'morning',\n",
       " 'morning',\n",
       " 'afternoon',\n",
       " 'afternoon',\n",
       " 'afternoon',\n",
       " 'morning',\n",
       " 'morning',\n",
       " 'morning',\n",
       " 'morning',\n",
       " 'morning',\n",
       " 'morning',\n",
       " 'morning',\n",
       " 'morning',\n",
       " 'morning',\n",
       " 'morning',\n",
       " 'morning',\n",
       " 'morning',\n",
       " 'morning',\n",
       " 'morning',\n",
       " 'morning',\n",
       " 'morning',\n",
       " 'morning',\n",
       " 'morning',\n",
       " 'morning',\n",
       " 'morning',\n",
       " 'morning',\n",
       " 'morning',\n",
       " 'morning',\n",
       " 'morning',\n",
       " 'morning',\n",
       " 'morning',\n",
       " 'morning',\n",
       " 'morning',\n",
       " 'morning',\n",
       " 'morning',\n",
       " 'morning',\n",
       " 'morning',\n",
       " 'morning',\n",
       " 'morning',\n",
       " 'morning',\n",
       " 'morning',\n",
       " 'morning',\n",
       " 'morning',\n",
       " 'morning',\n",
       " 'morning',\n",
       " 'morning',\n",
       " 'morning',\n",
       " 'morning',\n",
       " 'morning',\n",
       " 'morning',\n",
       " 'morning',\n",
       " 'morning',\n",
       " 'morning',\n",
       " 'morning',\n",
       " 'morning',\n",
       " 'morning',\n",
       " 'morning',\n",
       " 'morning',\n",
       " 'morning',\n",
       " 'morning',\n",
       " 'morning',\n",
       " 'morning',\n",
       " 'morning',\n",
       " 'morning',\n",
       " 'morning',\n",
       " 'morning',\n",
       " 'morning',\n",
       " 'morning',\n",
       " 'morning',\n",
       " 'morning',\n",
       " 'morning',\n",
       " 'morning',\n",
       " 'morning',\n",
       " 'morning',\n",
       " 'morning',\n",
       " 'morning',\n",
       " 'evening',\n",
       " 'afternoon',\n",
       " 'afternoon',\n",
       " 'afternoon',\n",
       " 'afternoon',\n",
       " 'afternoon',\n",
       " 'morning',\n",
       " 'morning',\n",
       " 'morning',\n",
       " 'morning',\n",
       " 'evening',\n",
       " 'evening',\n",
       " 'evening',\n",
       " 'evening',\n",
       " 'evening',\n",
       " 'evening',\n",
       " 'evening',\n",
       " 'evening',\n",
       " 'evening',\n",
       " 'afternoon',\n",
       " 'afternoon',\n",
       " 'afternoon',\n",
       " 'afternoon',\n",
       " 'afternoon',\n",
       " 'afternoon',\n",
       " 'afternoon',\n",
       " 'afternoon',\n",
       " 'afternoon',\n",
       " 'afternoon',\n",
       " 'afternoon',\n",
       " 'evening',\n",
       " 'evening',\n",
       " 'evening',\n",
       " 'evening',\n",
       " 'evening',\n",
       " 'evening',\n",
       " 'evening',\n",
       " 'morning',\n",
       " 'morning',\n",
       " 'morning',\n",
       " 'morning',\n",
       " 'morning',\n",
       " 'morning',\n",
       " 'morning',\n",
       " 'morning',\n",
       " 'morning',\n",
       " 'morning',\n",
       " 'evening',\n",
       " 'evening',\n",
       " 'evening',\n",
       " 'evening',\n",
       " 'evening',\n",
       " 'afternoon',\n",
       " 'afternoon',\n",
       " 'afternoon',\n",
       " 'afternoon',\n",
       " 'afternoon',\n",
       " 'evening',\n",
       " 'evening',\n",
       " 'evening',\n",
       " 'evening',\n",
       " 'evening',\n",
       " 'evening',\n",
       " 'evening',\n",
       " 'evening',\n",
       " 'evening',\n",
       " 'afternoon',\n",
       " 'afternoon',\n",
       " 'afternoon',\n",
       " 'afternoon',\n",
       " 'afternoon',\n",
       " 'afternoon',\n",
       " 'afternoon',\n",
       " 'afternoon',\n",
       " 'afternoon',\n",
       " 'afternoon',\n",
       " 'afternoon',\n",
       " 'afternoon',\n",
       " ...]"
      ]
     },
     "execution_count": 76,
     "metadata": {},
     "output_type": "execute_result"
    }
   ],
   "source": [
    "result"
   ]
  },
  {
   "cell_type": "markdown",
   "id": "3ab15785",
   "metadata": {},
   "source": [
    "* create new part of the day column and set it equal to result"
   ]
  },
  {
   "cell_type": "code",
   "execution_count": 77,
   "id": "8aad4d69",
   "metadata": {},
   "outputs": [
    {
     "name": "stderr",
     "output_type": "stream",
     "text": [
      "C:\\Users\\sahin\\AppData\\Local\\Temp/ipykernel_18072/2436990607.py:1: SettingWithCopyWarning: \n",
      "A value is trying to be set on a copy of a slice from a DataFrame.\n",
      "Try using .loc[row_indexer,col_indexer] = value instead\n",
      "\n",
      "See the caveats in the documentation: https://pandas.pydata.org/pandas-docs/stable/user_guide/indexing.html#returning-a-view-versus-a-copy\n",
      "  df_high['part_of_day'] = result\n"
     ]
    }
   ],
   "source": [
    "df_high['part_of_day'] = result"
   ]
  },
  {
   "cell_type": "code",
   "execution_count": 78,
   "id": "3a3f1807",
   "metadata": {},
   "outputs": [
    {
     "data": {
      "text/plain": [
       "afternoon    15010844\n",
       "morning      11306216\n",
       "evening       5612919\n",
       "Name: part_of_day, dtype: int64"
      ]
     },
     "execution_count": 78,
     "metadata": {},
     "output_type": "execute_result"
    }
   ],
   "source": [
    "df_high['part_of_day'].value_counts()"
   ]
  },
  {
   "cell_type": "markdown",
   "id": "f2c0a6da",
   "metadata": {},
   "source": [
    "* check totals for family status"
   ]
  },
  {
   "cell_type": "code",
   "execution_count": 79,
   "id": "2a30a2be",
   "metadata": {},
   "outputs": [
    {
     "data": {
      "text/plain": [
       "married                             22421852\n",
       "single                               5248979\n",
       "divorced/widowed                     2730548\n",
       "living with parents and siblings     1528600\n",
       "Name: fam_status, dtype: int64"
      ]
     },
     "execution_count": 79,
     "metadata": {},
     "output_type": "execute_result"
    }
   ],
   "source": [
    "df_high['fam_status'].value_counts()"
   ]
  },
  {
   "cell_type": "markdown",
   "id": "cedfda41",
   "metadata": {},
   "source": [
    "## Create visualizations to show the distribution of profiles."
   ]
  },
  {
   "cell_type": "markdown",
   "id": "134e7e24",
   "metadata": {},
   "source": [
    "* First step is to define what product are selling the best"
   ]
  },
  {
   "cell_type": "code",
   "execution_count": 80,
   "id": "99801a53",
   "metadata": {},
   "outputs": [
    {
     "data": {
      "text/html": [
       "<div>\n",
       "<style scoped>\n",
       "    .dataframe tbody tr th:only-of-type {\n",
       "        vertical-align: middle;\n",
       "    }\n",
       "\n",
       "    .dataframe tbody tr th {\n",
       "        vertical-align: top;\n",
       "    }\n",
       "\n",
       "    .dataframe thead th {\n",
       "        text-align: right;\n",
       "    }\n",
       "</style>\n",
       "<table border=\"1\" class=\"dataframe\">\n",
       "  <thead>\n",
       "    <tr style=\"text-align: right;\">\n",
       "      <th></th>\n",
       "      <th>order_id</th>\n",
       "      <th>user_id</th>\n",
       "      <th>order_number</th>\n",
       "      <th>orders_day_of_the_week</th>\n",
       "      <th>order_hour_of_day</th>\n",
       "      <th>days_since_prior_order</th>\n",
       "      <th>product_id</th>\n",
       "      <th>add_to_cart_order</th>\n",
       "      <th>reordered</th>\n",
       "      <th>product_name</th>\n",
       "      <th>...</th>\n",
       "      <th>fam_status</th>\n",
       "      <th>income</th>\n",
       "      <th>_merge</th>\n",
       "      <th>region</th>\n",
       "      <th>exclusion_flag</th>\n",
       "      <th>age_group</th>\n",
       "      <th>income_range</th>\n",
       "      <th>parental_status</th>\n",
       "      <th>weekday</th>\n",
       "      <th>part_of_day</th>\n",
       "    </tr>\n",
       "  </thead>\n",
       "  <tbody>\n",
       "    <tr>\n",
       "      <th>0</th>\n",
       "      <td>2539329</td>\n",
       "      <td>1</td>\n",
       "      <td>1</td>\n",
       "      <td>2</td>\n",
       "      <td>8</td>\n",
       "      <td>NaN</td>\n",
       "      <td>196.0</td>\n",
       "      <td>1.0</td>\n",
       "      <td>0.0</td>\n",
       "      <td>Soda</td>\n",
       "      <td>...</td>\n",
       "      <td>married</td>\n",
       "      <td>40423</td>\n",
       "      <td>both</td>\n",
       "      <td>South</td>\n",
       "      <td>non_low_activity_customer</td>\n",
       "      <td>31-40</td>\n",
       "      <td>040000-080000</td>\n",
       "      <td>Parent</td>\n",
       "      <td>Monday</td>\n",
       "      <td>morning</td>\n",
       "    </tr>\n",
       "    <tr>\n",
       "      <th>1</th>\n",
       "      <td>2539329</td>\n",
       "      <td>1</td>\n",
       "      <td>1</td>\n",
       "      <td>2</td>\n",
       "      <td>8</td>\n",
       "      <td>NaN</td>\n",
       "      <td>14084.0</td>\n",
       "      <td>2.0</td>\n",
       "      <td>0.0</td>\n",
       "      <td>Organic Unsweetened Vanilla Almond Milk</td>\n",
       "      <td>...</td>\n",
       "      <td>married</td>\n",
       "      <td>40423</td>\n",
       "      <td>both</td>\n",
       "      <td>South</td>\n",
       "      <td>non_low_activity_customer</td>\n",
       "      <td>31-40</td>\n",
       "      <td>040000-080000</td>\n",
       "      <td>Parent</td>\n",
       "      <td>Monday</td>\n",
       "      <td>morning</td>\n",
       "    </tr>\n",
       "    <tr>\n",
       "      <th>2</th>\n",
       "      <td>2539329</td>\n",
       "      <td>1</td>\n",
       "      <td>1</td>\n",
       "      <td>2</td>\n",
       "      <td>8</td>\n",
       "      <td>NaN</td>\n",
       "      <td>12427.0</td>\n",
       "      <td>3.0</td>\n",
       "      <td>0.0</td>\n",
       "      <td>Original Beef Jerky</td>\n",
       "      <td>...</td>\n",
       "      <td>married</td>\n",
       "      <td>40423</td>\n",
       "      <td>both</td>\n",
       "      <td>South</td>\n",
       "      <td>non_low_activity_customer</td>\n",
       "      <td>31-40</td>\n",
       "      <td>040000-080000</td>\n",
       "      <td>Parent</td>\n",
       "      <td>Monday</td>\n",
       "      <td>morning</td>\n",
       "    </tr>\n",
       "    <tr>\n",
       "      <th>3</th>\n",
       "      <td>2539329</td>\n",
       "      <td>1</td>\n",
       "      <td>1</td>\n",
       "      <td>2</td>\n",
       "      <td>8</td>\n",
       "      <td>NaN</td>\n",
       "      <td>26088.0</td>\n",
       "      <td>4.0</td>\n",
       "      <td>0.0</td>\n",
       "      <td>Aged White Cheddar Popcorn</td>\n",
       "      <td>...</td>\n",
       "      <td>married</td>\n",
       "      <td>40423</td>\n",
       "      <td>both</td>\n",
       "      <td>South</td>\n",
       "      <td>non_low_activity_customer</td>\n",
       "      <td>31-40</td>\n",
       "      <td>040000-080000</td>\n",
       "      <td>Parent</td>\n",
       "      <td>Monday</td>\n",
       "      <td>morning</td>\n",
       "    </tr>\n",
       "    <tr>\n",
       "      <th>4</th>\n",
       "      <td>2539329</td>\n",
       "      <td>1</td>\n",
       "      <td>1</td>\n",
       "      <td>2</td>\n",
       "      <td>8</td>\n",
       "      <td>NaN</td>\n",
       "      <td>26405.0</td>\n",
       "      <td>5.0</td>\n",
       "      <td>0.0</td>\n",
       "      <td>XL Pick-A-Size Paper Towel Rolls</td>\n",
       "      <td>...</td>\n",
       "      <td>married</td>\n",
       "      <td>40423</td>\n",
       "      <td>both</td>\n",
       "      <td>South</td>\n",
       "      <td>non_low_activity_customer</td>\n",
       "      <td>31-40</td>\n",
       "      <td>040000-080000</td>\n",
       "      <td>Parent</td>\n",
       "      <td>Monday</td>\n",
       "      <td>morning</td>\n",
       "    </tr>\n",
       "  </tbody>\n",
       "</table>\n",
       "<p>5 rows × 34 columns</p>\n",
       "</div>"
      ],
      "text/plain": [
       "   order_id  user_id  order_number  orders_day_of_the_week  order_hour_of_day  \\\n",
       "0   2539329        1             1                       2                  8   \n",
       "1   2539329        1             1                       2                  8   \n",
       "2   2539329        1             1                       2                  8   \n",
       "3   2539329        1             1                       2                  8   \n",
       "4   2539329        1             1                       2                  8   \n",
       "\n",
       "   days_since_prior_order  product_id  add_to_cart_order  reordered  \\\n",
       "0                     NaN       196.0                1.0        0.0   \n",
       "1                     NaN     14084.0                2.0        0.0   \n",
       "2                     NaN     12427.0                3.0        0.0   \n",
       "3                     NaN     26088.0                4.0        0.0   \n",
       "4                     NaN     26405.0                5.0        0.0   \n",
       "\n",
       "                              product_name  ...  fam_status  income  _merge  \\\n",
       "0                                     Soda  ...     married   40423    both   \n",
       "1  Organic Unsweetened Vanilla Almond Milk  ...     married   40423    both   \n",
       "2                      Original Beef Jerky  ...     married   40423    both   \n",
       "3               Aged White Cheddar Popcorn  ...     married   40423    both   \n",
       "4         XL Pick-A-Size Paper Towel Rolls  ...     married   40423    both   \n",
       "\n",
       "   region             exclusion_flag  age_group   income_range  \\\n",
       "0   South  non_low_activity_customer      31-40  040000-080000   \n",
       "1   South  non_low_activity_customer      31-40  040000-080000   \n",
       "2   South  non_low_activity_customer      31-40  040000-080000   \n",
       "3   South  non_low_activity_customer      31-40  040000-080000   \n",
       "4   South  non_low_activity_customer      31-40  040000-080000   \n",
       "\n",
       "   parental_status weekday part_of_day  \n",
       "0           Parent  Monday     morning  \n",
       "1           Parent  Monday     morning  \n",
       "2           Parent  Monday     morning  \n",
       "3           Parent  Monday     morning  \n",
       "4           Parent  Monday     morning  \n",
       "\n",
       "[5 rows x 34 columns]"
      ]
     },
     "execution_count": 80,
     "metadata": {},
     "output_type": "execute_result"
    }
   ],
   "source": [
    "df_high.head()"
   ]
  },
  {
   "cell_type": "code",
   "execution_count": 81,
   "id": "4517e608",
   "metadata": {},
   "outputs": [],
   "source": [
    "crosstab = df_high.head(10) "
   ]
  },
  {
   "cell_type": "code",
   "execution_count": 82,
   "id": "c85f9965",
   "metadata": {},
   "outputs": [],
   "source": [
    "crosstab.to_clipboard()"
   ]
  },
  {
   "cell_type": "markdown",
   "id": "20efe2d7",
   "metadata": {},
   "source": [
    "#### Get the amount of sales for each product_ id"
   ]
  },
  {
   "cell_type": "code",
   "execution_count": 83,
   "id": "db86b5e1",
   "metadata": {},
   "outputs": [],
   "source": [
    "sales_by_product_id = df_high.groupby('product_id').agg({'prices' : ['min', 'mean', 'max', 'sum']})"
   ]
  },
  {
   "cell_type": "code",
   "execution_count": 84,
   "id": "d87988bb",
   "metadata": {},
   "outputs": [],
   "source": [
    "sales_by_product_id.to_clipboard()"
   ]
  },
  {
   "cell_type": "markdown",
   "id": "3ba7be4e",
   "metadata": {},
   "source": [
    "#### Get the amount of sales for each product name"
   ]
  },
  {
   "cell_type": "code",
   "execution_count": 85,
   "id": "703a7124",
   "metadata": {},
   "outputs": [],
   "source": [
    "sales_by_product_name = df_high.groupby('product_name').agg({'prices' : ['min', 'mean', 'max', 'sum']})"
   ]
  },
  {
   "cell_type": "code",
   "execution_count": 86,
   "id": "5029ffcc",
   "metadata": {},
   "outputs": [],
   "source": [
    "sales_by_product_name.to_clipboard()"
   ]
  },
  {
   "cell_type": "markdown",
   "id": "200a36ac",
   "metadata": {},
   "source": [
    "#### Get the amount of order for each product name"
   ]
  },
  {
   "cell_type": "code",
   "execution_count": 87,
   "id": "6383ad4d",
   "metadata": {},
   "outputs": [],
   "source": [
    "product_sales_by_order_number = df_high.groupby('product_name').agg({'order_number' : ['min', 'mean', 'max', 'sum']})"
   ]
  },
  {
   "cell_type": "code",
   "execution_count": 88,
   "id": "90c7984e",
   "metadata": {},
   "outputs": [],
   "source": [
    "product_sales_by_order_number.to_clipboard()"
   ]
  },
  {
   "cell_type": "markdown",
   "id": "2538006e",
   "metadata": {},
   "source": [
    "#### crosstab of age_group & income_bracket variables"
   ]
  },
  {
   "cell_type": "code",
   "execution_count": 89,
   "id": "6b32a485",
   "metadata": {},
   "outputs": [],
   "source": [
    "xtab_age_income = pd.crosstab(df_high['age_group'], df_high['income_range'], dropna = False)"
   ]
  },
  {
   "cell_type": "code",
   "execution_count": 90,
   "id": "9b0c5f19",
   "metadata": {},
   "outputs": [
    {
     "data": {
      "text/html": [
       "<div>\n",
       "<style scoped>\n",
       "    .dataframe tbody tr th:only-of-type {\n",
       "        vertical-align: middle;\n",
       "    }\n",
       "\n",
       "    .dataframe tbody tr th {\n",
       "        vertical-align: top;\n",
       "    }\n",
       "\n",
       "    .dataframe thead th {\n",
       "        text-align: right;\n",
       "    }\n",
       "</style>\n",
       "<table border=\"1\" class=\"dataframe\">\n",
       "  <thead>\n",
       "    <tr style=\"text-align: right;\">\n",
       "      <th>income_range</th>\n",
       "      <th>025000-040000</th>\n",
       "      <th>040000-080000</th>\n",
       "      <th>080000-120000</th>\n",
       "      <th>120000-160000</th>\n",
       "      <th>160000-210000</th>\n",
       "      <th>210000-523000</th>\n",
       "      <th>523000+</th>\n",
       "    </tr>\n",
       "    <tr>\n",
       "      <th>age_group</th>\n",
       "      <th></th>\n",
       "      <th></th>\n",
       "      <th></th>\n",
       "      <th></th>\n",
       "      <th></th>\n",
       "      <th></th>\n",
       "      <th></th>\n",
       "    </tr>\n",
       "  </thead>\n",
       "  <tbody>\n",
       "    <tr>\n",
       "      <th>18-20</th>\n",
       "      <td>104698</td>\n",
       "      <td>928712</td>\n",
       "      <td>450579</td>\n",
       "      <td>6416</td>\n",
       "      <td>7399</td>\n",
       "      <td>2733</td>\n",
       "      <td>0</td>\n",
       "    </tr>\n",
       "    <tr>\n",
       "      <th>21-30</th>\n",
       "      <td>361424</td>\n",
       "      <td>3059185</td>\n",
       "      <td>1522661</td>\n",
       "      <td>19943</td>\n",
       "      <td>21671</td>\n",
       "      <td>16813</td>\n",
       "      <td>0</td>\n",
       "    </tr>\n",
       "    <tr>\n",
       "      <th>31-40</th>\n",
       "      <td>348789</td>\n",
       "      <td>3078445</td>\n",
       "      <td>1504547</td>\n",
       "      <td>22506</td>\n",
       "      <td>21166</td>\n",
       "      <td>20047</td>\n",
       "      <td>0</td>\n",
       "    </tr>\n",
       "    <tr>\n",
       "      <th>41-50</th>\n",
       "      <td>204529</td>\n",
       "      <td>644183</td>\n",
       "      <td>1865737</td>\n",
       "      <td>1766030</td>\n",
       "      <td>479190</td>\n",
       "      <td>55534</td>\n",
       "      <td>4008</td>\n",
       "    </tr>\n",
       "    <tr>\n",
       "      <th>51-60</th>\n",
       "      <td>220604</td>\n",
       "      <td>652013</td>\n",
       "      <td>1850332</td>\n",
       "      <td>1757982</td>\n",
       "      <td>460777</td>\n",
       "      <td>40044</td>\n",
       "      <td>3114</td>\n",
       "    </tr>\n",
       "    <tr>\n",
       "      <th>61-70</th>\n",
       "      <td>217405</td>\n",
       "      <td>619815</td>\n",
       "      <td>1846142</td>\n",
       "      <td>1740439</td>\n",
       "      <td>457037</td>\n",
       "      <td>45791</td>\n",
       "      <td>1630</td>\n",
       "    </tr>\n",
       "    <tr>\n",
       "      <th>71-80</th>\n",
       "      <td>204691</td>\n",
       "      <td>641845</td>\n",
       "      <td>1885711</td>\n",
       "      <td>1762987</td>\n",
       "      <td>454761</td>\n",
       "      <td>43260</td>\n",
       "      <td>4696</td>\n",
       "    </tr>\n",
       "    <tr>\n",
       "      <th>80+</th>\n",
       "      <td>23134</td>\n",
       "      <td>65174</td>\n",
       "      <td>184491</td>\n",
       "      <td>186094</td>\n",
       "      <td>38065</td>\n",
       "      <td>3889</td>\n",
       "      <td>1111</td>\n",
       "    </tr>\n",
       "  </tbody>\n",
       "</table>\n",
       "</div>"
      ],
      "text/plain": [
       "income_range  025000-040000  040000-080000  080000-120000  120000-160000  \\\n",
       "age_group                                                                  \n",
       "18-20                104698         928712         450579           6416   \n",
       "21-30                361424        3059185        1522661          19943   \n",
       "31-40                348789        3078445        1504547          22506   \n",
       "41-50                204529         644183        1865737        1766030   \n",
       "51-60                220604         652013        1850332        1757982   \n",
       "61-70                217405         619815        1846142        1740439   \n",
       "71-80                204691         641845        1885711        1762987   \n",
       "80+                   23134          65174         184491         186094   \n",
       "\n",
       "income_range  160000-210000  210000-523000  523000+  \n",
       "age_group                                            \n",
       "18-20                  7399           2733        0  \n",
       "21-30                 21671          16813        0  \n",
       "31-40                 21166          20047        0  \n",
       "41-50                479190          55534     4008  \n",
       "51-60                460777          40044     3114  \n",
       "61-70                457037          45791     1630  \n",
       "71-80                454761          43260     4696  \n",
       "80+                   38065           3889     1111  "
      ]
     },
     "execution_count": 90,
     "metadata": {},
     "output_type": "execute_result"
    }
   ],
   "source": [
    "xtab_age_income"
   ]
  },
  {
   "cell_type": "markdown",
   "id": "93a91086",
   "metadata": {},
   "source": [
    "#### crosstab of age_group & parental status variables"
   ]
  },
  {
   "cell_type": "code",
   "execution_count": 91,
   "id": "7fc120e2",
   "metadata": {},
   "outputs": [],
   "source": [
    "xtab_age_group_parental_status = pd.crosstab(df_high['age_group'], df_high['parental_status'], dropna = False)"
   ]
  },
  {
   "cell_type": "code",
   "execution_count": 92,
   "id": "620636e7",
   "metadata": {},
   "outputs": [
    {
     "data": {
      "text/html": [
       "<div>\n",
       "<style scoped>\n",
       "    .dataframe tbody tr th:only-of-type {\n",
       "        vertical-align: middle;\n",
       "    }\n",
       "\n",
       "    .dataframe tbody tr th {\n",
       "        vertical-align: top;\n",
       "    }\n",
       "\n",
       "    .dataframe thead th {\n",
       "        text-align: right;\n",
       "    }\n",
       "</style>\n",
       "<table border=\"1\" class=\"dataframe\">\n",
       "  <thead>\n",
       "    <tr style=\"text-align: right;\">\n",
       "      <th>parental_status</th>\n",
       "      <th>Non-Parent</th>\n",
       "      <th>Parent</th>\n",
       "    </tr>\n",
       "    <tr>\n",
       "      <th>age_group</th>\n",
       "      <th></th>\n",
       "      <th></th>\n",
       "    </tr>\n",
       "  </thead>\n",
       "  <tbody>\n",
       "    <tr>\n",
       "      <th>18-20</th>\n",
       "      <td>355859</td>\n",
       "      <td>1144678</td>\n",
       "    </tr>\n",
       "    <tr>\n",
       "      <th>21-30</th>\n",
       "      <td>1265011</td>\n",
       "      <td>3736686</td>\n",
       "    </tr>\n",
       "    <tr>\n",
       "      <th>31-40</th>\n",
       "      <td>1244134</td>\n",
       "      <td>3751366</td>\n",
       "    </tr>\n",
       "    <tr>\n",
       "      <th>41-50</th>\n",
       "      <td>1234808</td>\n",
       "      <td>3784403</td>\n",
       "    </tr>\n",
       "    <tr>\n",
       "      <th>51-60</th>\n",
       "      <td>1264539</td>\n",
       "      <td>3720327</td>\n",
       "    </tr>\n",
       "    <tr>\n",
       "      <th>61-70</th>\n",
       "      <td>1248961</td>\n",
       "      <td>3679298</td>\n",
       "    </tr>\n",
       "    <tr>\n",
       "      <th>71-80</th>\n",
       "      <td>1223703</td>\n",
       "      <td>3774248</td>\n",
       "    </tr>\n",
       "    <tr>\n",
       "      <th>80+</th>\n",
       "      <td>142512</td>\n",
       "      <td>359446</td>\n",
       "    </tr>\n",
       "  </tbody>\n",
       "</table>\n",
       "</div>"
      ],
      "text/plain": [
       "parental_status  Non-Parent   Parent\n",
       "age_group                           \n",
       "18-20                355859  1144678\n",
       "21-30               1265011  3736686\n",
       "31-40               1244134  3751366\n",
       "41-50               1234808  3784403\n",
       "51-60               1264539  3720327\n",
       "61-70               1248961  3679298\n",
       "71-80               1223703  3774248\n",
       "80+                  142512   359446"
      ]
     },
     "execution_count": 92,
     "metadata": {},
     "output_type": "execute_result"
    }
   ],
   "source": [
    "xtab_age_group_parental_status"
   ]
  },
  {
   "cell_type": "markdown",
   "id": "e7537e01",
   "metadata": {},
   "source": [
    "#### crosstab of age_group & part_of_day variables"
   ]
  },
  {
   "cell_type": "code",
   "execution_count": 93,
   "id": "05c2aac9",
   "metadata": {},
   "outputs": [],
   "source": [
    "xtab_age_group_part_of_day = pd.crosstab(df_high['age_group'], df_high['part_of_day'], dropna = False)"
   ]
  },
  {
   "cell_type": "code",
   "execution_count": 94,
   "id": "b3b360c7",
   "metadata": {},
   "outputs": [
    {
     "data": {
      "text/html": [
       "<div>\n",
       "<style scoped>\n",
       "    .dataframe tbody tr th:only-of-type {\n",
       "        vertical-align: middle;\n",
       "    }\n",
       "\n",
       "    .dataframe tbody tr th {\n",
       "        vertical-align: top;\n",
       "    }\n",
       "\n",
       "    .dataframe thead th {\n",
       "        text-align: right;\n",
       "    }\n",
       "</style>\n",
       "<table border=\"1\" class=\"dataframe\">\n",
       "  <thead>\n",
       "    <tr style=\"text-align: right;\">\n",
       "      <th>part_of_day</th>\n",
       "      <th>afternoon</th>\n",
       "      <th>evening</th>\n",
       "      <th>morning</th>\n",
       "    </tr>\n",
       "    <tr>\n",
       "      <th>age_group</th>\n",
       "      <th></th>\n",
       "      <th></th>\n",
       "      <th></th>\n",
       "    </tr>\n",
       "  </thead>\n",
       "  <tbody>\n",
       "    <tr>\n",
       "      <th>18-20</th>\n",
       "      <td>706094</td>\n",
       "      <td>261420</td>\n",
       "      <td>533023</td>\n",
       "    </tr>\n",
       "    <tr>\n",
       "      <th>21-30</th>\n",
       "      <td>2356285</td>\n",
       "      <td>869814</td>\n",
       "      <td>1775598</td>\n",
       "    </tr>\n",
       "    <tr>\n",
       "      <th>31-40</th>\n",
       "      <td>2344298</td>\n",
       "      <td>877689</td>\n",
       "      <td>1773513</td>\n",
       "    </tr>\n",
       "    <tr>\n",
       "      <th>41-50</th>\n",
       "      <td>2356948</td>\n",
       "      <td>891245</td>\n",
       "      <td>1771018</td>\n",
       "    </tr>\n",
       "    <tr>\n",
       "      <th>51-60</th>\n",
       "      <td>2346456</td>\n",
       "      <td>874155</td>\n",
       "      <td>1764255</td>\n",
       "    </tr>\n",
       "    <tr>\n",
       "      <th>61-70</th>\n",
       "      <td>2331013</td>\n",
       "      <td>862747</td>\n",
       "      <td>1734499</td>\n",
       "    </tr>\n",
       "    <tr>\n",
       "      <th>71-80</th>\n",
       "      <td>2333065</td>\n",
       "      <td>884895</td>\n",
       "      <td>1779991</td>\n",
       "    </tr>\n",
       "    <tr>\n",
       "      <th>80+</th>\n",
       "      <td>236685</td>\n",
       "      <td>90954</td>\n",
       "      <td>174319</td>\n",
       "    </tr>\n",
       "  </tbody>\n",
       "</table>\n",
       "</div>"
      ],
      "text/plain": [
       "part_of_day  afternoon  evening  morning\n",
       "age_group                               \n",
       "18-20           706094   261420   533023\n",
       "21-30          2356285   869814  1775598\n",
       "31-40          2344298   877689  1773513\n",
       "41-50          2356948   891245  1771018\n",
       "51-60          2346456   874155  1764255\n",
       "61-70          2331013   862747  1734499\n",
       "71-80          2333065   884895  1779991\n",
       "80+             236685    90954   174319"
      ]
     },
     "execution_count": 94,
     "metadata": {},
     "output_type": "execute_result"
    }
   ],
   "source": [
    "xtab_age_group_part_of_day"
   ]
  },
  {
   "cell_type": "markdown",
   "id": "af3ceaf8",
   "metadata": {},
   "source": [
    "#### crosstab of age-group & loyalty_flag variables"
   ]
  },
  {
   "cell_type": "code",
   "execution_count": 95,
   "id": "0a587ced",
   "metadata": {},
   "outputs": [],
   "source": [
    "xtab_age_group_loyalty_flag = pd.crosstab(df_high['age_group'], df_high['loyalty_flag'], dropna = False)"
   ]
  },
  {
   "cell_type": "code",
   "execution_count": 96,
   "id": "c4966913",
   "metadata": {},
   "outputs": [
    {
     "data": {
      "text/html": [
       "<div>\n",
       "<style scoped>\n",
       "    .dataframe tbody tr th:only-of-type {\n",
       "        vertical-align: middle;\n",
       "    }\n",
       "\n",
       "    .dataframe tbody tr th {\n",
       "        vertical-align: top;\n",
       "    }\n",
       "\n",
       "    .dataframe thead th {\n",
       "        text-align: right;\n",
       "    }\n",
       "</style>\n",
       "<table border=\"1\" class=\"dataframe\">\n",
       "  <thead>\n",
       "    <tr style=\"text-align: right;\">\n",
       "      <th>loyalty_flag</th>\n",
       "      <th>Loyal customer</th>\n",
       "      <th>New customer</th>\n",
       "      <th>Regular customer</th>\n",
       "    </tr>\n",
       "    <tr>\n",
       "      <th>age_group</th>\n",
       "      <th></th>\n",
       "      <th></th>\n",
       "      <th></th>\n",
       "    </tr>\n",
       "  </thead>\n",
       "  <tbody>\n",
       "    <tr>\n",
       "      <th>18-20</th>\n",
       "      <td>486031</td>\n",
       "      <td>228843</td>\n",
       "      <td>785663</td>\n",
       "    </tr>\n",
       "    <tr>\n",
       "      <th>21-30</th>\n",
       "      <td>1651506</td>\n",
       "      <td>768695</td>\n",
       "      <td>2581496</td>\n",
       "    </tr>\n",
       "    <tr>\n",
       "      <th>31-40</th>\n",
       "      <td>1678233</td>\n",
       "      <td>744212</td>\n",
       "      <td>2573055</td>\n",
       "    </tr>\n",
       "    <tr>\n",
       "      <th>41-50</th>\n",
       "      <td>1690812</td>\n",
       "      <td>762485</td>\n",
       "      <td>2565914</td>\n",
       "    </tr>\n",
       "    <tr>\n",
       "      <th>51-60</th>\n",
       "      <td>1667348</td>\n",
       "      <td>765600</td>\n",
       "      <td>2551918</td>\n",
       "    </tr>\n",
       "    <tr>\n",
       "      <th>61-70</th>\n",
       "      <td>1666308</td>\n",
       "      <td>759952</td>\n",
       "      <td>2501999</td>\n",
       "    </tr>\n",
       "    <tr>\n",
       "      <th>71-80</th>\n",
       "      <td>1672622</td>\n",
       "      <td>760030</td>\n",
       "      <td>2565299</td>\n",
       "    </tr>\n",
       "    <tr>\n",
       "      <th>80+</th>\n",
       "      <td>166718</td>\n",
       "      <td>79112</td>\n",
       "      <td>256128</td>\n",
       "    </tr>\n",
       "  </tbody>\n",
       "</table>\n",
       "</div>"
      ],
      "text/plain": [
       "loyalty_flag  Loyal customer  New customer  Regular customer\n",
       "age_group                                                   \n",
       "18-20                 486031        228843            785663\n",
       "21-30                1651506        768695           2581496\n",
       "31-40                1678233        744212           2573055\n",
       "41-50                1690812        762485           2565914\n",
       "51-60                1667348        765600           2551918\n",
       "61-70                1666308        759952           2501999\n",
       "71-80                1672622        760030           2565299\n",
       "80+                   166718         79112            256128"
      ]
     },
     "execution_count": 96,
     "metadata": {},
     "output_type": "execute_result"
    }
   ],
   "source": [
    "xtab_age_group_loyalty_flag"
   ]
  },
  {
   "cell_type": "markdown",
   "id": "a1023c8b",
   "metadata": {},
   "source": [
    "#### crosstab of parental_status & order_frequency variables"
   ]
  },
  {
   "cell_type": "code",
   "execution_count": 97,
   "id": "eb81a78f",
   "metadata": {},
   "outputs": [],
   "source": [
    "xtab_parental_status_order_frequency_flag = pd.crosstab(df_high['parental_status'], df_high['order_frequency_flag'], dropna = False)"
   ]
  },
  {
   "cell_type": "code",
   "execution_count": 98,
   "id": "afe451fc",
   "metadata": {},
   "outputs": [
    {
     "data": {
      "text/html": [
       "<div>\n",
       "<style scoped>\n",
       "    .dataframe tbody tr th:only-of-type {\n",
       "        vertical-align: middle;\n",
       "    }\n",
       "\n",
       "    .dataframe tbody tr th {\n",
       "        vertical-align: top;\n",
       "    }\n",
       "\n",
       "    .dataframe thead th {\n",
       "        text-align: right;\n",
       "    }\n",
       "</style>\n",
       "<table border=\"1\" class=\"dataframe\">\n",
       "  <thead>\n",
       "    <tr style=\"text-align: right;\">\n",
       "      <th>order_frequency_flag</th>\n",
       "      <th>Frequent customer</th>\n",
       "      <th>Non-frequent customer</th>\n",
       "      <th>Regular customer</th>\n",
       "    </tr>\n",
       "    <tr>\n",
       "      <th>parental_status</th>\n",
       "      <th></th>\n",
       "      <th></th>\n",
       "      <th></th>\n",
       "    </tr>\n",
       "  </thead>\n",
       "  <tbody>\n",
       "    <tr>\n",
       "      <th>Non-Parent</th>\n",
       "      <td>5349459</td>\n",
       "      <td>823427</td>\n",
       "      <td>1806641</td>\n",
       "    </tr>\n",
       "    <tr>\n",
       "      <th>Parent</th>\n",
       "      <td>16118631</td>\n",
       "      <td>2507853</td>\n",
       "      <td>5323968</td>\n",
       "    </tr>\n",
       "  </tbody>\n",
       "</table>\n",
       "</div>"
      ],
      "text/plain": [
       "order_frequency_flag  Frequent customer  Non-frequent customer  \\\n",
       "parental_status                                                  \n",
       "Non-Parent                      5349459                 823427   \n",
       "Parent                         16118631                2507853   \n",
       "\n",
       "order_frequency_flag  Regular customer  \n",
       "parental_status                         \n",
       "Non-Parent                     1806641  \n",
       "Parent                         5323968  "
      ]
     },
     "execution_count": 98,
     "metadata": {},
     "output_type": "execute_result"
    }
   ],
   "source": [
    "xtab_parental_status_order_frequency_flag"
   ]
  },
  {
   "cell_type": "markdown",
   "id": "daaa9c69",
   "metadata": {},
   "source": [
    "#### crosstab of age_group & spending_flag variables"
   ]
  },
  {
   "cell_type": "code",
   "execution_count": 99,
   "id": "a763c959",
   "metadata": {},
   "outputs": [],
   "source": [
    "xtab_age_group_spending_flag = pd.crosstab(df_high['age_group'], df_high['spending_flag'], dropna = False)"
   ]
  },
  {
   "cell_type": "code",
   "execution_count": 100,
   "id": "c0e37079",
   "metadata": {},
   "outputs": [
    {
     "data": {
      "text/html": [
       "<div>\n",
       "<style scoped>\n",
       "    .dataframe tbody tr th:only-of-type {\n",
       "        vertical-align: middle;\n",
       "    }\n",
       "\n",
       "    .dataframe tbody tr th {\n",
       "        vertical-align: top;\n",
       "    }\n",
       "\n",
       "    .dataframe thead th {\n",
       "        text-align: right;\n",
       "    }\n",
       "</style>\n",
       "<table border=\"1\" class=\"dataframe\">\n",
       "  <thead>\n",
       "    <tr style=\"text-align: right;\">\n",
       "      <th>spending_flag</th>\n",
       "      <th>High spender</th>\n",
       "      <th>Low spender</th>\n",
       "    </tr>\n",
       "    <tr>\n",
       "      <th>age_group</th>\n",
       "      <th></th>\n",
       "      <th></th>\n",
       "    </tr>\n",
       "  </thead>\n",
       "  <tbody>\n",
       "    <tr>\n",
       "      <th>18-20</th>\n",
       "      <td>26755</td>\n",
       "      <td>1473782</td>\n",
       "    </tr>\n",
       "    <tr>\n",
       "      <th>21-30</th>\n",
       "      <td>92412</td>\n",
       "      <td>4909285</td>\n",
       "    </tr>\n",
       "    <tr>\n",
       "      <th>31-40</th>\n",
       "      <td>98164</td>\n",
       "      <td>4897336</td>\n",
       "    </tr>\n",
       "    <tr>\n",
       "      <th>41-50</th>\n",
       "      <td>108330</td>\n",
       "      <td>4910881</td>\n",
       "    </tr>\n",
       "    <tr>\n",
       "      <th>51-60</th>\n",
       "      <td>92342</td>\n",
       "      <td>4892524</td>\n",
       "    </tr>\n",
       "    <tr>\n",
       "      <th>61-70</th>\n",
       "      <td>101792</td>\n",
       "      <td>4826467</td>\n",
       "    </tr>\n",
       "    <tr>\n",
       "      <th>71-80</th>\n",
       "      <td>93120</td>\n",
       "      <td>4904831</td>\n",
       "    </tr>\n",
       "    <tr>\n",
       "      <th>80+</th>\n",
       "      <td>10805</td>\n",
       "      <td>491153</td>\n",
       "    </tr>\n",
       "  </tbody>\n",
       "</table>\n",
       "</div>"
      ],
      "text/plain": [
       "spending_flag  High spender  Low spender\n",
       "age_group                               \n",
       "18-20                 26755      1473782\n",
       "21-30                 92412      4909285\n",
       "31-40                 98164      4897336\n",
       "41-50                108330      4910881\n",
       "51-60                 92342      4892524\n",
       "61-70                101792      4826467\n",
       "71-80                 93120      4904831\n",
       "80+                   10805       491153"
      ]
     },
     "execution_count": 100,
     "metadata": {},
     "output_type": "execute_result"
    }
   ],
   "source": [
    "xtab_age_group_spending_flag"
   ]
  },
  {
   "cell_type": "markdown",
   "id": "b76e4489",
   "metadata": {},
   "source": [
    "#### crosstab of department_id & income_bracket variables"
   ]
  },
  {
   "cell_type": "code",
   "execution_count": 101,
   "id": "337a3e6d",
   "metadata": {},
   "outputs": [],
   "source": [
    "xtab_dep_id_income_range = pd.crosstab(df_high['department_id'], df_high['income_range'], dropna = False)"
   ]
  },
  {
   "cell_type": "code",
   "execution_count": 102,
   "id": "65eee141",
   "metadata": {},
   "outputs": [
    {
     "data": {
      "text/html": [
       "<div>\n",
       "<style scoped>\n",
       "    .dataframe tbody tr th:only-of-type {\n",
       "        vertical-align: middle;\n",
       "    }\n",
       "\n",
       "    .dataframe tbody tr th {\n",
       "        vertical-align: top;\n",
       "    }\n",
       "\n",
       "    .dataframe thead th {\n",
       "        text-align: right;\n",
       "    }\n",
       "</style>\n",
       "<table border=\"1\" class=\"dataframe\">\n",
       "  <thead>\n",
       "    <tr style=\"text-align: right;\">\n",
       "      <th>income_range</th>\n",
       "      <th>025000-040000</th>\n",
       "      <th>040000-080000</th>\n",
       "      <th>080000-120000</th>\n",
       "      <th>120000-160000</th>\n",
       "      <th>160000-210000</th>\n",
       "      <th>210000-523000</th>\n",
       "      <th>523000+</th>\n",
       "    </tr>\n",
       "    <tr>\n",
       "      <th>department_id</th>\n",
       "      <th></th>\n",
       "      <th></th>\n",
       "      <th></th>\n",
       "      <th></th>\n",
       "      <th></th>\n",
       "      <th></th>\n",
       "      <th></th>\n",
       "    </tr>\n",
       "  </thead>\n",
       "  <tbody>\n",
       "    <tr>\n",
       "      <th>1.0</th>\n",
       "      <td>106798</td>\n",
       "      <td>651389</td>\n",
       "      <td>764528</td>\n",
       "      <td>501831</td>\n",
       "      <td>137669</td>\n",
       "      <td>17704</td>\n",
       "      <td>868</td>\n",
       "    </tr>\n",
       "    <tr>\n",
       "      <th>2.0</th>\n",
       "      <td>2052</td>\n",
       "      <td>10515</td>\n",
       "      <td>12264</td>\n",
       "      <td>7997</td>\n",
       "      <td>2122</td>\n",
       "      <td>440</td>\n",
       "      <td>13</td>\n",
       "    </tr>\n",
       "    <tr>\n",
       "      <th>3.0</th>\n",
       "      <td>51335</td>\n",
       "      <td>340512</td>\n",
       "      <td>405919</td>\n",
       "      <td>265185</td>\n",
       "      <td>72940</td>\n",
       "      <td>11499</td>\n",
       "      <td>593</td>\n",
       "    </tr>\n",
       "    <tr>\n",
       "      <th>4.0</th>\n",
       "      <td>393952</td>\n",
       "      <td>2790248</td>\n",
       "      <td>3321133</td>\n",
       "      <td>2165858</td>\n",
       "      <td>570256</td>\n",
       "      <td>44111</td>\n",
       "      <td>3302</td>\n",
       "    </tr>\n",
       "    <tr>\n",
       "      <th>5.0</th>\n",
       "      <td>9192</td>\n",
       "      <td>42857</td>\n",
       "      <td>49403</td>\n",
       "      <td>32194</td>\n",
       "      <td>9911</td>\n",
       "      <td>5268</td>\n",
       "      <td>484</td>\n",
       "    </tr>\n",
       "    <tr>\n",
       "      <th>6.0</th>\n",
       "      <td>10442</td>\n",
       "      <td>78078</td>\n",
       "      <td>95013</td>\n",
       "      <td>60931</td>\n",
       "      <td>16470</td>\n",
       "      <td>1834</td>\n",
       "      <td>152</td>\n",
       "    </tr>\n",
       "    <tr>\n",
       "      <th>7.0</th>\n",
       "      <td>197357</td>\n",
       "      <td>824053</td>\n",
       "      <td>865373</td>\n",
       "      <td>568661</td>\n",
       "      <td>154238</td>\n",
       "      <td>22101</td>\n",
       "      <td>1331</td>\n",
       "    </tr>\n",
       "    <tr>\n",
       "      <th>8.0</th>\n",
       "      <td>4566</td>\n",
       "      <td>27191</td>\n",
       "      <td>33266</td>\n",
       "      <td>23038</td>\n",
       "      <td>5629</td>\n",
       "      <td>1633</td>\n",
       "      <td>147</td>\n",
       "    </tr>\n",
       "    <tr>\n",
       "      <th>9.0</th>\n",
       "      <td>30837</td>\n",
       "      <td>248021</td>\n",
       "      <td>306430</td>\n",
       "      <td>199926</td>\n",
       "      <td>53566</td>\n",
       "      <td>6159</td>\n",
       "      <td>429</td>\n",
       "    </tr>\n",
       "    <tr>\n",
       "      <th>10.0</th>\n",
       "      <td>2297</td>\n",
       "      <td>11058</td>\n",
       "      <td>11616</td>\n",
       "      <td>7144</td>\n",
       "      <td>1869</td>\n",
       "      <td>24</td>\n",
       "      <td>3</td>\n",
       "    </tr>\n",
       "    <tr>\n",
       "      <th>11.0</th>\n",
       "      <td>23833</td>\n",
       "      <td>133687</td>\n",
       "      <td>149868</td>\n",
       "      <td>98776</td>\n",
       "      <td>26399</td>\n",
       "      <td>3565</td>\n",
       "      <td>267</td>\n",
       "    </tr>\n",
       "    <tr>\n",
       "      <th>12.0</th>\n",
       "      <td>13491</td>\n",
       "      <td>195974</td>\n",
       "      <td>260868</td>\n",
       "      <td>170946</td>\n",
       "      <td>45509</td>\n",
       "      <td>5653</td>\n",
       "      <td>237</td>\n",
       "    </tr>\n",
       "    <tr>\n",
       "      <th>13.0</th>\n",
       "      <td>80332</td>\n",
       "      <td>544786</td>\n",
       "      <td>649150</td>\n",
       "      <td>426604</td>\n",
       "      <td>115000</td>\n",
       "      <td>14412</td>\n",
       "      <td>839</td>\n",
       "    </tr>\n",
       "    <tr>\n",
       "      <th>14.0</th>\n",
       "      <td>47554</td>\n",
       "      <td>214603</td>\n",
       "      <td>228679</td>\n",
       "      <td>150184</td>\n",
       "      <td>40570</td>\n",
       "      <td>5718</td>\n",
       "      <td>351</td>\n",
       "    </tr>\n",
       "    <tr>\n",
       "      <th>15.0</th>\n",
       "      <td>36916</td>\n",
       "      <td>305608</td>\n",
       "      <td>376298</td>\n",
       "      <td>247547</td>\n",
       "      <td>66210</td>\n",
       "      <td>8056</td>\n",
       "      <td>536</td>\n",
       "    </tr>\n",
       "    <tr>\n",
       "      <th>16.0</th>\n",
       "      <td>243308</td>\n",
       "      <td>1585009</td>\n",
       "      <td>1876803</td>\n",
       "      <td>1221950</td>\n",
       "      <td>323797</td>\n",
       "      <td>39328</td>\n",
       "      <td>2550</td>\n",
       "    </tr>\n",
       "    <tr>\n",
       "      <th>17.0</th>\n",
       "      <td>44563</td>\n",
       "      <td>217917</td>\n",
       "      <td>242758</td>\n",
       "      <td>160350</td>\n",
       "      <td>43344</td>\n",
       "      <td>10425</td>\n",
       "      <td>730</td>\n",
       "    </tr>\n",
       "    <tr>\n",
       "      <th>18.0</th>\n",
       "      <td>12973</td>\n",
       "      <td>121112</td>\n",
       "      <td>154793</td>\n",
       "      <td>100761</td>\n",
       "      <td>26007</td>\n",
       "      <td>1675</td>\n",
       "      <td>215</td>\n",
       "    </tr>\n",
       "    <tr>\n",
       "      <th>19.0</th>\n",
       "      <td>300598</td>\n",
       "      <td>947649</td>\n",
       "      <td>852954</td>\n",
       "      <td>557625</td>\n",
       "      <td>149198</td>\n",
       "      <td>20575</td>\n",
       "      <td>1168</td>\n",
       "    </tr>\n",
       "    <tr>\n",
       "      <th>20.0</th>\n",
       "      <td>53246</td>\n",
       "      <td>310908</td>\n",
       "      <td>360534</td>\n",
       "      <td>233688</td>\n",
       "      <td>63374</td>\n",
       "      <td>6664</td>\n",
       "      <td>293</td>\n",
       "    </tr>\n",
       "    <tr>\n",
       "      <th>21.0</th>\n",
       "      <td>3280</td>\n",
       "      <td>20820</td>\n",
       "      <td>23018</td>\n",
       "      <td>15528</td>\n",
       "      <td>4106</td>\n",
       "      <td>276</td>\n",
       "      <td>6</td>\n",
       "    </tr>\n",
       "  </tbody>\n",
       "</table>\n",
       "</div>"
      ],
      "text/plain": [
       "income_range   025000-040000  040000-080000  080000-120000  120000-160000  \\\n",
       "department_id                                                               \n",
       "1.0                   106798         651389         764528         501831   \n",
       "2.0                     2052          10515          12264           7997   \n",
       "3.0                    51335         340512         405919         265185   \n",
       "4.0                   393952        2790248        3321133        2165858   \n",
       "5.0                     9192          42857          49403          32194   \n",
       "6.0                    10442          78078          95013          60931   \n",
       "7.0                   197357         824053         865373         568661   \n",
       "8.0                     4566          27191          33266          23038   \n",
       "9.0                    30837         248021         306430         199926   \n",
       "10.0                    2297          11058          11616           7144   \n",
       "11.0                   23833         133687         149868          98776   \n",
       "12.0                   13491         195974         260868         170946   \n",
       "13.0                   80332         544786         649150         426604   \n",
       "14.0                   47554         214603         228679         150184   \n",
       "15.0                   36916         305608         376298         247547   \n",
       "16.0                  243308        1585009        1876803        1221950   \n",
       "17.0                   44563         217917         242758         160350   \n",
       "18.0                   12973         121112         154793         100761   \n",
       "19.0                  300598         947649         852954         557625   \n",
       "20.0                   53246         310908         360534         233688   \n",
       "21.0                    3280          20820          23018          15528   \n",
       "\n",
       "income_range   160000-210000  210000-523000  523000+  \n",
       "department_id                                         \n",
       "1.0                   137669          17704      868  \n",
       "2.0                     2122            440       13  \n",
       "3.0                    72940          11499      593  \n",
       "4.0                   570256          44111     3302  \n",
       "5.0                     9911           5268      484  \n",
       "6.0                    16470           1834      152  \n",
       "7.0                   154238          22101     1331  \n",
       "8.0                     5629           1633      147  \n",
       "9.0                    53566           6159      429  \n",
       "10.0                    1869             24        3  \n",
       "11.0                   26399           3565      267  \n",
       "12.0                   45509           5653      237  \n",
       "13.0                  115000          14412      839  \n",
       "14.0                   40570           5718      351  \n",
       "15.0                   66210           8056      536  \n",
       "16.0                  323797          39328     2550  \n",
       "17.0                   43344          10425      730  \n",
       "18.0                   26007           1675      215  \n",
       "19.0                  149198          20575     1168  \n",
       "20.0                   63374           6664      293  \n",
       "21.0                    4106            276        6  "
      ]
     },
     "execution_count": 102,
     "metadata": {},
     "output_type": "execute_result"
    }
   ],
   "source": [
    "xtab_dep_id_income_range"
   ]
  },
  {
   "cell_type": "markdown",
   "id": "9448cc38",
   "metadata": {},
   "source": [
    "** I need to create department names column"
   ]
  },
  {
   "cell_type": "markdown",
   "id": "623319d0",
   "metadata": {},
   "source": [
    "* Import department data"
   ]
  },
  {
   "cell_type": "code",
   "execution_count": 103,
   "id": "0a514e52",
   "metadata": {},
   "outputs": [],
   "source": [
    "df_dep = pd.read_csv(os.path.join(path, '02 Data', 'Original Data', 'departments.csv'), index_col = False)"
   ]
  },
  {
   "cell_type": "code",
   "execution_count": 104,
   "id": "88bb62e0",
   "metadata": {},
   "outputs": [
    {
     "data": {
      "text/html": [
       "<div>\n",
       "<style scoped>\n",
       "    .dataframe tbody tr th:only-of-type {\n",
       "        vertical-align: middle;\n",
       "    }\n",
       "\n",
       "    .dataframe tbody tr th {\n",
       "        vertical-align: top;\n",
       "    }\n",
       "\n",
       "    .dataframe thead th {\n",
       "        text-align: right;\n",
       "    }\n",
       "</style>\n",
       "<table border=\"1\" class=\"dataframe\">\n",
       "  <thead>\n",
       "    <tr style=\"text-align: right;\">\n",
       "      <th></th>\n",
       "      <th>department_id</th>\n",
       "      <th>1</th>\n",
       "      <th>2</th>\n",
       "      <th>3</th>\n",
       "      <th>4</th>\n",
       "      <th>5</th>\n",
       "      <th>6</th>\n",
       "      <th>7</th>\n",
       "      <th>8</th>\n",
       "      <th>9</th>\n",
       "      <th>...</th>\n",
       "      <th>12</th>\n",
       "      <th>13</th>\n",
       "      <th>14</th>\n",
       "      <th>15</th>\n",
       "      <th>16</th>\n",
       "      <th>17</th>\n",
       "      <th>18</th>\n",
       "      <th>19</th>\n",
       "      <th>20</th>\n",
       "      <th>21</th>\n",
       "    </tr>\n",
       "  </thead>\n",
       "  <tbody>\n",
       "    <tr>\n",
       "      <th>0</th>\n",
       "      <td>department</td>\n",
       "      <td>frozen</td>\n",
       "      <td>other</td>\n",
       "      <td>bakery</td>\n",
       "      <td>produce</td>\n",
       "      <td>alcohol</td>\n",
       "      <td>international</td>\n",
       "      <td>beverages</td>\n",
       "      <td>pets</td>\n",
       "      <td>dry goods pasta</td>\n",
       "      <td>...</td>\n",
       "      <td>meat seafood</td>\n",
       "      <td>pantry</td>\n",
       "      <td>breakfast</td>\n",
       "      <td>canned goods</td>\n",
       "      <td>dairy eggs</td>\n",
       "      <td>household</td>\n",
       "      <td>babies</td>\n",
       "      <td>snacks</td>\n",
       "      <td>deli</td>\n",
       "      <td>missing</td>\n",
       "    </tr>\n",
       "  </tbody>\n",
       "</table>\n",
       "<p>1 rows × 22 columns</p>\n",
       "</div>"
      ],
      "text/plain": [
       "  department_id       1      2       3        4        5              6  \\\n",
       "0    department  frozen  other  bakery  produce  alcohol  international   \n",
       "\n",
       "           7     8                9  ...            12      13         14  \\\n",
       "0  beverages  pets  dry goods pasta  ...  meat seafood  pantry  breakfast   \n",
       "\n",
       "             15          16         17      18      19    20       21  \n",
       "0  canned goods  dairy eggs  household  babies  snacks  deli  missing  \n",
       "\n",
       "[1 rows x 22 columns]"
      ]
     },
     "execution_count": 104,
     "metadata": {},
     "output_type": "execute_result"
    }
   ],
   "source": [
    "df_dep.head()"
   ]
  },
  {
   "cell_type": "markdown",
   "id": "74dc4e4b",
   "metadata": {},
   "source": [
    "* Transpose the table"
   ]
  },
  {
   "cell_type": "code",
   "execution_count": 105,
   "id": "a4194fea",
   "metadata": {},
   "outputs": [
    {
     "data": {
      "text/html": [
       "<div>\n",
       "<style scoped>\n",
       "    .dataframe tbody tr th:only-of-type {\n",
       "        vertical-align: middle;\n",
       "    }\n",
       "\n",
       "    .dataframe tbody tr th {\n",
       "        vertical-align: top;\n",
       "    }\n",
       "\n",
       "    .dataframe thead th {\n",
       "        text-align: right;\n",
       "    }\n",
       "</style>\n",
       "<table border=\"1\" class=\"dataframe\">\n",
       "  <thead>\n",
       "    <tr style=\"text-align: right;\">\n",
       "      <th></th>\n",
       "      <th>0</th>\n",
       "    </tr>\n",
       "  </thead>\n",
       "  <tbody>\n",
       "    <tr>\n",
       "      <th>department_id</th>\n",
       "      <td>department</td>\n",
       "    </tr>\n",
       "    <tr>\n",
       "      <th>1</th>\n",
       "      <td>frozen</td>\n",
       "    </tr>\n",
       "    <tr>\n",
       "      <th>2</th>\n",
       "      <td>other</td>\n",
       "    </tr>\n",
       "    <tr>\n",
       "      <th>3</th>\n",
       "      <td>bakery</td>\n",
       "    </tr>\n",
       "    <tr>\n",
       "      <th>4</th>\n",
       "      <td>produce</td>\n",
       "    </tr>\n",
       "    <tr>\n",
       "      <th>5</th>\n",
       "      <td>alcohol</td>\n",
       "    </tr>\n",
       "    <tr>\n",
       "      <th>6</th>\n",
       "      <td>international</td>\n",
       "    </tr>\n",
       "    <tr>\n",
       "      <th>7</th>\n",
       "      <td>beverages</td>\n",
       "    </tr>\n",
       "    <tr>\n",
       "      <th>8</th>\n",
       "      <td>pets</td>\n",
       "    </tr>\n",
       "    <tr>\n",
       "      <th>9</th>\n",
       "      <td>dry goods pasta</td>\n",
       "    </tr>\n",
       "    <tr>\n",
       "      <th>10</th>\n",
       "      <td>bulk</td>\n",
       "    </tr>\n",
       "    <tr>\n",
       "      <th>11</th>\n",
       "      <td>personal care</td>\n",
       "    </tr>\n",
       "    <tr>\n",
       "      <th>12</th>\n",
       "      <td>meat seafood</td>\n",
       "    </tr>\n",
       "    <tr>\n",
       "      <th>13</th>\n",
       "      <td>pantry</td>\n",
       "    </tr>\n",
       "    <tr>\n",
       "      <th>14</th>\n",
       "      <td>breakfast</td>\n",
       "    </tr>\n",
       "    <tr>\n",
       "      <th>15</th>\n",
       "      <td>canned goods</td>\n",
       "    </tr>\n",
       "    <tr>\n",
       "      <th>16</th>\n",
       "      <td>dairy eggs</td>\n",
       "    </tr>\n",
       "    <tr>\n",
       "      <th>17</th>\n",
       "      <td>household</td>\n",
       "    </tr>\n",
       "    <tr>\n",
       "      <th>18</th>\n",
       "      <td>babies</td>\n",
       "    </tr>\n",
       "    <tr>\n",
       "      <th>19</th>\n",
       "      <td>snacks</td>\n",
       "    </tr>\n",
       "    <tr>\n",
       "      <th>20</th>\n",
       "      <td>deli</td>\n",
       "    </tr>\n",
       "    <tr>\n",
       "      <th>21</th>\n",
       "      <td>missing</td>\n",
       "    </tr>\n",
       "  </tbody>\n",
       "</table>\n",
       "</div>"
      ],
      "text/plain": [
       "                             0\n",
       "department_id       department\n",
       "1                       frozen\n",
       "2                        other\n",
       "3                       bakery\n",
       "4                      produce\n",
       "5                      alcohol\n",
       "6                international\n",
       "7                    beverages\n",
       "8                         pets\n",
       "9              dry goods pasta\n",
       "10                        bulk\n",
       "11               personal care\n",
       "12                meat seafood\n",
       "13                      pantry\n",
       "14                   breakfast\n",
       "15                canned goods\n",
       "16                  dairy eggs\n",
       "17                   household\n",
       "18                      babies\n",
       "19                      snacks\n",
       "20                        deli\n",
       "21                     missing"
      ]
     },
     "execution_count": 105,
     "metadata": {},
     "output_type": "execute_result"
    }
   ],
   "source": [
    "df_dep.T"
   ]
  },
  {
   "cell_type": "markdown",
   "id": "6c9b7525",
   "metadata": {},
   "source": [
    "* Creating new column for department names"
   ]
  },
  {
   "cell_type": "code",
   "execution_count": 106,
   "id": "4d32ee01",
   "metadata": {},
   "outputs": [
    {
     "name": "stderr",
     "output_type": "stream",
     "text": [
      "C:\\Users\\sahin\\anaconda3\\lib\\site-packages\\pandas\\core\\indexing.py:1684: SettingWithCopyWarning: \n",
      "A value is trying to be set on a copy of a slice from a DataFrame.\n",
      "Try using .loc[row_indexer,col_indexer] = value instead\n",
      "\n",
      "See the caveats in the documentation: https://pandas.pydata.org/pandas-docs/stable/user_guide/indexing.html#returning-a-view-versus-a-copy\n",
      "  self.obj[key] = infer_fill_value(value)\n",
      "C:\\Users\\sahin\\anaconda3\\lib\\site-packages\\pandas\\core\\indexing.py:1817: SettingWithCopyWarning: \n",
      "A value is trying to be set on a copy of a slice from a DataFrame.\n",
      "Try using .loc[row_indexer,col_indexer] = value instead\n",
      "\n",
      "See the caveats in the documentation: https://pandas.pydata.org/pandas-docs/stable/user_guide/indexing.html#returning-a-view-versus-a-copy\n",
      "  self._setitem_single_column(loc, value, pi)\n"
     ]
    }
   ],
   "source": [
    "df_high.loc[df_high['department_id'] == 1, 'department_name'] = 'frozen'\n",
    "df_high.loc[df_high['department_id'] == 2, 'department_name'] = 'other'\n",
    "df_high.loc[df_high['department_id'] == 3, 'department_name'] = 'bakery'\n",
    "df_high.loc[df_high['department_id'] == 4, 'department_name'] = 'produce'\n",
    "df_high.loc[df_high['department_id'] == 5, 'department_name'] = 'alcohol'\n",
    "df_high.loc[df_high['department_id'] == 6, 'department_name'] = 'international'\n",
    "df_high.loc[df_high['department_id'] == 7, 'department_name'] = 'beverages'\n",
    "df_high.loc[df_high['department_id'] == 8, 'department_name'] = 'pets'\n",
    "df_high.loc[df_high['department_id'] == 9, 'department_name'] = 'dry goods pasta'\n",
    "df_high.loc[df_high['department_id'] == 10, 'department_name'] = 'bulk'\n",
    "df_high.loc[df_high['department_id'] == 11, 'department_name'] = 'personel care'\n",
    "df_high.loc[df_high['department_id'] == 12, 'department_name'] = 'meat seafood'\n",
    "df_high.loc[df_high['department_id'] == 13, 'department_name'] = 'pantry'\n",
    "df_high.loc[df_high['department_id'] == 14, 'department_name'] = 'breakfast'\n",
    "df_high.loc[df_high['department_id'] == 15, 'department_name'] = 'canned goods'\n",
    "df_high.loc[df_high['department_id'] == 16, 'department_name'] = 'dairy eggs'\n",
    "df_high.loc[df_high['department_id'] == 17, 'department_name'] = 'household'\n",
    "df_high.loc[df_high['department_id'] == 18, 'department_name'] = 'babies'\n",
    "df_high.loc[df_high['department_id'] == 19, 'department_name'] = 'snakcs'\n",
    "df_high.loc[df_high['department_id'] == 20, 'department_name'] = 'deli'\n",
    "df_high.loc[df_high['department_id'] == 21, 'department_name'] = 'missing'"
   ]
  },
  {
   "cell_type": "code",
   "execution_count": 107,
   "id": "cfd982e9",
   "metadata": {},
   "outputs": [
    {
     "data": {
      "text/plain": [
       "produce            9288860\n",
       "dairy eggs         5292745\n",
       "snakcs             2829767\n",
       "beverages          2633114\n",
       "frozen             2180787\n",
       "pantry             1831123\n",
       "bakery             1147983\n",
       "canned goods       1041171\n",
       "deli               1028707\n",
       "dry goods pasta     845368\n",
       "household           720087\n",
       "meat seafood        692678\n",
       "breakfast           687659\n",
       "personel care       436395\n",
       "babies              417536\n",
       "international       262920\n",
       "alcohol             149309\n",
       "pets                 95470\n",
       "missing              67034\n",
       "other                35403\n",
       "bulk                 34011\n",
       "Name: department_name, dtype: int64"
      ]
     },
     "execution_count": 107,
     "metadata": {},
     "output_type": "execute_result"
    }
   ],
   "source": [
    "df_high['department_name'].value_counts()"
   ]
  },
  {
   "cell_type": "code",
   "execution_count": 108,
   "id": "5f5606eb",
   "metadata": {},
   "outputs": [
    {
     "data": {
      "text/plain": [
       "order_id                     int64\n",
       "user_id                      int64\n",
       "order_number                 int64\n",
       "orders_day_of_the_week        int8\n",
       "order_hour_of_day             int8\n",
       "days_since_prior_order     float16\n",
       "product_id                 float64\n",
       "add_to_cart_order          float16\n",
       "reordered                  float16\n",
       "product_name              category\n",
       "aisle_id                   float16\n",
       "department_id              float64\n",
       "prices                     float64\n",
       "max_order                     int8\n",
       "loyalty_flag              category\n",
       "spending                   float16\n",
       "spending_flag             category\n",
       "order_frequency            float16\n",
       "order_frequency_flag      category\n",
       "gender                    category\n",
       "state                     category\n",
       "age                          int64\n",
       "date_joined               category\n",
       "n_dependants                 int64\n",
       "fam_status                category\n",
       "income                       int64\n",
       "_merge                    category\n",
       "region                    category\n",
       "exclusion_flag            category\n",
       "age_group                 category\n",
       "income_range              category\n",
       "parental_status           category\n",
       "weekday                     object\n",
       "part_of_day                 object\n",
       "department_name             object\n",
       "dtype: object"
      ]
     },
     "execution_count": 108,
     "metadata": {},
     "output_type": "execute_result"
    }
   ],
   "source": [
    "df_high.dtypes"
   ]
  },
  {
   "cell_type": "code",
   "execution_count": 109,
   "id": "59a8e967",
   "metadata": {},
   "outputs": [],
   "source": [
    "# Key Question 1: What are the busiest days of the week and hours of the day?"
   ]
  },
  {
   "cell_type": "code",
   "execution_count": 110,
   "id": "84041ff8",
   "metadata": {},
   "outputs": [
    {
     "data": {
      "image/png": "[encoded data removed]",
      "text/plain": [
       "<Figure size 432x288 with 1 Axes>"
      ]
     },
     "metadata": {
      "needs_background": "light"
     },
     "output_type": "display_data"
    }
   ],
   "source": [
    "bar1 = df_high['orders_day_of_the_week'].value_counts().sort_index().plot.bar()"
   ]
  },
  {
   "cell_type": "code",
   "execution_count": 111,
   "id": "e6a5764f",
   "metadata": {},
   "outputs": [
    {
     "data": {
      "image/png": "[encoded data removed]",
      "text/plain": [
       "<Figure size 432x288 with 1 Axes>"
      ]
     },
     "metadata": {
      "needs_background": "light"
     },
     "output_type": "display_data"
    }
   ],
   "source": [
    "bar_busiest_hour = df_high['order_hour_of_day'].value_counts().sort_index().plot.bar()"
   ]
  },
  {
   "cell_type": "code",
   "execution_count": 112,
   "id": "e60440e4",
   "metadata": {},
   "outputs": [
    {
     "ename": "SyntaxError",
     "evalue": "invalid syntax (Temp/ipykernel_18072/3818784.py, line 3)",
     "output_type": "error",
     "traceback": [
      "\u001b[1;36m  File \u001b[1;32m\"C:\\Users\\sahin\\AppData\\Local\\Temp/ipykernel_18072/3818784.py\"\u001b[1;36m, line \u001b[1;32m3\u001b[0m\n\u001b[1;33m    4.9 Task part 2\u001b[0m\n\u001b[1;37m        ^\u001b[0m\n\u001b[1;31mSyntaxError\u001b[0m\u001b[1;31m:\u001b[0m invalid syntax\n"
     ]
    }
   ],
   "source": [
    "# Key Question 2: Are there particular times of the week when people spend most money?\n",
    "\n",
    "4.9 Task part 2"
   ]
  },
  {
   "cell_type": "code",
   "execution_count": null,
   "id": "feeb5e11",
   "metadata": {},
   "outputs": [],
   "source": [
    "# Key Question 4: Are there types of products that are more popular than others? Which department has the highest number of product orders?"
   ]
  },
  {
   "cell_type": "code",
   "execution_count": 114,
   "id": "648e25d1",
   "metadata": {},
   "outputs": [
    {
     "data": {
      "image/png": "[encoded data removed]",
      "text/plain": [
       "<Figure size 432x288 with 1 Axes>"
      ]
     },
     "metadata": {
      "needs_background": "light"
     },
     "output_type": "display_data"
    }
   ],
   "source": [
    "# Create visual to show which department sell the most\n",
    "bar_top_selling_departments = df_high['department_name'].value_counts().plot.bar(color = sns.color_palette('YlOrBr_r', 21))\n",
    "plt.tight_layout()"
   ]
  },
  {
   "cell_type": "code",
   "execution_count": null,
   "id": "db44b153",
   "metadata": {},
   "outputs": [],
   "source": [
    "# Key Question 5a: What's the distribution among users in regards to their brand loyalty? "
   ]
  },
  {
   "cell_type": "code",
   "execution_count": 115,
   "id": "6aaabf8e",
   "metadata": {},
   "outputs": [
    {
     "data": {
      "image/png": "[encoded data removed]",
      "text/plain": [
       "<Figure size 432x288 with 1 Axes>"
      ]
     },
     "metadata": {},
     "output_type": "display_data"
    }
   ],
   "source": [
    "# distribution among customers in regards to brand loyalty\n",
    "brand_loyalty_flag_pie = df_high['loyalty_flag'].value_counts().sort_index().plot.pie(autopct='%1.1f%%', colors = sns.color_palette('coolwarm',3))\n",
    "plt.ylabel('')\n",
    "plt.tight_layout()"
   ]
  },
  {
   "cell_type": "code",
   "execution_count": null,
   "id": "360c4fc8",
   "metadata": {},
   "outputs": [],
   "source": [
    "# Key Question 5b: Are there differences in ordering habits based on a customer’s loyalty status? "
   ]
  },
  {
   "cell_type": "code",
   "execution_count": 116,
   "id": "944c78e8",
   "metadata": {},
   "outputs": [],
   "source": [
    "# crosstab order_frequency_flag and loyalty_flag\n",
    "order_frequency_flag_loyalty_flag = pd.crosstab(df_high['order_frequency_flag'], df_high['loyalty_flag'], dropna = False)\n"
   ]
  },
  {
   "cell_type": "code",
   "execution_count": 117,
   "id": "6f42b7dc",
   "metadata": {},
   "outputs": [
    {
     "data": {
      "image/png": "[encoded data removed]",
      "text/plain": [
       "<Figure size 432x288 with 1 Axes>"
      ]
     },
     "metadata": {
      "needs_background": "light"
     },
     "output_type": "display_data"
    }
   ],
   "source": [
    "#bar chart loyalty_flag and order_frequency_flag\n",
    "bar_order_frequency_flag_loyalty_flag = order_frequency_flag_loyalty_flag.plot(kind = 'bar', stacked = True, color = sns.color_palette('coolwarm',3))\n",
    "plt.tight_layout()"
   ]
  },
  {
   "cell_type": "code",
   "execution_count": null,
   "id": "d2ff23b3",
   "metadata": {},
   "outputs": [],
   "source": [
    "# Key Question 5c : Are there any differences in ordering habits based on a customer's region? "
   ]
  },
  {
   "cell_type": "code",
   "execution_count": 118,
   "id": "2801ac9b",
   "metadata": {},
   "outputs": [],
   "source": [
    "# Crosstab ordering habits based on a customer region\n",
    "department_region = pd.crosstab(df_high['department_name'], df_high['region'], dropna = False)"
   ]
  },
  {
   "cell_type": "code",
   "execution_count": 119,
   "id": "3bc7cefb",
   "metadata": {},
   "outputs": [
    {
     "data": {
      "image/png": "[encoded data removed]",
      "text/plain": [
       "<Figure size 432x288 with 1 Axes>"
      ]
     },
     "metadata": {
      "needs_background": "light"
     },
     "output_type": "display_data"
    }
   ],
   "source": [
    "bar_department_region = department_region.plot(kind = 'bar', stacked = True, color = sns.color_palette('cool', 4))\n",
    "plt.tight_layout()"
   ]
  },
  {
   "cell_type": "code",
   "execution_count": 120,
   "id": "9ef4e084",
   "metadata": {},
   "outputs": [
    {
     "data": {
      "image/png": "[encoded data removed]",
      "text/plain": [
       "<Figure size 432x288 with 1 Axes>"
      ]
     },
     "metadata": {
      "needs_background": "light"
     },
     "output_type": "display_data"
    }
   ],
   "source": [
    "# 100% Stacked bar chart\n",
    "bar_department_region_100 = department_region.apply(lambda r: r/r.sum()*100, axis=1).plot(kind = 'bar', stacked = True, color = sns.color_palette('cool', 4))\n",
    "plt.legend(loc='center left', bbox_to_anchor=(1, 0.5))\n",
    "plt.tight_layout()"
   ]
  },
  {
   "cell_type": "code",
   "execution_count": 121,
   "id": "ee1b2d53",
   "metadata": {},
   "outputs": [],
   "source": [
    "# Crosstab for age_group and region\n",
    "age_region = pd.crosstab(df_high['age_group'], df_high['region'], dropna = False)"
   ]
  },
  {
   "cell_type": "code",
   "execution_count": 122,
   "id": "f0bb86f5",
   "metadata": {},
   "outputs": [
    {
     "data": {
      "image/png": "[encoded data removed]",
      "text/plain": [
       "<Figure size 432x288 with 1 Axes>"
      ]
     },
     "metadata": {
      "needs_background": "light"
     },
     "output_type": "display_data"
    }
   ],
   "source": [
    "bar_age_region = age_region.plot(kind = 'bar', stacked = True, color = sns.color_palette('cool', 4))\n",
    "plt.tight_layout()"
   ]
  },
  {
   "cell_type": "code",
   "execution_count": null,
   "id": "ca813e4c",
   "metadata": {},
   "outputs": [],
   "source": [
    "# Key Question 5 d : Is there a connection between age and family status in terms of ordering habits?"
   ]
  },
  {
   "cell_type": "code",
   "execution_count": 124,
   "id": "953cae48",
   "metadata": {},
   "outputs": [],
   "source": [
    "# Crosstab for age and department name\n",
    "age_department = pd.crosstab(df_high['department_name'], df_high['age_group'], dropna = False)"
   ]
  },
  {
   "cell_type": "code",
   "execution_count": 125,
   "id": "4182fa7c",
   "metadata": {},
   "outputs": [
    {
     "data": {
      "image/png": "[encoded data removed]",
      "text/plain": [
       "<Figure size 432x288 with 1 Axes>"
      ]
     },
     "metadata": {
      "needs_background": "light"
     },
     "output_type": "display_data"
    }
   ],
   "source": [
    "# Create visual for age and departmen name\n",
    "bar_age_department = age_department.plot(kind = 'bar', stacked = True, color = sns.color_palette('YlGnBu', 8))\n",
    "plt.legend(loc='upper left')\n",
    "plt.tight_layout()"
   ]
  },
  {
   "cell_type": "code",
   "execution_count": null,
   "id": "062d3a5e",
   "metadata": {},
   "outputs": [
    {
     "data": {
      "image/png": "[encoded data removed]",
      "text/plain": [
       "<Figure size 432x288 with 1 Axes>"
      ]
     },
     "metadata": {
      "needs_background": "light"
     },
     "output_type": "display_data"
    }
   ],
   "source": [
    "# 100% stacked bar chart\n",
    "bar_age_department_100 = age_department.apply(lambda r: r/r.sum()*100, axis=1).plot(kind = 'bar', stacked = True, color = sns.color_palette('YlGnBu',8))\n",
    "plt.legend(loc='center left', bbox_to_anchor=(1, 0.5))\n",
    "plt.tight_layout()"
   ]
  },
  {
   "cell_type": "markdown",
   "id": "51f98a93",
   "metadata": {},
   "source": [
    "# Check totals for fam_status"
   ]
  },
  {
   "cell_type": "code",
   "execution_count": 126,
   "id": "84568c6e",
   "metadata": {},
   "outputs": [
    {
     "data": {
      "text/plain": [
       "married                             22421852\n",
       "single                               5248979\n",
       "divorced/widowed                     2730548\n",
       "living with parents and siblings     1528600\n",
       "Name: fam_status, dtype: int64"
      ]
     },
     "execution_count": 126,
     "metadata": {},
     "output_type": "execute_result"
    }
   ],
   "source": [
    "df_high['fam_status'].value_counts()"
   ]
  },
  {
   "cell_type": "code",
   "execution_count": 127,
   "id": "5ea76cec",
   "metadata": {},
   "outputs": [],
   "source": [
    "# Crosstab family_status and department_name\n",
    "family_status_department = pd.crosstab(df_high['department_name'], df_high['fam_status'], dropna = False)"
   ]
  },
  {
   "cell_type": "code",
   "execution_count": 128,
   "id": "485d8b0e",
   "metadata": {},
   "outputs": [
    {
     "data": {
      "image/png": "[encoded data removed]",
      "text/plain": [
       "<Figure size 432x288 with 1 Axes>"
      ]
     },
     "metadata": {
      "needs_background": "light"
     },
     "output_type": "display_data"
    }
   ],
   "source": [
    "# Create visual for family status and department name\n",
    "bar_family_status_department = family_status_department.sort_index().plot(kind = 'bar', stacked = True, color = sns.color_palette('PuRd_r', 4))\n",
    "plt.legend(loc='upper left')\n",
    "plt.tight_layout()"
   ]
  },
  {
   "cell_type": "code",
   "execution_count": null,
   "id": "75c8f3b8",
   "metadata": {},
   "outputs": [
    {
     "data": {
      "image/png": "[encoded data removed]",
      "text/plain": [
       "<Figure size 432x288 with 1 Axes>"
      ]
     },
     "metadata": {
      "needs_background": "light"
     },
     "output_type": "display_data"
    }
   ],
   "source": [
    "# 100% family status and department name\n",
    "bar_family_status_department_100 = family_status_department.sort_index().apply(lambda r: r/r.sum()*100, axis=1).plot(kind = 'bar', stacked = True, color = sns.color_palette('PuRd_r', 4))\n",
    "plt.legend(loc='upper left')\n",
    "plt.tight_layout()"
   ]
  },
  {
   "cell_type": "code",
   "execution_count": 129,
   "id": "511a3a4d",
   "metadata": {},
   "outputs": [],
   "source": [
    "#Key Question 5 e : What different classifications does the demographic information suggest? Age? Income? Certain types of goods? Family status?"
   ]
  },
  {
   "cell_type": "code",
   "execution_count": 130,
   "id": "7885bee7",
   "metadata": {},
   "outputs": [
    {
     "data": {
      "text/plain": [
       "(array([0, 1, 2, 3, 4, 5, 6]),\n",
       " [Text(0, 0, '025000-040000'),\n",
       "  Text(1, 0, '040000-080000'),\n",
       "  Text(2, 0, '080000-120000'),\n",
       "  Text(3, 0, '120000-160000'),\n",
       "  Text(4, 0, '160000-210000'),\n",
       "  Text(5, 0, '210000-523000'),\n",
       "  Text(6, 0, '523000+')])"
      ]
     },
     "execution_count": 130,
     "metadata": {},
     "output_type": "execute_result"
    },
    {
     "data": {
      "image/png": "[encoded data removed]",
      "text/plain": [
       "<Figure size 432x288 with 1 Axes>"
      ]
     },
     "metadata": {
      "needs_background": "light"
     },
     "output_type": "display_data"
    }
   ],
   "source": [
    "bar_income_range = df_high['income_range'].value_counts().sort_index().plot.bar(color = sns.color_palette('Oranges', 1))\n",
    "plt.xticks(rotation= 20, horizontalalignment=\"center\")"
   ]
  },
  {
   "cell_type": "code",
   "execution_count": 131,
   "id": "eac086ab",
   "metadata": {},
   "outputs": [
    {
     "data": {
      "text/plain": [
       "(array([0, 1, 2, 3]),\n",
       " [Text(0, 0, 'divorced/widowed'),\n",
       "  Text(1, 0, 'living with parents and siblings'),\n",
       "  Text(2, 0, 'married'),\n",
       "  Text(3, 0, 'single')])"
      ]
     },
     "execution_count": 131,
     "metadata": {},
     "output_type": "execute_result"
    },
    {
     "data": {
      "image/png": "[encoded data removed]",
      "text/plain": [
       "<Figure size 432x288 with 1 Axes>"
      ]
     },
     "metadata": {
      "needs_background": "light"
     },
     "output_type": "display_data"
    }
   ],
   "source": [
    "bar_family_status = df_high['fam_status'].value_counts().sort_index().plot.bar(color = sns.color_palette('Blues', 1))\n",
    "plt.xticks(rotation= 30, horizontalalignment=\"center\")"
   ]
  },
  {
   "cell_type": "code",
   "execution_count": 132,
   "id": "b519ce19",
   "metadata": {},
   "outputs": [
    {
     "data": {
      "text/plain": [
       "(array([0, 1, 2, 3, 4, 5, 6, 7]),\n",
       " [Text(0, 0, '18-20'),\n",
       "  Text(1, 0, '21-30'),\n",
       "  Text(2, 0, '31-40'),\n",
       "  Text(3, 0, '41-50'),\n",
       "  Text(4, 0, '51-60'),\n",
       "  Text(5, 0, '61-70'),\n",
       "  Text(6, 0, '71-80'),\n",
       "  Text(7, 0, '80+')])"
      ]
     },
     "execution_count": 132,
     "metadata": {},
     "output_type": "execute_result"
    },
    {
     "data": {
      "image/png": "[encoded data removed]",
      "text/plain": [
       "<Figure size 432x288 with 1 Axes>"
      ]
     },
     "metadata": {
      "needs_background": "light"
     },
     "output_type": "display_data"
    }
   ],
   "source": [
    "bar_age_group = df_high['age_group'].value_counts().sort_index().plot.bar(color = sns.color_palette('Oranges', 1))\n",
    "plt.xticks(rotation= 20, horizontalalignment=\"center\")"
   ]
  },
  {
   "cell_type": "code",
   "execution_count": 133,
   "id": "02bccfc2",
   "metadata": {},
   "outputs": [
    {
     "data": {
      "image/png": "[encoded data removed]",
      "text/plain": [
       "<Figure size 432x288 with 1 Axes>"
      ]
     },
     "metadata": {
      "needs_background": "light"
     },
     "output_type": "display_data"
    }
   ],
   "source": [
    "bar_parental_status = df_high['parental_status'].value_counts().sort_index().plot.bar()"
   ]
  },
  {
   "cell_type": "code",
   "execution_count": null,
   "id": "d40e6110",
   "metadata": {},
   "outputs": [],
   "source": [
    "# Key Question 5 f : What differences can you find in ordering habits of different customer profiles?"
   ]
  },
  {
   "cell_type": "code",
   "execution_count": 134,
   "id": "eff608a9",
   "metadata": {},
   "outputs": [],
   "source": [
    "# Crosstab for department_name and parental_status\n",
    "department_name_parental_status = pd.crosstab(df_high['department_name'], df_high['parental_status'], dropna = False)"
   ]
  },
  {
   "cell_type": "code",
   "execution_count": 135,
   "id": "93a469ed",
   "metadata": {},
   "outputs": [
    {
     "data": {
      "image/png": "[encoded data removed]",
      "text/plain": [
       "<Figure size 432x288 with 1 Axes>"
      ]
     },
     "metadata": {
      "needs_background": "light"
     },
     "output_type": "display_data"
    }
   ],
   "source": [
    "bar_department_name_parental_status = department_name_parental_status.plot.bar(stacked = True, color = sns.color_palette('Blues', 2))\n",
    "plt.legend(title = 'parental_status',loc='upper left')\n",
    "plt.tight_layout()"
   ]
  },
  {
   "cell_type": "code",
   "execution_count": null,
   "id": "0ab8a4ec",
   "metadata": {},
   "outputs": [],
   "source": [
    "# Crosstab for weekday and parental_status\n",
    "\n",
    "weekday_parental_status = pd.crosstab(df_high['weekday'], df_high['parental_status'], dropna = False)"
   ]
  },
  {
   "cell_type": "code",
   "execution_count": null,
   "id": "8d530137",
   "metadata": {},
   "outputs": [
    {
     "data": {
      "image/png": "[encoded data removed]",
      "text/plain": [
       "<Figure size 432x288 with 1 Axes>"
      ]
     },
     "metadata": {
      "needs_background": "light"
     },
     "output_type": "display_data"
    }
   ],
   "source": [
    "bar_weekday_parental_status = weekday_parental_status.plot.bar(stacked = True, color = sns.color_palette('Blues', 2))\n",
    "plt.legend(title = 'parental_status',loc='upper left')\n",
    "plt.tight_layout()"
   ]
  },
  {
   "cell_type": "code",
   "execution_count": 136,
   "id": "a4294e43",
   "metadata": {},
   "outputs": [],
   "source": [
    "# Crosstab for age_group and spending flag\n",
    "age_loyalty_flag = pd.crosstab(df_high['age_group'], df_high['loyalty_flag'], dropna = False)"
   ]
  },
  {
   "cell_type": "code",
   "execution_count": 137,
   "id": "856c628a",
   "metadata": {},
   "outputs": [
    {
     "data": {
      "image/png": "[encoded data removed]",
      "text/plain": [
       "<Figure size 432x288 with 1 Axes>"
      ]
     },
     "metadata": {
      "needs_background": "light"
     },
     "output_type": "display_data"
    }
   ],
   "source": [
    "bar_age_loyalty_flag = age_loyalty_flag.plot.bar(stacked = True, color = sns.color_palette('Oranges', 3))\n",
    "plt.legend(title = 'loyalty_flag',loc='upper left')\n",
    "plt.tight_layout()"
   ]
  },
  {
   "cell_type": "code",
   "execution_count": null,
   "id": "cd0c375c",
   "metadata": {},
   "outputs": [],
   "source": [
    "# Crosstab for number of dependants and loyalty flag\n",
    "n_dependants_loyalty_flag = pd.crosstab(df_high['n_dependants'], df_high['loyalty_flag'], dropna = False) "
   ]
  },
  {
   "cell_type": "code",
   "execution_count": null,
   "id": "0a66088e",
   "metadata": {},
   "outputs": [
    {
     "data": {
      "image/png": "[encoded data removed]",
      "text/plain": [
       "<Figure size 432x288 with 1 Axes>"
      ]
     },
     "metadata": {
      "needs_background": "light"
     },
     "output_type": "display_data"
    }
   ],
   "source": [
    "bar_n_dependants_loyalty_flag = n_dependants_loyalty_flag.plot.bar(stacked = True, color = sns.color_palette('Oranges', 3))\n",
    "plt.legend(title = 'loyalty_flag',loc='upper left')\n",
    "plt.tight_layout()"
   ]
  },
  {
   "cell_type": "code",
   "execution_count": 138,
   "id": "cddd208c",
   "metadata": {},
   "outputs": [],
   "source": [
    "# Crosstab for department name and family status\n",
    "department_name_family_status = pd.crosstab(df_high['department_name'], df_high['fam_status'], dropna = False)"
   ]
  },
  {
   "cell_type": "code",
   "execution_count": 139,
   "id": "bfea59c0",
   "metadata": {},
   "outputs": [
    {
     "data": {
      "image/png": "[encoded data removed]",
      "text/plain": [
       "<Figure size 432x288 with 1 Axes>"
      ]
     },
     "metadata": {
      "needs_background": "light"
     },
     "output_type": "display_data"
    }
   ],
   "source": [
    "bar_department_name_family_status = department_name_family_status.plot.bar(stacked = True, color = sns.color_palette('RdGy', 3))\n",
    "plt.legend(title = 'family_status',loc='upper left')\n",
    "plt.tight_layout()"
   ]
  },
  {
   "cell_type": "code",
   "execution_count": 156,
   "id": "c7db1b50",
   "metadata": {},
   "outputs": [
    {
     "data": {
      "text/plain": [
       "99999.0"
      ]
     },
     "execution_count": 156,
     "metadata": {},
     "output_type": "execute_result"
    }
   ],
   "source": [
    "df_high['prices'].max()"
   ]
  },
  {
   "cell_type": "code",
   "execution_count": 157,
   "id": "484f5c2d",
   "metadata": {},
   "outputs": [
    {
     "name": "stderr",
     "output_type": "stream",
     "text": [
      "C:\\Users\\sahin\\anaconda3\\lib\\site-packages\\pandas\\core\\indexing.py:1684: SettingWithCopyWarning: \n",
      "A value is trying to be set on a copy of a slice from a DataFrame.\n",
      "Try using .loc[row_indexer,col_indexer] = value instead\n",
      "\n",
      "See the caveats in the documentation: https://pandas.pydata.org/pandas-docs/stable/user_guide/indexing.html#returning-a-view-versus-a-copy\n",
      "  self.obj[key] = infer_fill_value(value)\n",
      "C:\\Users\\sahin\\anaconda3\\lib\\site-packages\\pandas\\core\\indexing.py:1817: SettingWithCopyWarning: \n",
      "A value is trying to be set on a copy of a slice from a DataFrame.\n",
      "Try using .loc[row_indexer,col_indexer] = value instead\n",
      "\n",
      "See the caveats in the documentation: https://pandas.pydata.org/pandas-docs/stable/user_guide/indexing.html#returning-a-view-versus-a-copy\n",
      "  self._setitem_single_column(loc, value, pi)\n"
     ]
    }
   ],
   "source": [
    "df_high.loc[df_high['prices'] > 15, 'price_range_loc'] = 'High-range product'"
   ]
  },
  {
   "cell_type": "code",
   "execution_count": 160,
   "id": "e603baa1",
   "metadata": {},
   "outputs": [
    {
     "name": "stderr",
     "output_type": "stream",
     "text": [
      "C:\\Users\\sahin\\anaconda3\\lib\\site-packages\\pandas\\core\\indexing.py:1817: SettingWithCopyWarning: \n",
      "A value is trying to be set on a copy of a slice from a DataFrame.\n",
      "Try using .loc[row_indexer,col_indexer] = value instead\n",
      "\n",
      "See the caveats in the documentation: https://pandas.pydata.org/pandas-docs/stable/user_guide/indexing.html#returning-a-view-versus-a-copy\n",
      "  self._setitem_single_column(loc, value, pi)\n"
     ]
    }
   ],
   "source": [
    "df_high.loc[(df_high['prices'] <= 15) & (df_high['prices'] > 5), 'price_range_loc'] = 'Mid-range product'"
   ]
  },
  {
   "cell_type": "code",
   "execution_count": 161,
   "id": "f92710aa",
   "metadata": {},
   "outputs": [
    {
     "name": "stderr",
     "output_type": "stream",
     "text": [
      "C:\\Users\\sahin\\anaconda3\\lib\\site-packages\\pandas\\core\\indexing.py:1817: SettingWithCopyWarning: \n",
      "A value is trying to be set on a copy of a slice from a DataFrame.\n",
      "Try using .loc[row_indexer,col_indexer] = value instead\n",
      "\n",
      "See the caveats in the documentation: https://pandas.pydata.org/pandas-docs/stable/user_guide/indexing.html#returning-a-view-versus-a-copy\n",
      "  self._setitem_single_column(loc, value, pi)\n"
     ]
    }
   ],
   "source": [
    "df_high.loc[df_high['prices'] <=5, 'price_range_loc'] = 'Low-range product'"
   ]
  },
  {
   "cell_type": "code",
   "execution_count": 162,
   "id": "c9040074",
   "metadata": {},
   "outputs": [
    {
     "data": {
      "text/plain": [
       "Mid-range product     21399096\n",
       "Low-range product      9910695\n",
       "High-range product      408336\n",
       "NaN                     211852\n",
       "Name: price_range_loc, dtype: int64"
      ]
     },
     "execution_count": 162,
     "metadata": {},
     "output_type": "execute_result"
    }
   ],
   "source": [
    "df_high['price_range_loc'].value_counts(dropna = False)"
   ]
  },
  {
   "cell_type": "code",
   "execution_count": 163,
   "id": "1e746046",
   "metadata": {},
   "outputs": [],
   "source": [
    "# Key Question 3: Marketing and sales want to use simpler price range grouping."
   ]
  },
  {
   "cell_type": "code",
   "execution_count": 164,
   "id": "b0319769",
   "metadata": {},
   "outputs": [
    {
     "data": {
      "text/plain": [
       "Text(108.68, 0.5, '')"
      ]
     },
     "execution_count": 164,
     "metadata": {},
     "output_type": "execute_result"
    },
    {
     "data": {
      "image/png": "[encoded data removed]",
      "text/plain": [
       "<Figure size 432x288 with 1 Axes>"
      ]
     },
     "metadata": {},
     "output_type": "display_data"
    }
   ],
   "source": [
    "# Distribution of price_range products\n",
    "pie_price_rance_loc = df_high['price_range_loc'].value_counts().sort_index().plot.pie(autopct='%1.1f%%', colors = sns.color_palette('coolwarm', 4))\n",
    "plt.tight_layout()\n",
    "plt.ylabel('')"
   ]
  },
  {
   "cell_type": "code",
   "execution_count": 166,
   "id": "ab33a8b5",
   "metadata": {},
   "outputs": [],
   "source": [
    "# Crosstab of price_range_loc and spending_flag\n",
    "price_range_spending_flag = pd.crosstab(df_high['price_range_loc'], df_high['spending_flag'], dropna = False)"
   ]
  },
  {
   "cell_type": "code",
   "execution_count": 167,
   "id": "2fa8da03",
   "metadata": {},
   "outputs": [
    {
     "data": {
      "image/png": "[encoded data removed]",
      "text/plain": [
       "<Figure size 432x288 with 1 Axes>"
      ]
     },
     "metadata": {
      "needs_background": "light"
     },
     "output_type": "display_data"
    }
   ],
   "source": [
    "# bar chart price range and spending flag\n",
    "bar_price_range_spending_flag = price_range_spending_flag.plot(kind = 'bar', stacked = True, color = sns.color_palette('coolwarm', 3))\n",
    "plt.xticks(rotation= 20, horizontalalignment=\"center\")\n",
    "plt.tight_layout()"
   ]
  }
 ],
 "metadata": {
  "kernelspec": {
   "display_name": "Python 3 (ipykernel)",
   "language": "python",
   "name": "python3"
  },
  "language_info": {
   "codemirror_mode": {
    "name": "ipython",
    "version": 3
   },
   "file_extension": ".py",
   "mimetype": "text/x-python",
   "name": "python",
   "nbconvert_exporter": "python",
   "pygments_lexer": "ipython3",
   "version": "3.9.7"
  }
 },
 "nbformat": 4,
 "nbformat_minor": 5
}
