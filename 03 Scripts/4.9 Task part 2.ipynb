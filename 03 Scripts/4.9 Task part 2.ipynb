{
 "cells": [
  {
   "cell_type": "markdown",
   "id": "a7709f27",
   "metadata": {},
   "source": [
    "## Import libraries"
   ]
  },
  {
   "cell_type": "code",
   "execution_count": 1,
   "id": "ede59f6e",
   "metadata": {},
   "outputs": [],
   "source": [
    "import pandas as pd\n",
    "import numpy as np\n",
    "import os\n",
    "import matplotlib.pyplot as plt\n",
    "import seaborn as sns\n",
    "import scipy"
   ]
  },
  {
   "cell_type": "code",
   "execution_count": 72,
   "id": "46349255",
   "metadata": {},
   "outputs": [],
   "source": [
    "sns.set_theme(context='notebook', style=\"white\", palette=sns.color_palette(\"hls\", 8))"
   ]
  },
  {
   "cell_type": "code",
   "execution_count": 2,
   "id": "bd3b96cd",
   "metadata": {},
   "outputs": [],
   "source": [
    "path = r\"C:\\Users\\sahin\\Documents\\Instacart Basket Analysis\""
   ]
  },
  {
   "cell_type": "markdown",
   "id": "4b4542cd",
   "metadata": {},
   "source": [
    "* Import the dataset"
   ]
  },
  {
   "cell_type": "code",
   "execution_count": 3,
   "id": "9588c3dd",
   "metadata": {},
   "outputs": [],
   "source": [
    "df = pd.read_pickle(os.path.join(path, '02 Data', 'Prepared Data', '4.9_part1_ords_prods_customer.pkl'))"
   ]
  },
  {
   "cell_type": "code",
   "execution_count": 4,
   "id": "02335105",
   "metadata": {},
   "outputs": [
    {
     "data": {
      "text/html": [
       "<div>\n",
       "<style scoped>\n",
       "    .dataframe tbody tr th:only-of-type {\n",
       "        vertical-align: middle;\n",
       "    }\n",
       "\n",
       "    .dataframe tbody tr th {\n",
       "        vertical-align: top;\n",
       "    }\n",
       "\n",
       "    .dataframe thead th {\n",
       "        text-align: right;\n",
       "    }\n",
       "</style>\n",
       "<table border=\"1\" class=\"dataframe\">\n",
       "  <thead>\n",
       "    <tr style=\"text-align: right;\">\n",
       "      <th></th>\n",
       "      <th>order_id</th>\n",
       "      <th>user_id</th>\n",
       "      <th>order_number</th>\n",
       "      <th>orders_day_of_the_week</th>\n",
       "      <th>order_hour_of_day</th>\n",
       "      <th>days_since_prior_order</th>\n",
       "      <th>product_id</th>\n",
       "      <th>add_to_cart_order</th>\n",
       "      <th>reordered</th>\n",
       "      <th>product_name</th>\n",
       "      <th>...</th>\n",
       "      <th>order_frequency_flag</th>\n",
       "      <th>surname</th>\n",
       "      <th>gender</th>\n",
       "      <th>state</th>\n",
       "      <th>age</th>\n",
       "      <th>date_joined</th>\n",
       "      <th>n_dependants</th>\n",
       "      <th>fam_status</th>\n",
       "      <th>income</th>\n",
       "      <th>_merge</th>\n",
       "    </tr>\n",
       "  </thead>\n",
       "  <tbody>\n",
       "    <tr>\n",
       "      <th>0</th>\n",
       "      <td>2539329</td>\n",
       "      <td>1</td>\n",
       "      <td>1</td>\n",
       "      <td>2</td>\n",
       "      <td>8</td>\n",
       "      <td>NaN</td>\n",
       "      <td>196.0</td>\n",
       "      <td>1.0</td>\n",
       "      <td>0.0</td>\n",
       "      <td>Soda</td>\n",
       "      <td>...</td>\n",
       "      <td>Regular customer</td>\n",
       "      <td>Nguyen</td>\n",
       "      <td>Female</td>\n",
       "      <td>Alabama</td>\n",
       "      <td>31</td>\n",
       "      <td>2/17/2019</td>\n",
       "      <td>3</td>\n",
       "      <td>married</td>\n",
       "      <td>40423</td>\n",
       "      <td>both</td>\n",
       "    </tr>\n",
       "    <tr>\n",
       "      <th>1</th>\n",
       "      <td>2539329</td>\n",
       "      <td>1</td>\n",
       "      <td>1</td>\n",
       "      <td>2</td>\n",
       "      <td>8</td>\n",
       "      <td>NaN</td>\n",
       "      <td>14084.0</td>\n",
       "      <td>2.0</td>\n",
       "      <td>0.0</td>\n",
       "      <td>Organic Unsweetened Vanilla Almond Milk</td>\n",
       "      <td>...</td>\n",
       "      <td>Regular customer</td>\n",
       "      <td>Nguyen</td>\n",
       "      <td>Female</td>\n",
       "      <td>Alabama</td>\n",
       "      <td>31</td>\n",
       "      <td>2/17/2019</td>\n",
       "      <td>3</td>\n",
       "      <td>married</td>\n",
       "      <td>40423</td>\n",
       "      <td>both</td>\n",
       "    </tr>\n",
       "    <tr>\n",
       "      <th>2</th>\n",
       "      <td>2539329</td>\n",
       "      <td>1</td>\n",
       "      <td>1</td>\n",
       "      <td>2</td>\n",
       "      <td>8</td>\n",
       "      <td>NaN</td>\n",
       "      <td>12427.0</td>\n",
       "      <td>3.0</td>\n",
       "      <td>0.0</td>\n",
       "      <td>Original Beef Jerky</td>\n",
       "      <td>...</td>\n",
       "      <td>Regular customer</td>\n",
       "      <td>Nguyen</td>\n",
       "      <td>Female</td>\n",
       "      <td>Alabama</td>\n",
       "      <td>31</td>\n",
       "      <td>2/17/2019</td>\n",
       "      <td>3</td>\n",
       "      <td>married</td>\n",
       "      <td>40423</td>\n",
       "      <td>both</td>\n",
       "    </tr>\n",
       "    <tr>\n",
       "      <th>3</th>\n",
       "      <td>2539329</td>\n",
       "      <td>1</td>\n",
       "      <td>1</td>\n",
       "      <td>2</td>\n",
       "      <td>8</td>\n",
       "      <td>NaN</td>\n",
       "      <td>26088.0</td>\n",
       "      <td>4.0</td>\n",
       "      <td>0.0</td>\n",
       "      <td>Aged White Cheddar Popcorn</td>\n",
       "      <td>...</td>\n",
       "      <td>Regular customer</td>\n",
       "      <td>Nguyen</td>\n",
       "      <td>Female</td>\n",
       "      <td>Alabama</td>\n",
       "      <td>31</td>\n",
       "      <td>2/17/2019</td>\n",
       "      <td>3</td>\n",
       "      <td>married</td>\n",
       "      <td>40423</td>\n",
       "      <td>both</td>\n",
       "    </tr>\n",
       "    <tr>\n",
       "      <th>4</th>\n",
       "      <td>2539329</td>\n",
       "      <td>1</td>\n",
       "      <td>1</td>\n",
       "      <td>2</td>\n",
       "      <td>8</td>\n",
       "      <td>NaN</td>\n",
       "      <td>26405.0</td>\n",
       "      <td>5.0</td>\n",
       "      <td>0.0</td>\n",
       "      <td>XL Pick-A-Size Paper Towel Rolls</td>\n",
       "      <td>...</td>\n",
       "      <td>Regular customer</td>\n",
       "      <td>Nguyen</td>\n",
       "      <td>Female</td>\n",
       "      <td>Alabama</td>\n",
       "      <td>31</td>\n",
       "      <td>2/17/2019</td>\n",
       "      <td>3</td>\n",
       "      <td>married</td>\n",
       "      <td>40423</td>\n",
       "      <td>both</td>\n",
       "    </tr>\n",
       "  </tbody>\n",
       "</table>\n",
       "<p>5 rows × 28 columns</p>\n",
       "</div>"
      ],
      "text/plain": [
       "   order_id  user_id  order_number  orders_day_of_the_week  order_hour_of_day  \\\n",
       "0   2539329        1             1                       2                  8   \n",
       "1   2539329        1             1                       2                  8   \n",
       "2   2539329        1             1                       2                  8   \n",
       "3   2539329        1             1                       2                  8   \n",
       "4   2539329        1             1                       2                  8   \n",
       "\n",
       "   days_since_prior_order  product_id  add_to_cart_order  reordered  \\\n",
       "0                     NaN       196.0                1.0        0.0   \n",
       "1                     NaN     14084.0                2.0        0.0   \n",
       "2                     NaN     12427.0                3.0        0.0   \n",
       "3                     NaN     26088.0                4.0        0.0   \n",
       "4                     NaN     26405.0                5.0        0.0   \n",
       "\n",
       "                              product_name  ...  order_frequency_flag  \\\n",
       "0                                     Soda  ...      Regular customer   \n",
       "1  Organic Unsweetened Vanilla Almond Milk  ...      Regular customer   \n",
       "2                      Original Beef Jerky  ...      Regular customer   \n",
       "3               Aged White Cheddar Popcorn  ...      Regular customer   \n",
       "4         XL Pick-A-Size Paper Towel Rolls  ...      Regular customer   \n",
       "\n",
       "   surname  gender    state age  date_joined n_dependants  fam_status income  \\\n",
       "0   Nguyen  Female  Alabama  31    2/17/2019            3     married  40423   \n",
       "1   Nguyen  Female  Alabama  31    2/17/2019            3     married  40423   \n",
       "2   Nguyen  Female  Alabama  31    2/17/2019            3     married  40423   \n",
       "3   Nguyen  Female  Alabama  31    2/17/2019            3     married  40423   \n",
       "4   Nguyen  Female  Alabama  31    2/17/2019            3     married  40423   \n",
       "\n",
       "  _merge  \n",
       "0   both  \n",
       "1   both  \n",
       "2   both  \n",
       "3   both  \n",
       "4   both  \n",
       "\n",
       "[5 rows x 28 columns]"
      ]
     },
     "execution_count": 4,
     "metadata": {},
     "output_type": "execute_result"
    }
   ],
   "source": [
    "df.head()"
   ]
  },
  {
   "cell_type": "markdown",
   "id": "9f97fad0",
   "metadata": {},
   "source": [
    "#### Bar Chart"
   ]
  },
  {
   "cell_type": "code",
   "execution_count": 73,
   "id": "e9b31b3d",
   "metadata": {},
   "outputs": [
    {
     "data": {
      "image/png": "[encoded data removed]",
      "text/plain": [
       "<Figure size 432x288 with 1 Axes>"
      ]
     },
     "metadata": {},
     "output_type": "display_data"
    }
   ],
   "source": [
    "bar = df['orders_day_of_the_week'].value_counts().plot.bar()"
   ]
  },
  {
   "cell_type": "markdown",
   "id": "1858ebb8",
   "metadata": {},
   "source": [
    "##### sort index "
   ]
  },
  {
   "cell_type": "code",
   "execution_count": 74,
   "id": "6b75faef",
   "metadata": {},
   "outputs": [
    {
     "data": {
      "image/png": "[encoded data removed]",
      "text/plain": [
       "<Figure size 432x288 with 1 Axes>"
      ]
     },
     "metadata": {},
     "output_type": "display_data"
    }
   ],
   "source": [
    "bar1 = df['orders_day_of_the_week'].value_counts().sort_index().plot.bar()"
   ]
  },
  {
   "cell_type": "code",
   "execution_count": 78,
   "id": "d702fd0a",
   "metadata": {},
   "outputs": [
    {
     "data": {
      "image/png": "[encoded data removed]",
      "text/plain": [
       "<Figure size 432x288 with 1 Axes>"
      ]
     },
     "metadata": {},
     "output_type": "display_data"
    }
   ],
   "source": [
    "bar1a = df['order_hour_of_day'].value_counts().sort_index().plot.bar()"
   ]
  },
  {
   "cell_type": "markdown",
   "id": "669ee213",
   "metadata": {},
   "source": [
    "#### Histogram"
   ]
  },
  {
   "cell_type": "code",
   "execution_count": 75,
   "id": "8d315e6c",
   "metadata": {},
   "outputs": [
    {
     "data": {
      "image/png": "[encoded data removed]",
      "text/plain": [
       "<Figure size 432x288 with 1 Axes>"
      ]
     },
     "metadata": {},
     "output_type": "display_data"
    }
   ],
   "source": [
    "hist = df['prices'].plot.hist(bins = 70)"
   ]
  },
  {
   "cell_type": "code",
   "execution_count": 8,
   "id": "63693cee",
   "metadata": {},
   "outputs": [
    {
     "data": {
      "text/plain": [
       "count    3.240486e+07\n",
       "mean     1.198023e+01\n",
       "std      4.956554e+02\n",
       "min      1.000000e+00\n",
       "25%      4.200000e+00\n",
       "50%      7.400000e+00\n",
       "75%      1.130000e+01\n",
       "max      9.999900e+04\n",
       "Name: prices, dtype: float64"
      ]
     },
     "execution_count": 8,
     "metadata": {},
     "output_type": "execute_result"
    }
   ],
   "source": [
    "df['prices'].describe()"
   ]
  },
  {
   "cell_type": "code",
   "execution_count": 9,
   "id": "49a9468d",
   "metadata": {},
   "outputs": [
    {
     "data": {
      "text/plain": [
       "1.0"
      ]
     },
     "execution_count": 9,
     "metadata": {},
     "output_type": "execute_result"
    }
   ],
   "source": [
    "df['prices'].min()"
   ]
  },
  {
   "cell_type": "code",
   "execution_count": 10,
   "id": "6eec95af",
   "metadata": {},
   "outputs": [
    {
     "data": {
      "text/plain": [
       "11.980225638676366"
      ]
     },
     "execution_count": 10,
     "metadata": {},
     "output_type": "execute_result"
    }
   ],
   "source": [
    "df['prices'].mean()"
   ]
  },
  {
   "cell_type": "code",
   "execution_count": 11,
   "id": "694382ad",
   "metadata": {},
   "outputs": [
    {
     "data": {
      "text/plain": [
       "7.4"
      ]
     },
     "execution_count": 11,
     "metadata": {},
     "output_type": "execute_result"
    }
   ],
   "source": [
    "df['prices'].median()"
   ]
  },
  {
   "cell_type": "code",
   "execution_count": 12,
   "id": "7a17d765",
   "metadata": {},
   "outputs": [
    {
     "data": {
      "text/plain": [
       "99999.0"
      ]
     },
     "execution_count": 12,
     "metadata": {},
     "output_type": "execute_result"
    }
   ],
   "source": [
    "df['prices'].max()"
   ]
  },
  {
   "cell_type": "markdown",
   "id": "18d0022f",
   "metadata": {},
   "source": [
    "* In this exercise, we saw that outliers (prices > 100) caused the one large column in the histogram. So, I will replace outlier values with nan"
   ]
  },
  {
   "cell_type": "code",
   "execution_count": 13,
   "id": "2b6069c2",
   "metadata": {},
   "outputs": [],
   "source": [
    "df.loc[df['prices'] > 100, 'prices'] = np.nan"
   ]
  },
  {
   "cell_type": "code",
   "execution_count": 14,
   "id": "bd171b6c",
   "metadata": {},
   "outputs": [
    {
     "data": {
      "text/plain": [
       "25.0"
      ]
     },
     "execution_count": 14,
     "metadata": {},
     "output_type": "execute_result"
    }
   ],
   "source": [
    "df['prices'].max()"
   ]
  },
  {
   "cell_type": "code",
   "execution_count": 76,
   "id": "34ceb0e6",
   "metadata": {},
   "outputs": [
    {
     "data": {
      "image/png": "[encoded data removed]",
      "text/plain": [
       "<Figure size 432x288 with 1 Axes>"
      ]
     },
     "metadata": {},
     "output_type": "display_data"
    }
   ],
   "source": [
    "hist_1 = df['prices'].plot.hist(bins = 70)"
   ]
  },
  {
   "cell_type": "markdown",
   "id": "01e05dcb",
   "metadata": {},
   "source": [
    "#### Line Chart"
   ]
  },
  {
   "cell_type": "markdown",
   "id": "e1aa994b",
   "metadata": {},
   "source": [
    "#### Sampling"
   ]
  },
  {
   "cell_type": "markdown",
   "id": "065fce47",
   "metadata": {},
   "source": [
    "** I will take a random sample of 30% of the data"
   ]
  },
  {
   "cell_type": "markdown",
   "id": "d0bab198",
   "metadata": {},
   "source": [
    "##### setting the random seed"
   ]
  },
  {
   "cell_type": "code",
   "execution_count": 16,
   "id": "fcefa350",
   "metadata": {},
   "outputs": [],
   "source": [
    "np.random.seed(4)"
   ]
  },
  {
   "cell_type": "markdown",
   "id": "9df135d4",
   "metadata": {},
   "source": [
    "##### list storing boolean values"
   ]
  },
  {
   "cell_type": "code",
   "execution_count": 17,
   "id": "420d7c15",
   "metadata": {},
   "outputs": [],
   "source": [
    "dev = np.random.rand(len(df)) <= 0.7"
   ]
  },
  {
   "cell_type": "markdown",
   "id": "e2399532",
   "metadata": {},
   "source": [
    "##### split df in to two samples"
   ]
  },
  {
   "cell_type": "code",
   "execution_count": 18,
   "id": "48ba99ac",
   "metadata": {},
   "outputs": [],
   "source": [
    "big = df[dev]"
   ]
  },
  {
   "cell_type": "code",
   "execution_count": 19,
   "id": "8b945262",
   "metadata": {},
   "outputs": [],
   "source": [
    "small = df[~dev]"
   ]
  },
  {
   "cell_type": "markdown",
   "id": "58d7e81a",
   "metadata": {},
   "source": [
    "##### double checking big and small contain all data"
   ]
  },
  {
   "cell_type": "code",
   "execution_count": 20,
   "id": "26f1422e",
   "metadata": {},
   "outputs": [
    {
     "data": {
      "text/plain": [
       "32641268"
      ]
     },
     "execution_count": 20,
     "metadata": {},
     "output_type": "execute_result"
    }
   ],
   "source": [
    "len(df)"
   ]
  },
  {
   "cell_type": "code",
   "execution_count": 21,
   "id": "58c70484",
   "metadata": {},
   "outputs": [
    {
     "data": {
      "text/plain": [
       "32641268"
      ]
     },
     "execution_count": 21,
     "metadata": {},
     "output_type": "execute_result"
    }
   ],
   "source": [
    "len(big) + len(small)"
   ]
  },
  {
   "cell_type": "markdown",
   "id": "670d3b27",
   "metadata": {},
   "source": [
    "#### Line Chart"
   ]
  },
  {
   "cell_type": "markdown",
   "id": "548a177d",
   "metadata": {},
   "source": [
    "##### creating smaller df to speed up processing"
   ]
  },
  {
   "cell_type": "code",
   "execution_count": 22,
   "id": "fcc1e790",
   "metadata": {},
   "outputs": [],
   "source": [
    "df_2 = small[['orders_day_of_the_week', 'prices']]"
   ]
  },
  {
   "cell_type": "code",
   "execution_count": 77,
   "id": "26eebef2",
   "metadata": {},
   "outputs": [
    {
     "data": {
      "image/png": "[encoded data removed]",
      "text/plain": [
       "<Figure size 432x288 with 1 Axes>"
      ]
     },
     "metadata": {},
     "output_type": "display_data"
    }
   ],
   "source": [
    "line = sns.lineplot(data = df_2, x = 'orders_day_of_the_week', y = 'prices', ci=None)"
   ]
  },
  {
   "cell_type": "code",
   "execution_count": 81,
   "id": "9beb4c76",
   "metadata": {},
   "outputs": [
    {
     "data": {
      "image/png": "[encoded data removed]",
      "text/plain": [
       "<Figure size 432x288 with 1 Axes>"
      ]
     },
     "metadata": {},
     "output_type": "display_data"
    }
   ],
   "source": [
    "line = sns.lineplot(data = df, x = 'orders_day_of_the_week', y = 'prices', ci=None)"
   ]
  },
  {
   "cell_type": "markdown",
   "id": "aba9b361",
   "metadata": {},
   "source": [
    "3. You need to provide the Instacart senior stakeholders with descriptive findings about sales. Create a histogram of the “order_hour_of_day” column.\n",
    "In a markdown cell beneath your histogram, describe what the histogram demonstrates."
   ]
  },
  {
   "cell_type": "markdown",
   "id": "2b3ed3ef",
   "metadata": {},
   "source": [
    "* Histogram : 'order_hour_of_day'"
   ]
  },
  {
   "cell_type": "code",
   "execution_count": 24,
   "id": "1854d90c",
   "metadata": {},
   "outputs": [
    {
     "data": {
      "image/png": "[encoded data removed]",
      "text/plain": [
       "<Figure size 432x288 with 1 Axes>"
      ]
     },
     "metadata": {
      "needs_background": "light"
     },
     "output_type": "display_data"
    }
   ],
   "source": [
    "hist_2 = df['order_hour_of_day'].plot.hist(bins = 24)"
   ]
  },
  {
   "cell_type": "markdown",
   "id": "47c90726",
   "metadata": {},
   "source": [
    "*** The histogram tells us that most of the orders are placed in the middle of the day."
   ]
  },
  {
   "cell_type": "markdown",
   "id": "9c8b0926",
   "metadata": {},
   "source": [
    "4. The marketing team is curious about the distribution of orders among customers in terms of loyalty. Create a bar chart from the “loyalty_flag” column."
   ]
  },
  {
   "cell_type": "code",
   "execution_count": 25,
   "id": "45a64f6c",
   "metadata": {},
   "outputs": [
    {
     "data": {
      "image/png": "[encoded data removed]",
      "text/plain": [
       "<Figure size 432x288 with 1 Axes>"
      ]
     },
     "metadata": {
      "needs_background": "light"
     },
     "output_type": "display_data"
    }
   ],
   "source": [
    "bar2 = df['loyalty_flag'].value_counts().plot.bar()"
   ]
  },
  {
   "cell_type": "markdown",
   "id": "d72c8776",
   "metadata": {},
   "source": [
    "5. Check whether there’s a difference in expenditure (the “prices” column) depending on the hour of the day. (Hint: To check this, you need to use an accurate sample for your line chart!)"
   ]
  },
  {
   "cell_type": "code",
   "execution_count": 26,
   "id": "e55c2bcc",
   "metadata": {},
   "outputs": [
    {
     "data": {
      "image/png": "[encoded data removed]",
      "text/plain": [
       "<Figure size 432x288 with 1 Axes>"
      ]
     },
     "metadata": {
      "needs_background": "light"
     },
     "output_type": "display_data"
    }
   ],
   "source": [
    "line_1 = sns.lineplot(data = df, x = 'order_hour_of_day', y = 'prices', ci=None)"
   ]
  },
  {
   "cell_type": "markdown",
   "id": "eb707b3d",
   "metadata": {},
   "source": [
    "6. Now that you have information about customers, you need to conduct some exploratory analysis of customer demographics to inform the targeted marketing campaigns. First, determine whether there’s a connection between age and family status by creating a line chart exploring the connections between age and number of dependents:\n",
    "** In a markdown cell beneath your line chart, describe what the line chart shows."
   ]
  },
  {
   "cell_type": "markdown",
   "id": "88f475ae",
   "metadata": {},
   "source": [
    "* Line chart : age & n_dependents"
   ]
  },
  {
   "cell_type": "markdown",
   "id": "b35c3450",
   "metadata": {},
   "source": [
    "##### creating smaller df to speed up processing"
   ]
  },
  {
   "cell_type": "code",
   "execution_count": 27,
   "id": "71361c85",
   "metadata": {},
   "outputs": [],
   "source": [
    "df_3 = small[['age', 'n_dependants']]"
   ]
  },
  {
   "cell_type": "code",
   "execution_count": 28,
   "id": "949768bf",
   "metadata": {},
   "outputs": [
    {
     "data": {
      "image/png": "[encoded data removed]",
      "text/plain": [
       "<Figure size 432x288 with 1 Axes>"
      ]
     },
     "metadata": {
      "needs_background": "light"
     },
     "output_type": "display_data"
    }
   ],
   "source": [
    "line_2 = sns.lineplot(data = df_3, x = 'n_dependants', y = 'age', ci=None)"
   ]
  },
  {
   "cell_type": "markdown",
   "id": "30342bea",
   "metadata": {},
   "source": [
    "** I could not see any positive or negative correlation between variables."
   ]
  },
  {
   "cell_type": "code",
   "execution_count": 29,
   "id": "6c54ba98",
   "metadata": {},
   "outputs": [
    {
     "data": {
      "text/plain": [
       "49.4653546240912"
      ]
     },
     "execution_count": 29,
     "metadata": {},
     "output_type": "execute_result"
    }
   ],
   "source": [
    "df['age'].mean()"
   ]
  },
  {
   "cell_type": "markdown",
   "id": "41d5548c",
   "metadata": {},
   "source": [
    "7. You’ll also need to explore whether there’s a connection between age and spending power. To visualize this relationship, create a scatterplot using the sns.scatterplot() function.\n",
    "** In a markdown cell beneath your scatterplot, describe what the scatterplot shows."
   ]
  },
  {
   "cell_type": "code",
   "execution_count": 30,
   "id": "89b28c4e",
   "metadata": {},
   "outputs": [
    {
     "data": {
      "image/png": "[encoded data removed]",
      "text/plain": [
       "<Figure size 432x288 with 1 Axes>"
      ]
     },
     "metadata": {
      "needs_background": "light"
     },
     "output_type": "display_data"
    }
   ],
   "source": [
    "scatter = sns.scatterplot(data = df, x = 'age', y = 'income' )"
   ]
  },
  {
   "cell_type": "markdown",
   "id": "08bb2ab8",
   "metadata": {},
   "source": [
    "** This scatterplot show that there is a positive correlation between age and income variables."
   ]
  },
  {
   "cell_type": "markdown",
   "id": "a624e9b5",
   "metadata": {},
   "source": [
    "8. Export your visualizations as “.png” files in your relevant project folder."
   ]
  },
  {
   "cell_type": "markdown",
   "id": "b8af9453",
   "metadata": {},
   "source": [
    "#### exporting visualizations"
   ]
  },
  {
   "cell_type": "code",
   "execution_count": 31,
   "id": "a9b67c15",
   "metadata": {},
   "outputs": [],
   "source": [
    "# orders_day_of_the_week bar"
   ]
  },
  {
   "cell_type": "code",
   "execution_count": 32,
   "id": "0a02298c",
   "metadata": {},
   "outputs": [],
   "source": [
    "bar.figure.savefig(os.path.join(path, '04 Analysis', 'orders_day_of_the_week_bar.png'))"
   ]
  },
  {
   "cell_type": "code",
   "execution_count": 33,
   "id": "9c7a9cc5",
   "metadata": {},
   "outputs": [],
   "source": [
    "# prices histogram"
   ]
  },
  {
   "cell_type": "code",
   "execution_count": 34,
   "id": "ded90fb0",
   "metadata": {},
   "outputs": [],
   "source": [
    "hist_1.figure.savefig(os.path.join(path, '04 Analysis', 'prices_hist.png'))"
   ]
  },
  {
   "cell_type": "code",
   "execution_count": 35,
   "id": "a0b395ce",
   "metadata": {},
   "outputs": [],
   "source": [
    "# orders_day_of_the_week & prices line chart"
   ]
  },
  {
   "cell_type": "code",
   "execution_count": 36,
   "id": "d9d6629e",
   "metadata": {},
   "outputs": [],
   "source": [
    "line.figure.savefig(os.path.join(path, '04 Analysis', 'orders_day_of_the_week_prices_line.png'))"
   ]
  },
  {
   "cell_type": "code",
   "execution_count": 37,
   "id": "4a2f0030",
   "metadata": {},
   "outputs": [],
   "source": [
    "# order_hour_of_day histogram"
   ]
  },
  {
   "cell_type": "code",
   "execution_count": 38,
   "id": "df162cd7",
   "metadata": {},
   "outputs": [],
   "source": [
    "hist_2.figure.savefig(os.path.join(path, '04 Analysis', 'order_hour_of_day_hist.png'))"
   ]
  },
  {
   "cell_type": "code",
   "execution_count": 39,
   "id": "9140fdb0",
   "metadata": {},
   "outputs": [],
   "source": [
    "# loyalty_flag bar"
   ]
  },
  {
   "cell_type": "code",
   "execution_count": 40,
   "id": "7dc72abe",
   "metadata": {},
   "outputs": [],
   "source": [
    "bar2.figure.savefig(os.path.join(path, '04 Analysis', 'loyalty_flag_bar.png'))"
   ]
  },
  {
   "cell_type": "code",
   "execution_count": 41,
   "id": "c61a7904",
   "metadata": {},
   "outputs": [],
   "source": [
    "# order_hour_of_day & prices linechart"
   ]
  },
  {
   "cell_type": "code",
   "execution_count": 42,
   "id": "dd427112",
   "metadata": {},
   "outputs": [],
   "source": [
    "line_1.figure.savefig(os.path.join(path, '04 Analysis', 'order_hour_of_day_prices_line.png'))"
   ]
  },
  {
   "cell_type": "code",
   "execution_count": 43,
   "id": "3e11edcb",
   "metadata": {},
   "outputs": [],
   "source": [
    "# dependants & age line chart"
   ]
  },
  {
   "cell_type": "code",
   "execution_count": 44,
   "id": "b11dc049",
   "metadata": {},
   "outputs": [],
   "source": [
    "line_2.figure.savefig(os.path.join(path, '04 Analysis', 'n_dependants_age_line.png'))"
   ]
  },
  {
   "cell_type": "code",
   "execution_count": 45,
   "id": "ffffd5be",
   "metadata": {},
   "outputs": [],
   "source": [
    "# age_income scatter"
   ]
  },
  {
   "cell_type": "code",
   "execution_count": 46,
   "id": "26a681f3",
   "metadata": {},
   "outputs": [],
   "source": [
    "scatter.figure.savefig(os.path.join(path, '04 Analysis', 'age_income_scatter.png'))"
   ]
  }
 ],
 "metadata": {
  "kernelspec": {
   "display_name": "Python 3 (ipykernel)",
   "language": "python",
   "name": "python3"
  },
  "language_info": {
   "codemirror_mode": {
    "name": "ipython",
    "version": 3
   },
   "file_extension": ".py",
   "mimetype": "text/x-python",
   "name": "python",
   "nbconvert_exporter": "python",
   "pygments_lexer": "ipython3",
   "version": "3.9.7"
  }
 },
 "nbformat": 4,
 "nbformat_minor": 5
}
