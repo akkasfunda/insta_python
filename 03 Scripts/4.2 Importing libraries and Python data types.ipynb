{
 "cells": [
  {
   "cell_type": "markdown",
   "id": "ee05c5b4",
   "metadata": {},
   "source": [
    "# 01. Importing libraries"
   ]
  },
  {
   "cell_type": "code",
   "execution_count": 1,
   "id": "abd03324",
   "metadata": {},
   "outputs": [],
   "source": [
    "# Import libraries\n",
    "import pandas as pd\n",
    "import numpy as np\n",
    "import os"
   ]
  },
  {
   "cell_type": "markdown",
   "id": "d2a27119",
   "metadata": {},
   "source": [
    "# 02. Python data types"
   ]
  },
  {
   "cell_type": "code",
   "execution_count": 2,
   "id": "8fe5367d",
   "metadata": {},
   "outputs": [],
   "source": [
    " x=97"
   ]
  },
  {
   "cell_type": "code",
   "execution_count": 3,
   "id": "d62b8b85",
   "metadata": {},
   "outputs": [
    {
     "data": {
      "text/plain": [
       "100"
      ]
     },
     "execution_count": 3,
     "metadata": {},
     "output_type": "execute_result"
    }
   ],
   "source": [
    " x+3"
   ]
  },
  {
   "cell_type": "code",
   "execution_count": 4,
   "id": "f3b80ca4",
   "metadata": {},
   "outputs": [],
   "source": [
    " y = 3"
   ]
  },
  {
   "cell_type": "code",
   "execution_count": 5,
   "id": "85e2835d",
   "metadata": {},
   "outputs": [
    {
     "data": {
      "text/plain": [
       "100"
      ]
     },
     "execution_count": 5,
     "metadata": {},
     "output_type": "execute_result"
    }
   ],
   "source": [
    " x+y"
   ]
  },
  {
   "cell_type": "code",
   "execution_count": 6,
   "id": "1fe54a33",
   "metadata": {},
   "outputs": [],
   "source": [
    " z=103"
   ]
  },
  {
   "cell_type": "code",
   "execution_count": 7,
   "id": "404e0e6e",
   "metadata": {},
   "outputs": [
    {
     "data": {
      "text/plain": [
       "100"
      ]
     },
     "execution_count": 7,
     "metadata": {},
     "output_type": "execute_result"
    }
   ],
   "source": [
    " z-y"
   ]
  },
  {
   "cell_type": "code",
   "execution_count": 17,
   "id": "dd6c4968",
   "metadata": {},
   "outputs": [],
   "source": [
    "e = 3.10"
   ]
  },
  {
   "cell_type": "code",
   "execution_count": 18,
   "id": "b1ffd175",
   "metadata": {},
   "outputs": [],
   "source": [
    "f = 2.10"
   ]
  },
  {
   "cell_type": "code",
   "execution_count": 19,
   "id": "4ea34665",
   "metadata": {},
   "outputs": [
    {
     "data": {
      "text/plain": [
       "1.4761904761904763"
      ]
     },
     "execution_count": 19,
     "metadata": {},
     "output_type": "execute_result"
    }
   ],
   "source": [
    "e/f"
   ]
  },
  {
   "cell_type": "code",
   "execution_count": 20,
   "id": "0cb2411e",
   "metadata": {},
   "outputs": [],
   "source": [
    "a = \"Hello, \""
   ]
  },
  {
   "cell_type": "code",
   "execution_count": 9,
   "id": "b5b5dcc2",
   "metadata": {},
   "outputs": [],
   "source": [
    "b = \"Ada\" "
   ]
  },
  {
   "cell_type": "code",
   "execution_count": 10,
   "id": "e5e7b486",
   "metadata": {},
   "outputs": [
    {
     "data": {
      "text/plain": [
       "'Hello, Ada'"
      ]
     },
     "execution_count": 10,
     "metadata": {},
     "output_type": "execute_result"
    }
   ],
   "source": [
    " a + b"
   ]
  },
  {
   "cell_type": "code",
   "execution_count": 11,
   "id": "10e1dc3b",
   "metadata": {},
   "outputs": [],
   "source": [
    "c = \"Anything, \" "
   ]
  },
  {
   "cell_type": "code",
   "execution_count": 12,
   "id": "77d3d6e1",
   "metadata": {},
   "outputs": [],
   "source": [
    "d = \"You like\""
   ]
  },
  {
   "cell_type": "code",
   "execution_count": 13,
   "id": "e2973892",
   "metadata": {},
   "outputs": [
    {
     "data": {
      "text/plain": [
       "'Anything, You like'"
      ]
     },
     "execution_count": 13,
     "metadata": {},
     "output_type": "execute_result"
    }
   ],
   "source": [
    " c + d"
   ]
  },
  {
   "cell_type": "code",
   "execution_count": null,
   "id": "82fd9d00",
   "metadata": {},
   "outputs": [],
   "source": []
  }
 ],
 "metadata": {
  "kernelspec": {
   "display_name": "Python 3 (ipykernel)",
   "language": "python",
   "name": "python3"
  },
  "language_info": {
   "codemirror_mode": {
    "name": "ipython",
    "version": 3
   },
   "file_extension": ".py",
   "mimetype": "text/x-python",
   "name": "python",
   "nbconvert_exporter": "python",
   "pygments_lexer": "ipython3",
   "version": "3.9.7"
  }
 },
 "nbformat": 4,
 "nbformat_minor": 5
}
